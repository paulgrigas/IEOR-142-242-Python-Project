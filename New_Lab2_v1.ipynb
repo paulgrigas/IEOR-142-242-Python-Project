{
 "cells": [
  {
   "cell_type": "markdown",
   "metadata": {},
   "source": [
    "# LAB 2 - LINEAR REGRESSION IN PYTHON"
   ]
  },
  {
   "cell_type": "code",
   "execution_count": 1,
   "metadata": {},
   "outputs": [],
   "source": [
    "import numpy as np\n",
    "import pandas as pd"
   ]
  },
  {
   "cell_type": "code",
   "execution_count": 2,
   "metadata": {},
   "outputs": [
    {
     "name": "stdout",
     "output_type": "stream",
     "text": [
      "<class 'pandas.core.frame.DataFrame'>\n",
      "RangeIndex: 46 entries, 0 to 45\n",
      "Data columns (total 9 columns):\n",
      " #   Column           Non-Null Count  Dtype  \n",
      "---  ------           --------------  -----  \n",
      " 0   Year             46 non-null     int64  \n",
      " 1   LogAuctionIndex  46 non-null     float64\n",
      " 2   WinterRain       46 non-null     float64\n",
      " 3   HarvestRain      46 non-null     float64\n",
      " 4   GrowTemp         46 non-null     float64\n",
      " 5   HarvestTemp      46 non-null     float64\n",
      " 6   Age              46 non-null     int64  \n",
      " 7   FrancePop        46 non-null     float64\n",
      " 8   USAlcConsump     46 non-null     float64\n",
      "dtypes: float64(7), int64(2)\n",
      "memory usage: 3.4 KB\n"
     ]
    }
   ],
   "source": [
    "wine = pd.read_csv('wine_agg.csv')\n",
    "wine.info()"
   ]
  },
  {
   "cell_type": "code",
   "execution_count": 3,
   "metadata": {},
   "outputs": [
    {
     "data": {
      "text/html": [
       "<div>\n",
       "<style scoped>\n",
       "    .dataframe tbody tr th:only-of-type {\n",
       "        vertical-align: middle;\n",
       "    }\n",
       "\n",
       "    .dataframe tbody tr th {\n",
       "        vertical-align: top;\n",
       "    }\n",
       "\n",
       "    .dataframe thead th {\n",
       "        text-align: right;\n",
       "    }\n",
       "</style>\n",
       "<table border=\"1\" class=\"dataframe\">\n",
       "  <thead>\n",
       "    <tr style=\"text-align: right;\">\n",
       "      <th></th>\n",
       "      <th>Year</th>\n",
       "      <th>LogAuctionIndex</th>\n",
       "      <th>WinterRain</th>\n",
       "      <th>HarvestRain</th>\n",
       "      <th>GrowTemp</th>\n",
       "      <th>HarvestTemp</th>\n",
       "      <th>Age</th>\n",
       "      <th>FrancePop</th>\n",
       "      <th>USAlcConsump</th>\n",
       "    </tr>\n",
       "  </thead>\n",
       "  <tbody>\n",
       "    <tr>\n",
       "      <th>0</th>\n",
       "      <td>1952</td>\n",
       "      <td>7.4950</td>\n",
       "      <td>566.4</td>\n",
       "      <td>165.5</td>\n",
       "      <td>17.28</td>\n",
       "      <td>14.39</td>\n",
       "      <td>63</td>\n",
       "      <td>42.46</td>\n",
       "      <td>7.85</td>\n",
       "    </tr>\n",
       "    <tr>\n",
       "      <th>1</th>\n",
       "      <td>1953</td>\n",
       "      <td>8.0393</td>\n",
       "      <td>653.3</td>\n",
       "      <td>75.6</td>\n",
       "      <td>16.94</td>\n",
       "      <td>17.64</td>\n",
       "      <td>62</td>\n",
       "      <td>42.75</td>\n",
       "      <td>8.03</td>\n",
       "    </tr>\n",
       "    <tr>\n",
       "      <th>2</th>\n",
       "      <td>1955</td>\n",
       "      <td>7.6858</td>\n",
       "      <td>504.3</td>\n",
       "      <td>129.5</td>\n",
       "      <td>17.30</td>\n",
       "      <td>17.13</td>\n",
       "      <td>60</td>\n",
       "      <td>43.43</td>\n",
       "      <td>7.84</td>\n",
       "    </tr>\n",
       "    <tr>\n",
       "      <th>3</th>\n",
       "      <td>1957</td>\n",
       "      <td>6.9845</td>\n",
       "      <td>390.8</td>\n",
       "      <td>110.4</td>\n",
       "      <td>16.31</td>\n",
       "      <td>16.47</td>\n",
       "      <td>58</td>\n",
       "      <td>44.31</td>\n",
       "      <td>7.77</td>\n",
       "    </tr>\n",
       "    <tr>\n",
       "      <th>4</th>\n",
       "      <td>1958</td>\n",
       "      <td>6.7772</td>\n",
       "      <td>538.8</td>\n",
       "      <td>187.0</td>\n",
       "      <td>16.82</td>\n",
       "      <td>19.72</td>\n",
       "      <td>57</td>\n",
       "      <td>44.79</td>\n",
       "      <td>7.74</td>\n",
       "    </tr>\n",
       "    <tr>\n",
       "      <th>5</th>\n",
       "      <td>1959</td>\n",
       "      <td>8.0757</td>\n",
       "      <td>377.0</td>\n",
       "      <td>182.6</td>\n",
       "      <td>17.68</td>\n",
       "      <td>19.28</td>\n",
       "      <td>56</td>\n",
       "      <td>45.24</td>\n",
       "      <td>7.89</td>\n",
       "    </tr>\n",
       "    <tr>\n",
       "      <th>6</th>\n",
       "      <td>1960</td>\n",
       "      <td>6.5188</td>\n",
       "      <td>748.2</td>\n",
       "      <td>290.6</td>\n",
       "      <td>16.67</td>\n",
       "      <td>16.18</td>\n",
       "      <td>55</td>\n",
       "      <td>45.68</td>\n",
       "      <td>8.02</td>\n",
       "    </tr>\n",
       "    <tr>\n",
       "      <th>7</th>\n",
       "      <td>1961</td>\n",
       "      <td>8.4937</td>\n",
       "      <td>747.8</td>\n",
       "      <td>37.7</td>\n",
       "      <td>17.64</td>\n",
       "      <td>21.05</td>\n",
       "      <td>54</td>\n",
       "      <td>46.16</td>\n",
       "      <td>8.08</td>\n",
       "    </tr>\n",
       "    <tr>\n",
       "      <th>8</th>\n",
       "      <td>1962</td>\n",
       "      <td>7.3880</td>\n",
       "      <td>639.4</td>\n",
       "      <td>51.8</td>\n",
       "      <td>16.58</td>\n",
       "      <td>17.86</td>\n",
       "      <td>53</td>\n",
       "      <td>47.00</td>\n",
       "      <td>8.13</td>\n",
       "    </tr>\n",
       "    <tr>\n",
       "      <th>9</th>\n",
       "      <td>1964</td>\n",
       "      <td>7.3094</td>\n",
       "      <td>326.5</td>\n",
       "      <td>96.1</td>\n",
       "      <td>17.63</td>\n",
       "      <td>19.43</td>\n",
       "      <td>51</td>\n",
       "      <td>48.31</td>\n",
       "      <td>8.46</td>\n",
       "    </tr>\n",
       "    <tr>\n",
       "      <th>10</th>\n",
       "      <td>1965</td>\n",
       "      <td>6.2518</td>\n",
       "      <td>548.4</td>\n",
       "      <td>266.6</td>\n",
       "      <td>15.71</td>\n",
       "      <td>15.33</td>\n",
       "      <td>50</td>\n",
       "      <td>48.76</td>\n",
       "      <td>8.62</td>\n",
       "    </tr>\n",
       "    <tr>\n",
       "      <th>11</th>\n",
       "      <td>1966</td>\n",
       "      <td>7.7443</td>\n",
       "      <td>734.0</td>\n",
       "      <td>85.2</td>\n",
       "      <td>16.81</td>\n",
       "      <td>18.82</td>\n",
       "      <td>49</td>\n",
       "      <td>49.16</td>\n",
       "      <td>8.78</td>\n",
       "    </tr>\n",
       "    <tr>\n",
       "      <th>12</th>\n",
       "      <td>1967</td>\n",
       "      <td>6.8398</td>\n",
       "      <td>646.9</td>\n",
       "      <td>118.1</td>\n",
       "      <td>16.51</td>\n",
       "      <td>17.16</td>\n",
       "      <td>48</td>\n",
       "      <td>49.55</td>\n",
       "      <td>9.03</td>\n",
       "    </tr>\n",
       "    <tr>\n",
       "      <th>13</th>\n",
       "      <td>1968</td>\n",
       "      <td>6.2435</td>\n",
       "      <td>508.6</td>\n",
       "      <td>292.1</td>\n",
       "      <td>16.37</td>\n",
       "      <td>16.77</td>\n",
       "      <td>47</td>\n",
       "      <td>49.91</td>\n",
       "      <td>9.28</td>\n",
       "    </tr>\n",
       "    <tr>\n",
       "      <th>14</th>\n",
       "      <td>1969</td>\n",
       "      <td>6.3459</td>\n",
       "      <td>480.1</td>\n",
       "      <td>243.9</td>\n",
       "      <td>16.65</td>\n",
       "      <td>16.89</td>\n",
       "      <td>46</td>\n",
       "      <td>50.32</td>\n",
       "      <td>9.53</td>\n",
       "    </tr>\n",
       "  </tbody>\n",
       "</table>\n",
       "</div>"
      ],
      "text/plain": [
       "    Year  LogAuctionIndex  WinterRain  HarvestRain  GrowTemp  HarvestTemp  \\\n",
       "0   1952           7.4950       566.4        165.5     17.28        14.39   \n",
       "1   1953           8.0393       653.3         75.6     16.94        17.64   \n",
       "2   1955           7.6858       504.3        129.5     17.30        17.13   \n",
       "3   1957           6.9845       390.8        110.4     16.31        16.47   \n",
       "4   1958           6.7772       538.8        187.0     16.82        19.72   \n",
       "5   1959           8.0757       377.0        182.6     17.68        19.28   \n",
       "6   1960           6.5188       748.2        290.6     16.67        16.18   \n",
       "7   1961           8.4937       747.8         37.7     17.64        21.05   \n",
       "8   1962           7.3880       639.4         51.8     16.58        17.86   \n",
       "9   1964           7.3094       326.5         96.1     17.63        19.43   \n",
       "10  1965           6.2518       548.4        266.6     15.71        15.33   \n",
       "11  1966           7.7443       734.0         85.2     16.81        18.82   \n",
       "12  1967           6.8398       646.9        118.1     16.51        17.16   \n",
       "13  1968           6.2435       508.6        292.1     16.37        16.77   \n",
       "14  1969           6.3459       480.1        243.9     16.65        16.89   \n",
       "\n",
       "    Age  FrancePop  USAlcConsump  \n",
       "0    63      42.46          7.85  \n",
       "1    62      42.75          8.03  \n",
       "2    60      43.43          7.84  \n",
       "3    58      44.31          7.77  \n",
       "4    57      44.79          7.74  \n",
       "5    56      45.24          7.89  \n",
       "6    55      45.68          8.02  \n",
       "7    54      46.16          8.08  \n",
       "8    53      47.00          8.13  \n",
       "9    51      48.31          8.46  \n",
       "10   50      48.76          8.62  \n",
       "11   49      49.16          8.78  \n",
       "12   48      49.55          9.03  \n",
       "13   47      49.91          9.28  \n",
       "14   46      50.32          9.53  "
      ]
     },
     "execution_count": 3,
     "metadata": {},
     "output_type": "execute_result"
    }
   ],
   "source": [
    "wine.head(15)"
   ]
  },
  {
   "cell_type": "code",
   "execution_count": 4,
   "metadata": {},
   "outputs": [],
   "source": [
    "# Two types of programming exploration: \n",
    "# 1. finding which function to use \n",
    "# 2. understanding how to use a function once you've found it \n",
    "\n",
    "# For 1.: -- Try to target the problem you want to address as succinctly as possible in google.\n",
    "# ---------- Read the description of the function and what it returns\n",
    "\n",
    "# For 2.: -- What to do with new functions that you've never seen before? \n",
    "# ---------- Read the arguments carefully, look at examples, try it out and test output"
   ]
  },
  {
   "cell_type": "code",
   "execution_count": 6,
   "metadata": {},
   "outputs": [
    {
     "ename": "SyntaxError",
     "evalue": "invalid syntax (<ipython-input-6-1b9057fb64ae>, line 3)",
     "output_type": "error",
     "traceback": [
      "\u001b[0;36m  File \u001b[0;32m\"<ipython-input-6-1b9057fb64ae>\"\u001b[0;36m, line \u001b[0;32m3\u001b[0m\n\u001b[0;31m    ggscatmat(wine, columns = 2:9, alpha = 0.8)\u001b[0m\n\u001b[0m                               ^\u001b[0m\n\u001b[0;31mSyntaxError\u001b[0m\u001b[0;31m:\u001b[0m invalid syntax\n"
     ]
    }
   ],
   "source": [
    "# Plot scatter matrix\n",
    "# density plots on the diagonal and correlation printed in the upper triangle\n",
    "ggscatmat(wine, columns = 2:9, alpha = 0.8)"
   ]
  },
  {
   "cell_type": "code",
   "execution_count": 7,
   "metadata": {
    "scrolled": true
   },
   "outputs": [
    {
     "data": {
      "text/html": [
       "<div>\n",
       "<style scoped>\n",
       "    .dataframe tbody tr th:only-of-type {\n",
       "        vertical-align: middle;\n",
       "    }\n",
       "\n",
       "    .dataframe tbody tr th {\n",
       "        vertical-align: top;\n",
       "    }\n",
       "\n",
       "    .dataframe thead th {\n",
       "        text-align: right;\n",
       "    }\n",
       "</style>\n",
       "<table border=\"1\" class=\"dataframe\">\n",
       "  <thead>\n",
       "    <tr style=\"text-align: right;\">\n",
       "      <th></th>\n",
       "      <th>Year</th>\n",
       "      <th>LogAuctionIndex</th>\n",
       "      <th>WinterRain</th>\n",
       "      <th>HarvestRain</th>\n",
       "      <th>GrowTemp</th>\n",
       "      <th>HarvestTemp</th>\n",
       "      <th>Age</th>\n",
       "      <th>FrancePop</th>\n",
       "      <th>USAlcConsump</th>\n",
       "    </tr>\n",
       "  </thead>\n",
       "  <tbody>\n",
       "    <tr>\n",
       "      <th>Year</th>\n",
       "      <td>1.000000</td>\n",
       "      <td>-0.011346</td>\n",
       "      <td>-0.032424</td>\n",
       "      <td>0.128569</td>\n",
       "      <td>0.600924</td>\n",
       "      <td>0.277000</td>\n",
       "      <td>-1.000000</td>\n",
       "      <td>0.986137</td>\n",
       "      <td>0.131949</td>\n",
       "    </tr>\n",
       "    <tr>\n",
       "      <th>LogAuctionIndex</th>\n",
       "      <td>-0.011346</td>\n",
       "      <td>1.000000</td>\n",
       "      <td>0.058326</td>\n",
       "      <td>-0.525882</td>\n",
       "      <td>0.559727</td>\n",
       "      <td>0.469832</td>\n",
       "      <td>0.011346</td>\n",
       "      <td>-0.076993</td>\n",
       "      <td>-0.271188</td>\n",
       "    </tr>\n",
       "    <tr>\n",
       "      <th>WinterRain</th>\n",
       "      <td>-0.032424</td>\n",
       "      <td>0.058326</td>\n",
       "      <td>1.000000</td>\n",
       "      <td>-0.120258</td>\n",
       "      <td>-0.214181</td>\n",
       "      <td>-0.046874</td>\n",
       "      <td>0.032424</td>\n",
       "      <td>-0.045196</td>\n",
       "      <td>0.004174</td>\n",
       "    </tr>\n",
       "    <tr>\n",
       "      <th>HarvestRain</th>\n",
       "      <td>0.128569</td>\n",
       "      <td>-0.525882</td>\n",
       "      <td>-0.120258</td>\n",
       "      <td>1.000000</td>\n",
       "      <td>0.036437</td>\n",
       "      <td>-0.410439</td>\n",
       "      <td>-0.128569</td>\n",
       "      <td>0.112394</td>\n",
       "      <td>-0.220185</td>\n",
       "    </tr>\n",
       "    <tr>\n",
       "      <th>GrowTemp</th>\n",
       "      <td>0.600924</td>\n",
       "      <td>0.559727</td>\n",
       "      <td>-0.214181</td>\n",
       "      <td>0.036437</td>\n",
       "      <td>1.000000</td>\n",
       "      <td>0.513076</td>\n",
       "      <td>-0.600924</td>\n",
       "      <td>0.516918</td>\n",
       "      <td>-0.352116</td>\n",
       "    </tr>\n",
       "    <tr>\n",
       "      <th>HarvestTemp</th>\n",
       "      <td>0.277000</td>\n",
       "      <td>0.469832</td>\n",
       "      <td>-0.046874</td>\n",
       "      <td>-0.410439</td>\n",
       "      <td>0.513076</td>\n",
       "      <td>1.000000</td>\n",
       "      <td>-0.277000</td>\n",
       "      <td>0.250442</td>\n",
       "      <td>-0.035964</td>\n",
       "    </tr>\n",
       "    <tr>\n",
       "      <th>Age</th>\n",
       "      <td>-1.000000</td>\n",
       "      <td>0.011346</td>\n",
       "      <td>0.032424</td>\n",
       "      <td>-0.128569</td>\n",
       "      <td>-0.600924</td>\n",
       "      <td>-0.277000</td>\n",
       "      <td>1.000000</td>\n",
       "      <td>-0.986137</td>\n",
       "      <td>-0.131949</td>\n",
       "    </tr>\n",
       "    <tr>\n",
       "      <th>FrancePop</th>\n",
       "      <td>0.986137</td>\n",
       "      <td>-0.076993</td>\n",
       "      <td>-0.045196</td>\n",
       "      <td>0.112394</td>\n",
       "      <td>0.516918</td>\n",
       "      <td>0.250442</td>\n",
       "      <td>-0.986137</td>\n",
       "      <td>1.000000</td>\n",
       "      <td>0.269647</td>\n",
       "    </tr>\n",
       "    <tr>\n",
       "      <th>USAlcConsump</th>\n",
       "      <td>0.131949</td>\n",
       "      <td>-0.271188</td>\n",
       "      <td>0.004174</td>\n",
       "      <td>-0.220185</td>\n",
       "      <td>-0.352116</td>\n",
       "      <td>-0.035964</td>\n",
       "      <td>-0.131949</td>\n",
       "      <td>0.269647</td>\n",
       "      <td>1.000000</td>\n",
       "    </tr>\n",
       "  </tbody>\n",
       "</table>\n",
       "</div>"
      ],
      "text/plain": [
       "                     Year  LogAuctionIndex  WinterRain  HarvestRain  GrowTemp  \\\n",
       "Year             1.000000        -0.011346   -0.032424     0.128569  0.600924   \n",
       "LogAuctionIndex -0.011346         1.000000    0.058326    -0.525882  0.559727   \n",
       "WinterRain      -0.032424         0.058326    1.000000    -0.120258 -0.214181   \n",
       "HarvestRain      0.128569        -0.525882   -0.120258     1.000000  0.036437   \n",
       "GrowTemp         0.600924         0.559727   -0.214181     0.036437  1.000000   \n",
       "HarvestTemp      0.277000         0.469832   -0.046874    -0.410439  0.513076   \n",
       "Age             -1.000000         0.011346    0.032424    -0.128569 -0.600924   \n",
       "FrancePop        0.986137        -0.076993   -0.045196     0.112394  0.516918   \n",
       "USAlcConsump     0.131949        -0.271188    0.004174    -0.220185 -0.352116   \n",
       "\n",
       "                 HarvestTemp       Age  FrancePop  USAlcConsump  \n",
       "Year                0.277000 -1.000000   0.986137      0.131949  \n",
       "LogAuctionIndex     0.469832  0.011346  -0.076993     -0.271188  \n",
       "WinterRain         -0.046874  0.032424  -0.045196      0.004174  \n",
       "HarvestRain        -0.410439 -0.128569   0.112394     -0.220185  \n",
       "GrowTemp            0.513076 -0.600924   0.516918     -0.352116  \n",
       "HarvestTemp         1.000000 -0.277000   0.250442     -0.035964  \n",
       "Age                -0.277000  1.000000  -0.986137     -0.131949  \n",
       "FrancePop           0.250442 -0.986137   1.000000      0.269647  \n",
       "USAlcConsump       -0.035964 -0.131949   0.269647      1.000000  "
      ]
     },
     "execution_count": 7,
     "metadata": {},
     "output_type": "execute_result"
    }
   ],
   "source": [
    "wine.corr()"
   ]
  },
  {
   "cell_type": "code",
   "execution_count": 8,
   "metadata": {},
   "outputs": [
    {
     "data": {
      "text/plain": [
       "(31, 15)"
      ]
     },
     "execution_count": 8,
     "metadata": {},
     "output_type": "execute_result"
    }
   ],
   "source": [
    "# split into training and test sets \n",
    "\n",
    "## Boolean indicators: return true or false. \n",
    "# A & B = elements of the vector that have both true \n",
    "# A | B = or \n",
    "# A > b = ?\n",
    "# A <= b = ? \n",
    "\n",
    "wine_train = wine[wine['Year'] <= 1985]\n",
    "wine_test = wine[wine['Year'] > 1985]\n",
    "\n",
    "len(wine_train), len(wine_test)"
   ]
  },
  {
   "cell_type": "code",
   "execution_count": 9,
   "metadata": {},
   "outputs": [
    {
     "data": {
      "text/plain": [
       "20"
      ]
     },
     "execution_count": 9,
     "metadata": {},
     "output_type": "execute_result"
    }
   ],
   "source": [
    "### produce wine_train2 which is composed of wine that's older than 40\n",
    "wine_train2 = wine[wine['Age'] > 40]\n",
    "\n",
    "### How many rows does this have? (use the function nrows(dataframe)) \n",
    "len(wine_train2)"
   ]
  },
  {
   "cell_type": "code",
   "execution_count": 10,
   "metadata": {},
   "outputs": [
    {
     "data": {
      "text/plain": [
       "41"
      ]
     },
     "execution_count": 10,
     "metadata": {},
     "output_type": "execute_result"
    }
   ],
   "source": [
    "## produce wine.train3 which is composed of wine less than Year 1985 or older than year 1990. \n",
    "wine_train3 = wine[(wine['Year'] <= 1985) | (wine['Year'] > 1990)]\n",
    "\n",
    "# How many rows is the rest of the dataset, other than wine.train3? \n",
    "len(wine_train3)"
   ]
  },
  {
   "cell_type": "code",
   "execution_count": 12,
   "metadata": {},
   "outputs": [
    {
     "ename": "NameError",
     "evalue": "name 'X' is not defined",
     "output_type": "error",
     "traceback": [
      "\u001b[0;31m---------------------------------------------------------------------------\u001b[0m",
      "\u001b[0;31mNameError\u001b[0m                                 Traceback (most recent call last)",
      "\u001b[0;32m<ipython-input-12-3a91d02f783e>\u001b[0m in \u001b[0;36m<module>\u001b[0;34m\u001b[0m\n\u001b[1;32m      2\u001b[0m \u001b[0;32mfrom\u001b[0m \u001b[0msklearn\u001b[0m\u001b[0;34m.\u001b[0m\u001b[0mmodel_selection\u001b[0m \u001b[0;32mimport\u001b[0m \u001b[0mtrain_test_split\u001b[0m\u001b[0;34m\u001b[0m\u001b[0;34m\u001b[0m\u001b[0m\n\u001b[1;32m      3\u001b[0m \u001b[0;34m\u001b[0m\u001b[0m\n\u001b[0;32m----> 4\u001b[0;31m \u001b[0mX_train\u001b[0m\u001b[0;34m,\u001b[0m \u001b[0mX_test\u001b[0m\u001b[0;34m,\u001b[0m \u001b[0my_train\u001b[0m\u001b[0;34m,\u001b[0m \u001b[0my_test\u001b[0m \u001b[0;34m=\u001b[0m \u001b[0mtrain_test_split\u001b[0m\u001b[0;34m(\u001b[0m\u001b[0mX\u001b[0m\u001b[0;34m,\u001b[0m \u001b[0my\u001b[0m\u001b[0;34m,\u001b[0m \u001b[0mtest_size\u001b[0m\u001b[0;34m=\u001b[0m\u001b[0;36m0.25\u001b[0m\u001b[0;34m,\u001b[0m \u001b[0mrandom_state\u001b[0m\u001b[0;34m=\u001b[0m\u001b[0;36m88\u001b[0m\u001b[0;34m)\u001b[0m\u001b[0;34m\u001b[0m\u001b[0;34m\u001b[0m\u001b[0m\n\u001b[0m",
      "\u001b[0;31mNameError\u001b[0m: name 'X' is not defined"
     ]
    }
   ],
   "source": [
    "## train_test_split\n",
    "from sklearn.model_selection import train_test_split\n",
    "\n",
    "X_train, X_test, y_train, y_test = train_test_split(X, y, test_size=0.25, random_state=88)"
   ]
  },
  {
   "cell_type": "code",
   "execution_count": 45,
   "metadata": {},
   "outputs": [
    {
     "name": "stdout",
     "output_type": "stream",
     "text": [
      "R_squared: 0.7893825400143979\n"
     ]
    }
   ],
   "source": [
    "# train the model\n",
    "from sklearn.linear_model import LinearRegression\n",
    "\n",
    "# choose the features to be used\n",
    "cols = ['WinterRain', 'HarvestRain', 'GrowTemp', 'HarvestTemp', 'Age', 'FrancePop', 'USAlcConsump']\n",
    "X_train = wine_train[cols]\n",
    "y_train = wine_train['LogAuctionIndex']\n",
    "\n",
    "model1 = LinearRegression().fit(X_train, y_train)\n",
    "R_squared = model1.score(X_train, y_train)\n",
    "\n",
    "print('R_squared:', R_squared)"
   ]
  },
  {
   "cell_type": "code",
   "execution_count": 46,
   "metadata": {},
   "outputs": [
    {
     "name": "stdout",
     "output_type": "stream",
     "text": [
      "Intercept: -4.966269860051351\n",
      "Coefficients: [ 0.00118631 -0.00331372  0.65827531  0.00442121  0.02400801 -0.02902582\n",
      "  0.10925614]\n"
     ]
    }
   ],
   "source": [
    "intercept = model1.intercept_\n",
    "coefficients = model1.coef_\n",
    "\n",
    "print('Intercept:', intercept)\n",
    "print('Coefficients:', coefficients)"
   ]
  },
  {
   "cell_type": "code",
   "execution_count": 47,
   "metadata": {},
   "outputs": [
    {
     "name": "stdout",
     "output_type": "stream",
     "text": [
      "0.5112750280172021\n"
     ]
    }
   ],
   "source": [
    "# compute out-of-sample R_squared\n",
    "X_test = wine_test[cols]\n",
    "y_test = wine_test['LogAuctionIndex']\n",
    "\n",
    "wine_predictions = model1.predict(X_test)\n",
    "OSR_squared = model1.score(X_test, y_test)\n",
    "print(OSR_squared)"
   ]
  },
  {
   "cell_type": "code",
   "execution_count": 17,
   "metadata": {},
   "outputs": [
    {
     "ename": "NameError",
     "evalue": "name 'ggcoef' is not defined",
     "output_type": "error",
     "traceback": [
      "\u001b[0;31m---------------------------------------------------------------------------\u001b[0m",
      "\u001b[0;31mNameError\u001b[0m                                 Traceback (most recent call last)",
      "\u001b[0;32m<ipython-input-17-c4859fcb54f8>\u001b[0m in \u001b[0;36m<module>\u001b[0;34m\u001b[0m\n\u001b[1;32m      1\u001b[0m \u001b[0;31m# Confidence interval plot\u001b[0m\u001b[0;34m\u001b[0m\u001b[0;34m\u001b[0m\u001b[0;34m\u001b[0m\u001b[0m\n\u001b[0;32m----> 2\u001b[0;31m ggcoef(\n\u001b[0m\u001b[1;32m      3\u001b[0m   \u001b[0mmod1\u001b[0m\u001b[0;34m,\u001b[0m\u001b[0;34m\u001b[0m\u001b[0;34m\u001b[0m\u001b[0m\n\u001b[1;32m      4\u001b[0m   \u001b[0mvline_color\u001b[0m \u001b[0;34m=\u001b[0m \u001b[0;34m\"red\"\u001b[0m\u001b[0;34m,\u001b[0m\u001b[0;34m\u001b[0m\u001b[0;34m\u001b[0m\u001b[0m\n\u001b[1;32m      5\u001b[0m   \u001b[0mvline_linetype\u001b[0m \u001b[0;34m=\u001b[0m  \u001b[0;34m\"solid\"\u001b[0m\u001b[0;34m,\u001b[0m\u001b[0;34m\u001b[0m\u001b[0;34m\u001b[0m\u001b[0m\n",
      "\u001b[0;31mNameError\u001b[0m: name 'ggcoef' is not defined"
     ]
    }
   ],
   "source": [
    "# Confidence interval plot\n",
    "ggcoef(\n",
    "  mod1,\n",
    "  vline_color = \"red\",\n",
    "  vline_linetype =  \"solid\",\n",
    "  errorbar_color = \"blue\",\n",
    "  errorbar_height = .25,\n",
    "  exclude_intercept = TRUE\n",
    ")"
   ]
  },
  {
   "cell_type": "code",
   "execution_count": 50,
   "metadata": {},
   "outputs": [
    {
     "name": "stdout",
     "output_type": "stream",
     "text": [
      "       Variable          VIF\n",
      "0    WinterRain    25.652357\n",
      "1   HarvestRain     7.700264\n",
      "2      GrowTemp   937.963661\n",
      "3   HarvestTemp   317.345758\n",
      "4           Age    70.892270\n",
      "5     FrancePop  1490.840277\n",
      "6  USAlcConsump   697.325915\n"
     ]
    }
   ],
   "source": [
    "# Compute Variance Inflation Factor\n",
    "from statsmodels.stats.outliers_influence import variance_inflation_factor\n",
    "from patsy import dmatrices\n",
    "\n",
    "# find design matrix for linear regression model using 'rating' as response variable\n",
    "y, X = dmatrices('LogAuctionIndex ~ WinterRain + HarvestRain + GrowTemp + HarvestTemp + Age + FrancePop + USAlcConsump', data=wine_train, return_type='dataframe')\n",
    "\n",
    "#calculate VIF for each explanatory variable\n",
    "vif = pd.DataFrame()\n",
    "vif['Variable'] = cols\n",
    "vif['VIF'] = [variance_inflation_factor(X_train.values, i) for i in range(X_train.shape[1])]\n",
    "print(vif)"
   ]
  },
  {
   "cell_type": "code",
   "execution_count": 51,
   "metadata": {},
   "outputs": [
    {
     "name": "stdout",
     "output_type": "stream",
     "text": [
      "R_squared: 0.7889712664249059\n",
      "Intercept: -6.8404547511643345\n",
      "Coefficients: [ 0.00121447 -0.00336111  0.66713895  0.00205428  0.03405193  0.09333345]\n"
     ]
    }
   ],
   "source": [
    "# A better model...\n",
    "# Remove FrancePop\n",
    "cols = ['WinterRain', 'HarvestRain', 'GrowTemp', 'HarvestTemp', 'Age', 'USAlcConsump']\n",
    "X_train = wine_train[cols]\n",
    "\n",
    "model2 = LinearRegression().fit(X_train, y_train)\n",
    "R_squared = model2.score(X_train, y_train)\n",
    "\n",
    "print('R_squared:', R_squared)\n",
    "print('Intercept:', model2.intercept_)\n",
    "print('Coefficients:', model2.coef_)"
   ]
  },
  {
   "cell_type": "code",
   "execution_count": 52,
   "metadata": {},
   "outputs": [
    {
     "name": "stdout",
     "output_type": "stream",
     "text": [
      "       Variable         VIF\n",
      "0    WinterRain   23.004328\n",
      "1   HarvestRain    7.155326\n",
      "2      GrowTemp  826.536456\n",
      "3   HarvestTemp  297.464711\n",
      "4           Age   68.656865\n",
      "5  USAlcConsump  174.642488\n"
     ]
    }
   ],
   "source": [
    "#calculate VIF for each explanatory variable\n",
    "vif = pd.DataFrame()\n",
    "vif['Variable'] = cols\n",
    "vif['VIF'] = [variance_inflation_factor(X_train.values, i) for i in range(X_train.shape[1])]\n",
    "print(vif)"
   ]
  },
  {
   "cell_type": "code",
   "execution_count": 27,
   "metadata": {},
   "outputs": [
    {
     "name": "stdout",
     "output_type": "stream",
     "text": [
      "R_squared: 0.7854327624339223\n",
      "Intercept: -5.215160745942302\n",
      "Coefficients: [ 0.0011187  -0.00343665  0.66433558 -0.00665042  0.02346564]\n",
      "      Variable         VIF\n",
      "0   WinterRain   22.635343\n",
      "1  HarvestRain    7.070675\n",
      "2     GrowTemp  385.498637\n",
      "3  HarvestTemp  292.545126\n",
      "4          Age   23.996277\n"
     ]
    }
   ],
   "source": [
    "# Remove USAlcConsump\n",
    "cols = ['WinterRain', 'HarvestRain', 'GrowTemp', 'HarvestTemp', 'Age']\n",
    "X_train = wine_train[cols]\n",
    "\n",
    "model3 = LinearRegression().fit(X_train, y_train)\n",
    "R_squared = model3.score(X_train, y_train)\n",
    "\n",
    "print('R_squared:', R_squared)\n",
    "print('Intercept:', model3.intercept_)\n",
    "print('Coefficients:', model3.coef_)\n",
    "\n",
    "vif = pd.DataFrame()\n",
    "vif['Variable'] = cols\n",
    "vif['VIF'] = [variance_inflation_factor(X_train.values, i) for i in range(X_train.shape[1])]\n",
    "print(vif)"
   ]
  },
  {
   "cell_type": "code",
   "execution_count": 29,
   "metadata": {},
   "outputs": [
    {
     "name": "stdout",
     "output_type": "stream",
     "text": [
      "R_squared: 0.7853092236309159\n",
      "Intercept: -5.216394470072399\n",
      "Coefficients: [ 0.00111161 -0.00337659  0.65692713  0.02355713]\n",
      "      Variable        VIF\n",
      "0   WinterRain  22.276546\n",
      "1  HarvestRain   5.233397\n",
      "2     GrowTemp  51.285526\n",
      "3          Age  23.622829\n"
     ]
    }
   ],
   "source": [
    "# Remove HarvestTemp\n",
    "cols = ['WinterRain', 'HarvestRain', 'GrowTemp', 'Age']\n",
    "X_train = wine_train[cols]\n",
    "\n",
    "model4 = LinearRegression().fit(X_train, y_train)\n",
    "R_squared = model4.score(X_train, y_train)\n",
    "\n",
    "print('R_squared:', R_squared)\n",
    "print('Intercept:', model4.intercept_)\n",
    "print('Coefficients:', model4.coef_)\n",
    "\n",
    "vif = pd.DataFrame()\n",
    "vif['Variable'] = cols\n",
    "vif['VIF'] = [variance_inflation_factor(X_train.values, i) for i in range(X_train.shape[1])]\n",
    "print(vif)"
   ]
  },
  {
   "cell_type": "code",
   "execution_count": null,
   "metadata": {},
   "outputs": [],
   "source": [
    "# ## produce a model that outputs the effect of an increase of log(1) of USAlcConsump controlling for Age\n",
    "# # whats' the coefficient associated with \n",
    "\n"
   ]
  },
  {
   "cell_type": "code",
   "execution_count": 53,
   "metadata": {},
   "outputs": [
    {
     "name": "stdout",
     "output_type": "stream",
     "text": [
      "R_squared: 0.7857824505652585\n",
      "Intercept: -7.397844928185781\n",
      "Coefficients: [ 0.00109252 -0.00344838  0.78593501  0.07458611 -0.00299102]\n"
     ]
    },
    {
     "name": "stderr",
     "output_type": "stream",
     "text": [
      "/Users/stefanozavagli/anaconda3/lib/python3.7/site-packages/ipykernel_launcher.py:5: SettingWithCopyWarning: \n",
      "A value is trying to be set on a copy of a slice from a DataFrame.\n",
      "Try using .loc[row_indexer,col_indexer] = value instead\n",
      "\n",
      "See the caveats in the documentation: https://pandas.pydata.org/pandas-docs/stable/user_guide/indexing.html#returning-a-view-versus-a-copy\n",
      "  \"\"\"\n"
     ]
    }
   ],
   "source": [
    "wine_train['GrowTemp*Age'] = wine_train['GrowTemp']*wine_train['Age']\n",
    "cols = ['WinterRain', 'HarvestRain', 'GrowTemp', 'Age', 'GrowTemp*Age']\n",
    "X_train = wine_train[cols]\n",
    "\n",
    "model5 = LinearRegression().fit(X_train, y_train)\n",
    "R_squared = model5.score(X_train, y_train)\n",
    "\n",
    "print('R_squared:', R_squared)\n",
    "print('Intercept:', model5.intercept_)\n",
    "print('Coefficients:', model5.coef_)"
   ]
  },
  {
   "cell_type": "code",
   "execution_count": 55,
   "metadata": {},
   "outputs": [
    {
     "name": "stdout",
     "output_type": "stream",
     "text": [
      "<class 'pandas.core.frame.DataFrame'>\n",
      "RangeIndex: 147 entries, 0 to 146\n",
      "Data columns (total 10 columns):\n",
      " #   Column        Non-Null Count  Dtype  \n",
      "---  ------        --------------  -----  \n",
      " 0   Winery        147 non-null    object \n",
      " 1   Year          147 non-null    int64  \n",
      " 2   Age           147 non-null    int64  \n",
      " 3   LogAuction    147 non-null    float64\n",
      " 4   WinterRain    147 non-null    float64\n",
      " 5   HarvestRain   147 non-null    float64\n",
      " 6   GrowTemp      147 non-null    float64\n",
      " 7   HarvestTemp   147 non-null    float64\n",
      " 8   FrancePop     147 non-null    float64\n",
      " 9   USAlcConsump  147 non-null    float64\n",
      "dtypes: float64(7), int64(2), object(1)\n",
      "memory usage: 11.6+ KB\n"
     ]
    },
    {
     "data": {
      "text/html": [
       "<div>\n",
       "<style scoped>\n",
       "    .dataframe tbody tr th:only-of-type {\n",
       "        vertical-align: middle;\n",
       "    }\n",
       "\n",
       "    .dataframe tbody tr th {\n",
       "        vertical-align: top;\n",
       "    }\n",
       "\n",
       "    .dataframe thead th {\n",
       "        text-align: right;\n",
       "    }\n",
       "</style>\n",
       "<table border=\"1\" class=\"dataframe\">\n",
       "  <thead>\n",
       "    <tr style=\"text-align: right;\">\n",
       "      <th></th>\n",
       "      <th>Winery</th>\n",
       "      <th>Year</th>\n",
       "      <th>Age</th>\n",
       "      <th>LogAuction</th>\n",
       "      <th>WinterRain</th>\n",
       "      <th>HarvestRain</th>\n",
       "      <th>GrowTemp</th>\n",
       "      <th>HarvestTemp</th>\n",
       "      <th>FrancePop</th>\n",
       "      <th>USAlcConsump</th>\n",
       "    </tr>\n",
       "  </thead>\n",
       "  <tbody>\n",
       "    <tr>\n",
       "      <th>0</th>\n",
       "      <td>Cheval Blanc</td>\n",
       "      <td>1952</td>\n",
       "      <td>63</td>\n",
       "      <td>6.653108</td>\n",
       "      <td>566.4</td>\n",
       "      <td>165.5</td>\n",
       "      <td>17.28</td>\n",
       "      <td>14.39</td>\n",
       "      <td>42.46</td>\n",
       "      <td>7.85</td>\n",
       "    </tr>\n",
       "    <tr>\n",
       "      <th>1</th>\n",
       "      <td>Lafite-Rothschild</td>\n",
       "      <td>1952</td>\n",
       "      <td>63</td>\n",
       "      <td>6.861502</td>\n",
       "      <td>566.4</td>\n",
       "      <td>165.5</td>\n",
       "      <td>17.28</td>\n",
       "      <td>14.39</td>\n",
       "      <td>42.46</td>\n",
       "      <td>7.85</td>\n",
       "    </tr>\n",
       "    <tr>\n",
       "      <th>2</th>\n",
       "      <td>Cheval Blanc</td>\n",
       "      <td>1953</td>\n",
       "      <td>62</td>\n",
       "      <td>6.664192</td>\n",
       "      <td>653.3</td>\n",
       "      <td>75.6</td>\n",
       "      <td>16.94</td>\n",
       "      <td>17.64</td>\n",
       "      <td>42.75</td>\n",
       "      <td>8.03</td>\n",
       "    </tr>\n",
       "    <tr>\n",
       "      <th>3</th>\n",
       "      <td>Cheval Blanc</td>\n",
       "      <td>1955</td>\n",
       "      <td>60</td>\n",
       "      <td>6.311426</td>\n",
       "      <td>504.3</td>\n",
       "      <td>129.5</td>\n",
       "      <td>17.30</td>\n",
       "      <td>17.13</td>\n",
       "      <td>43.43</td>\n",
       "      <td>7.84</td>\n",
       "    </tr>\n",
       "    <tr>\n",
       "      <th>4</th>\n",
       "      <td>Lafite-Rothschild</td>\n",
       "      <td>1955</td>\n",
       "      <td>60</td>\n",
       "      <td>6.550209</td>\n",
       "      <td>504.3</td>\n",
       "      <td>129.5</td>\n",
       "      <td>17.30</td>\n",
       "      <td>17.13</td>\n",
       "      <td>43.43</td>\n",
       "      <td>7.84</td>\n",
       "    </tr>\n",
       "  </tbody>\n",
       "</table>\n",
       "</div>"
      ],
      "text/plain": [
       "              Winery  Year  Age  LogAuction  WinterRain  HarvestRain  \\\n",
       "0       Cheval Blanc  1952   63    6.653108       566.4        165.5   \n",
       "1  Lafite-Rothschild  1952   63    6.861502       566.4        165.5   \n",
       "2       Cheval Blanc  1953   62    6.664192       653.3         75.6   \n",
       "3       Cheval Blanc  1955   60    6.311426       504.3        129.5   \n",
       "4  Lafite-Rothschild  1955   60    6.550209       504.3        129.5   \n",
       "\n",
       "   GrowTemp  HarvestTemp  FrancePop  USAlcConsump  \n",
       "0     17.28        14.39      42.46          7.85  \n",
       "1     17.28        14.39      42.46          7.85  \n",
       "2     16.94        17.64      42.75          8.03  \n",
       "3     17.30        17.13      43.43          7.84  \n",
       "4     17.30        17.13      43.43          7.84  "
      ]
     },
     "execution_count": 55,
     "metadata": {},
     "output_type": "execute_result"
    }
   ],
   "source": [
    "# # Categorical Variables\n",
    "wine_new = pd.read_csv(\"wine_disagg.csv\")\n",
    "wine_new_train = wine_new[wine_new['Year'] <= 1985]\n",
    "wine_new_test = wine_new[wine_new['Year'] > 1985]\n",
    "\n",
    "wine_new.info()\n",
    "wine_new.head()"
   ]
  },
  {
   "cell_type": "code",
   "execution_count": 59,
   "metadata": {},
   "outputs": [
    {
     "name": "stdout",
     "output_type": "stream",
     "text": [
      "R_squared: 0.22207770263119833\n",
      "Intercept: -0.21840292331254219\n",
      "Coefficients: [0.00182878 0.00249803 0.12095555 0.05288566]\n"
     ]
    }
   ],
   "source": [
    "# # Regression use new data\n",
    "cols = ['WinterRain', 'HarvestRain', 'GrowTemp', 'Age']\n",
    "y_train = wine_new_train['LogAuction']\n",
    "X_train = wine_new_train[cols]\n",
    "\n",
    "modOld = LinearRegression().fit(X_train, y_train)\n",
    "R_squared = modOld.score(X_train, y_train)\n",
    "\n",
    "print('R_squared:', R_squared)\n",
    "print('Intercept:', modOld.intercept_)\n",
    "print('Coefficients:', modOld.coef_)"
   ]
  },
  {
   "cell_type": "code",
   "execution_count": 60,
   "metadata": {},
   "outputs": [],
   "source": [
    "# # Plot data\n",
    "# # ggplot(), geom_line() are from package \"ggplot2\"\n",
    "# # see http://ggplot2.org for reference \n",
    "# # ggplot(data, aes(x = x_data, y = y_data))\n",
    "# # +geom_line() make line plots\n",
    "# # +geom_point() make point plots\n",
    "# # xlab(labelx),ylab(labely) axis label\n",
    "# # ggtitle(title)\n",
    "\n",
    "# ggplot(wine.new, aes(x=Year, y=LogAuction, color=Winery)) + geom_line() +\n",
    "#   xlab(\"Vintage Year\") + ylab(\"log(2015 Auction Price)\")\n",
    "\n",
    "# # linting: each function argument gets its own line. \n",
    "#   # each addition gets its own line\n",
    "\n",
    "\n",
    "# # Your turn: plot same data, make point plot,  name the axis and title.\n",
    "# ggplot(wine.new, aes(x=Year, y=LogAuction, color=Winery)) + geom_point() +\n",
    "#   xlab(\"Vintage Year\") + ylab(\"log(2015 Auction Price)\")+ggtitle(\"MyTitle\")"
   ]
  },
  {
   "cell_type": "code",
   "execution_count": 71,
   "metadata": {},
   "outputs": [
    {
     "data": {
      "text/html": [
       "<div>\n",
       "<style scoped>\n",
       "    .dataframe tbody tr th:only-of-type {\n",
       "        vertical-align: middle;\n",
       "    }\n",
       "\n",
       "    .dataframe tbody tr th {\n",
       "        vertical-align: top;\n",
       "    }\n",
       "\n",
       "    .dataframe thead th {\n",
       "        text-align: right;\n",
       "    }\n",
       "</style>\n",
       "<table border=\"1\" class=\"dataframe\">\n",
       "  <thead>\n",
       "    <tr style=\"text-align: right;\">\n",
       "      <th></th>\n",
       "      <th>Winery</th>\n",
       "      <th>Year</th>\n",
       "      <th>Age</th>\n",
       "      <th>LogAuction</th>\n",
       "      <th>WinterRain</th>\n",
       "      <th>HarvestRain</th>\n",
       "      <th>GrowTemp</th>\n",
       "      <th>HarvestTemp</th>\n",
       "      <th>FrancePop</th>\n",
       "      <th>USAlcConsump</th>\n",
       "    </tr>\n",
       "  </thead>\n",
       "  <tbody>\n",
       "    <tr>\n",
       "      <th>73</th>\n",
       "      <td>Cos d'Estournel</td>\n",
       "      <td>1983</td>\n",
       "      <td>32</td>\n",
       "      <td>4.558498</td>\n",
       "      <td>698.3</td>\n",
       "      <td>119.3</td>\n",
       "      <td>17.87</td>\n",
       "      <td>18.57</td>\n",
       "      <td>54.77</td>\n",
       "      <td>10.46</td>\n",
       "    </tr>\n",
       "    <tr>\n",
       "      <th>76</th>\n",
       "      <td>Cheval Blanc</td>\n",
       "      <td>1984</td>\n",
       "      <td>31</td>\n",
       "      <td>5.558641</td>\n",
       "      <td>572.6</td>\n",
       "      <td>144.8</td>\n",
       "      <td>16.71</td>\n",
       "      <td>16.24</td>\n",
       "      <td>55.03</td>\n",
       "      <td>10.22</td>\n",
       "    </tr>\n",
       "    <tr>\n",
       "      <th>77</th>\n",
       "      <td>Cos d'Estournel</td>\n",
       "      <td>1984</td>\n",
       "      <td>31</td>\n",
       "      <td>3.426865</td>\n",
       "      <td>572.6</td>\n",
       "      <td>144.8</td>\n",
       "      <td>16.71</td>\n",
       "      <td>16.24</td>\n",
       "      <td>55.03</td>\n",
       "      <td>10.22</td>\n",
       "    </tr>\n",
       "    <tr>\n",
       "      <th>80</th>\n",
       "      <td>Cheval Blanc</td>\n",
       "      <td>1985</td>\n",
       "      <td>30</td>\n",
       "      <td>6.018934</td>\n",
       "      <td>667.1</td>\n",
       "      <td>37.2</td>\n",
       "      <td>17.19</td>\n",
       "      <td>19.56</td>\n",
       "      <td>55.28</td>\n",
       "      <td>9.88</td>\n",
       "    </tr>\n",
       "    <tr>\n",
       "      <th>81</th>\n",
       "      <td>Cos d'Estournel</td>\n",
       "      <td>1985</td>\n",
       "      <td>30</td>\n",
       "      <td>4.885072</td>\n",
       "      <td>667.1</td>\n",
       "      <td>37.2</td>\n",
       "      <td>17.19</td>\n",
       "      <td>19.56</td>\n",
       "      <td>55.28</td>\n",
       "      <td>9.88</td>\n",
       "    </tr>\n",
       "  </tbody>\n",
       "</table>\n",
       "</div>"
      ],
      "text/plain": [
       "             Winery  Year  Age  LogAuction  WinterRain  HarvestRain  GrowTemp  \\\n",
       "73  Cos d'Estournel  1983   32    4.558498       698.3        119.3     17.87   \n",
       "76     Cheval Blanc  1984   31    5.558641       572.6        144.8     16.71   \n",
       "77  Cos d'Estournel  1984   31    3.426865       572.6        144.8     16.71   \n",
       "80     Cheval Blanc  1985   30    6.018934       667.1         37.2     17.19   \n",
       "81  Cos d'Estournel  1985   30    4.885072       667.1         37.2     17.19   \n",
       "\n",
       "    HarvestTemp  FrancePop  USAlcConsump  \n",
       "73        18.57      54.77         10.46  \n",
       "76        16.24      55.03         10.22  \n",
       "77        16.24      55.03         10.22  \n",
       "80        19.56      55.28          9.88  \n",
       "81        19.56      55.28          9.88  "
      ]
     },
     "execution_count": 71,
     "metadata": {},
     "output_type": "execute_result"
    }
   ],
   "source": [
    "# # Two wineries\n",
    "wine_two = wine_new[(wine_new['Winery'] == 'Cheval Blanc') | (wine_new['Winery'] == 'Cos d\\'Estournel')]\n",
    "# ggplot(wine.two, aes(x=Year, y=LogAuction, color=Winery)) + geom_line() +\n",
    "#   xlab(\"Vintage Year\") + ylab(\"log(2015 Auction Price)\")\n",
    "\n",
    "wine_two_train = wine_two[wine_two['Year'] <= 1985]\n",
    "wine_two_test = wine_two[wine_two['Year'] > 1985]\n",
    "wine_two_train.tail()"
   ]
  },
  {
   "cell_type": "code",
   "execution_count": 72,
   "metadata": {},
   "outputs": [
    {
     "name": "stdout",
     "output_type": "stream",
     "text": [
      "R_squared: 0.3981513263178292\n",
      "Intercept: -6.6043440182646345\n",
      "Coefficients: [ 1.55334738e-03 -3.72026247e-05  5.21431202e-01  5.45012783e-02]\n"
     ]
    }
   ],
   "source": [
    "cols = ['WinterRain', 'HarvestRain', 'GrowTemp', 'Age']\n",
    "X_train = wine_two_train[cols]\n",
    "y_train = wine_two_train['LogAuction']\n",
    "\n",
    "modTwo = LinearRegression().fit(X_train, y_train)\n",
    "R_squared = modTwo.score(X_train, y_train)\n",
    "\n",
    "print('R_squared:', R_squared)\n",
    "print('Intercept:', modTwo.intercept_)\n",
    "print('Coefficients:', modTwo.coef_)\n",
    "# modTwo <- lm(LogAuction ~ Winery + WinterRain + HarvestRain + GrowTemp + Age, \n",
    "#              data = wine.two.train)\n",
    "# summary(modTwo)"
   ]
  },
  {
   "cell_type": "code",
   "execution_count": 74,
   "metadata": {},
   "outputs": [
    {
     "ename": "ValueError",
     "evalue": "could not convert string to float: 'Cheval Blanc'",
     "output_type": "error",
     "traceback": [
      "\u001b[0;31m---------------------------------------------------------------------------\u001b[0m",
      "\u001b[0;31mValueError\u001b[0m                                Traceback (most recent call last)",
      "\u001b[0;32m<ipython-input-74-8bc2895f0371>\u001b[0m in \u001b[0;36m<module>\u001b[0;34m\u001b[0m\n\u001b[1;32m      8\u001b[0m \u001b[0my_train\u001b[0m \u001b[0;34m=\u001b[0m \u001b[0mwine_two_train\u001b[0m\u001b[0;34m[\u001b[0m\u001b[0;34m'LogAuction'\u001b[0m\u001b[0;34m]\u001b[0m\u001b[0;34m\u001b[0m\u001b[0;34m\u001b[0m\u001b[0m\n\u001b[1;32m      9\u001b[0m \u001b[0;34m\u001b[0m\u001b[0m\n\u001b[0;32m---> 10\u001b[0;31m \u001b[0mmodNew\u001b[0m \u001b[0;34m=\u001b[0m \u001b[0mLinearRegression\u001b[0m\u001b[0;34m(\u001b[0m\u001b[0;34m)\u001b[0m\u001b[0;34m.\u001b[0m\u001b[0mfit\u001b[0m\u001b[0;34m(\u001b[0m\u001b[0mX_train\u001b[0m\u001b[0;34m,\u001b[0m \u001b[0my_train\u001b[0m\u001b[0;34m)\u001b[0m\u001b[0;34m\u001b[0m\u001b[0;34m\u001b[0m\u001b[0m\n\u001b[0m\u001b[1;32m     11\u001b[0m \u001b[0mR_squared\u001b[0m \u001b[0;34m=\u001b[0m \u001b[0mmodNew\u001b[0m\u001b[0;34m.\u001b[0m\u001b[0mscore\u001b[0m\u001b[0;34m(\u001b[0m\u001b[0mX_train\u001b[0m\u001b[0;34m,\u001b[0m \u001b[0my_train\u001b[0m\u001b[0;34m)\u001b[0m\u001b[0;34m\u001b[0m\u001b[0;34m\u001b[0m\u001b[0m\n\u001b[1;32m     12\u001b[0m \u001b[0;34m\u001b[0m\u001b[0m\n",
      "\u001b[0;32m~/anaconda3/lib/python3.7/site-packages/sklearn/linear_model/base.py\u001b[0m in \u001b[0;36mfit\u001b[0;34m(self, X, y, sample_weight)\u001b[0m\n\u001b[1;32m    456\u001b[0m         \u001b[0mn_jobs_\u001b[0m \u001b[0;34m=\u001b[0m \u001b[0mself\u001b[0m\u001b[0;34m.\u001b[0m\u001b[0mn_jobs\u001b[0m\u001b[0;34m\u001b[0m\u001b[0;34m\u001b[0m\u001b[0m\n\u001b[1;32m    457\u001b[0m         X, y = check_X_y(X, y, accept_sparse=['csr', 'csc', 'coo'],\n\u001b[0;32m--> 458\u001b[0;31m                          y_numeric=True, multi_output=True)\n\u001b[0m\u001b[1;32m    459\u001b[0m \u001b[0;34m\u001b[0m\u001b[0m\n\u001b[1;32m    460\u001b[0m         \u001b[0;32mif\u001b[0m \u001b[0msample_weight\u001b[0m \u001b[0;32mis\u001b[0m \u001b[0;32mnot\u001b[0m \u001b[0;32mNone\u001b[0m \u001b[0;32mand\u001b[0m \u001b[0mnp\u001b[0m\u001b[0;34m.\u001b[0m\u001b[0matleast_1d\u001b[0m\u001b[0;34m(\u001b[0m\u001b[0msample_weight\u001b[0m\u001b[0;34m)\u001b[0m\u001b[0;34m.\u001b[0m\u001b[0mndim\u001b[0m \u001b[0;34m>\u001b[0m \u001b[0;36m1\u001b[0m\u001b[0;34m:\u001b[0m\u001b[0;34m\u001b[0m\u001b[0;34m\u001b[0m\u001b[0m\n",
      "\u001b[0;32m~/anaconda3/lib/python3.7/site-packages/sklearn/utils/validation.py\u001b[0m in \u001b[0;36mcheck_X_y\u001b[0;34m(X, y, accept_sparse, accept_large_sparse, dtype, order, copy, force_all_finite, ensure_2d, allow_nd, multi_output, ensure_min_samples, ensure_min_features, y_numeric, warn_on_dtype, estimator)\u001b[0m\n\u001b[1;32m    754\u001b[0m                     \u001b[0mensure_min_features\u001b[0m\u001b[0;34m=\u001b[0m\u001b[0mensure_min_features\u001b[0m\u001b[0;34m,\u001b[0m\u001b[0;34m\u001b[0m\u001b[0;34m\u001b[0m\u001b[0m\n\u001b[1;32m    755\u001b[0m                     \u001b[0mwarn_on_dtype\u001b[0m\u001b[0;34m=\u001b[0m\u001b[0mwarn_on_dtype\u001b[0m\u001b[0;34m,\u001b[0m\u001b[0;34m\u001b[0m\u001b[0;34m\u001b[0m\u001b[0m\n\u001b[0;32m--> 756\u001b[0;31m                     estimator=estimator)\n\u001b[0m\u001b[1;32m    757\u001b[0m     \u001b[0;32mif\u001b[0m \u001b[0mmulti_output\u001b[0m\u001b[0;34m:\u001b[0m\u001b[0;34m\u001b[0m\u001b[0;34m\u001b[0m\u001b[0m\n\u001b[1;32m    758\u001b[0m         y = check_array(y, 'csr', force_all_finite=True, ensure_2d=False,\n",
      "\u001b[0;32m~/anaconda3/lib/python3.7/site-packages/sklearn/utils/validation.py\u001b[0m in \u001b[0;36mcheck_array\u001b[0;34m(array, accept_sparse, accept_large_sparse, dtype, order, copy, force_all_finite, ensure_2d, allow_nd, ensure_min_samples, ensure_min_features, warn_on_dtype, estimator)\u001b[0m\n\u001b[1;32m    565\u001b[0m         \u001b[0;31m# make sure we actually converted to numeric:\u001b[0m\u001b[0;34m\u001b[0m\u001b[0;34m\u001b[0m\u001b[0;34m\u001b[0m\u001b[0m\n\u001b[1;32m    566\u001b[0m         \u001b[0;32mif\u001b[0m \u001b[0mdtype_numeric\u001b[0m \u001b[0;32mand\u001b[0m \u001b[0marray\u001b[0m\u001b[0;34m.\u001b[0m\u001b[0mdtype\u001b[0m\u001b[0;34m.\u001b[0m\u001b[0mkind\u001b[0m \u001b[0;34m==\u001b[0m \u001b[0;34m\"O\"\u001b[0m\u001b[0;34m:\u001b[0m\u001b[0;34m\u001b[0m\u001b[0;34m\u001b[0m\u001b[0m\n\u001b[0;32m--> 567\u001b[0;31m             \u001b[0marray\u001b[0m \u001b[0;34m=\u001b[0m \u001b[0marray\u001b[0m\u001b[0;34m.\u001b[0m\u001b[0mastype\u001b[0m\u001b[0;34m(\u001b[0m\u001b[0mnp\u001b[0m\u001b[0;34m.\u001b[0m\u001b[0mfloat64\u001b[0m\u001b[0;34m)\u001b[0m\u001b[0;34m\u001b[0m\u001b[0;34m\u001b[0m\u001b[0m\n\u001b[0m\u001b[1;32m    568\u001b[0m         \u001b[0;32mif\u001b[0m \u001b[0;32mnot\u001b[0m \u001b[0mallow_nd\u001b[0m \u001b[0;32mand\u001b[0m \u001b[0marray\u001b[0m\u001b[0;34m.\u001b[0m\u001b[0mndim\u001b[0m \u001b[0;34m>=\u001b[0m \u001b[0;36m3\u001b[0m\u001b[0;34m:\u001b[0m\u001b[0;34m\u001b[0m\u001b[0;34m\u001b[0m\u001b[0m\n\u001b[1;32m    569\u001b[0m             raise ValueError(\"Found array with dim %d. %s expected <= 2.\"\n",
      "\u001b[0;31mValueError\u001b[0m: could not convert string to float: 'Cheval Blanc'"
     ]
    }
   ],
   "source": [
    "# To use a factor/categorical variable like Winery, \n",
    "# we don't actually have to do anything special \n",
    "# We can just provide it to lm, and R will handle all\n",
    "# the logistics\n",
    "\n",
    "cols = ['Winery', 'WinterRain', 'HarvestRain', 'GrowTemp', 'Age']\n",
    "X_train = wine_two_train[cols]\n",
    "y_train = wine_two_train['LogAuction']\n",
    "\n",
    "modNew = LinearRegression().fit(X_train, y_train)\n",
    "R_squared = modNew.score(X_train, y_train)\n",
    "\n",
    "print('R_squared:', R_squared)\n",
    "print('Intercept:', modTwo.intercept_)\n",
    "print('Coefficients:', modTwo.coef_)"
   ]
  },
  {
   "cell_type": "code",
   "execution_count": 75,
   "metadata": {},
   "outputs": [
    {
     "ename": "NameError",
     "evalue": "name 'modNew' is not defined",
     "output_type": "error",
     "traceback": [
      "\u001b[0;31m---------------------------------------------------------------------------\u001b[0m",
      "\u001b[0;31mNameError\u001b[0m                                 Traceback (most recent call last)",
      "\u001b[0;32m<ipython-input-75-4d27073bc88c>\u001b[0m in \u001b[0;36m<module>\u001b[0;34m\u001b[0m\n\u001b[1;32m      3\u001b[0m \u001b[0my_test\u001b[0m \u001b[0;34m=\u001b[0m \u001b[0mwine_new_test\u001b[0m\u001b[0;34m[\u001b[0m\u001b[0;34m'LogAuction'\u001b[0m\u001b[0;34m]\u001b[0m\u001b[0;34m\u001b[0m\u001b[0;34m\u001b[0m\u001b[0m\n\u001b[1;32m      4\u001b[0m \u001b[0;34m\u001b[0m\u001b[0m\n\u001b[0;32m----> 5\u001b[0;31m \u001b[0mwine_predictions\u001b[0m \u001b[0;34m=\u001b[0m \u001b[0mmodNew\u001b[0m\u001b[0;34m.\u001b[0m\u001b[0mpredict\u001b[0m\u001b[0;34m(\u001b[0m\u001b[0mX_test\u001b[0m\u001b[0;34m)\u001b[0m\u001b[0;34m\u001b[0m\u001b[0;34m\u001b[0m\u001b[0m\n\u001b[0m\u001b[1;32m      6\u001b[0m \u001b[0mOSR_squared\u001b[0m \u001b[0;34m=\u001b[0m \u001b[0mmodNew\u001b[0m\u001b[0;34m.\u001b[0m\u001b[0mscore\u001b[0m\u001b[0;34m(\u001b[0m\u001b[0mX_test\u001b[0m\u001b[0;34m,\u001b[0m \u001b[0my_test\u001b[0m\u001b[0;34m)\u001b[0m\u001b[0;34m\u001b[0m\u001b[0;34m\u001b[0m\u001b[0m\n\u001b[1;32m      7\u001b[0m \u001b[0mprint\u001b[0m\u001b[0;34m(\u001b[0m\u001b[0mOSR_squared\u001b[0m\u001b[0;34m)\u001b[0m\u001b[0;34m\u001b[0m\u001b[0;34m\u001b[0m\u001b[0m\n",
      "\u001b[0;31mNameError\u001b[0m: name 'modNew' is not defined"
     ]
    }
   ],
   "source": [
    "# # compute OSR^2\n",
    "X_test = wine_new_train[cols]\n",
    "y_test = wine_new_test['LogAuction']\n",
    "\n",
    "wine_predictions = modNew.predict(X_test)\n",
    "OSR_squared = modNew.score(X_test, y_test)\n",
    "print(OSR_squared)"
   ]
  },
  {
   "cell_type": "code",
   "execution_count": null,
   "metadata": {},
   "outputs": [],
   "source": []
  }
 ],
 "metadata": {
  "kernelspec": {
   "display_name": "Python 3",
   "language": "python",
   "name": "python3"
  },
  "language_info": {
   "codemirror_mode": {
    "name": "ipython",
    "version": 3
   },
   "file_extension": ".py",
   "mimetype": "text/x-python",
   "name": "python",
   "nbconvert_exporter": "python",
   "pygments_lexer": "ipython3",
   "version": "3.7.2"
  }
 },
 "nbformat": 4,
 "nbformat_minor": 4
}
