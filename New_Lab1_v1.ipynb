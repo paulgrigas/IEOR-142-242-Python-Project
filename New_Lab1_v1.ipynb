{
 "cells": [
  {
   "cell_type": "markdown",
   "metadata": {},
   "source": [
    "# LAB 1 - INTRO TO JUPYTER ENVIRONMENT AND PYTHON LANGUAGE\n",
    "\n",
    "This lab is comprised of four parts:\n",
    "\n",
    "- 1) Introduction to Jupyter Environment and Python Language\n",
    "\n",
    "- 2) Setting the working directory\n",
    "\n",
    "- 3) Loading data from a csv file\n",
    "\n",
    "- 4) Basic data manipulations - Dataframes\n"
   ]
  },
  {
   "cell_type": "markdown",
   "metadata": {},
   "source": [
    "## 1) INTRODUCTION TO JUPYTER ENVIRONMENT AND PYTHON LANGUAGE\n",
    "\n",
    "In Python everything following a hash sign is a comment\n",
    "\n",
    "Open the file 'Lab1.ipynb'\n",
    "\n",
    "File -> Open... \n",
    "\n",
    "Navigate to where you saved the files you downloaded for this class and double click on the 'Lab1.ipynb' file"
   ]
  },
  {
   "cell_type": "markdown",
   "metadata": {},
   "source": [
    "### BASIC CALCULATIONS IN PYTHON\n",
    "\n",
    "Make sure to type commands always in a Code cell. You can verify this by checking the scroll-down window in the above toolbar menu.\n",
    "\n",
    "To run a cell, press Shift+Enter\n",
    "\n",
    "Try running these lines:"
   ]
  },
  {
   "cell_type": "code",
   "execution_count": 5,
   "metadata": {},
   "outputs": [
    {
     "data": {
      "text/plain": [
       "48"
      ]
     },
     "execution_count": 5,
     "metadata": {},
     "output_type": "execute_result"
    }
   ],
   "source": [
    "8*6"
   ]
  },
  {
   "cell_type": "code",
   "execution_count": 6,
   "metadata": {},
   "outputs": [
    {
     "data": {
      "text/plain": [
       "65536"
      ]
     },
     "execution_count": 6,
     "metadata": {},
     "output_type": "execute_result"
    }
   ],
   "source": [
    "2**16"
   ]
  },
  {
   "cell_type": "markdown",
   "metadata": {},
   "source": [
    "Incomplete command, Jupyter will display a SyntaxError"
   ]
  },
  {
   "cell_type": "code",
   "execution_count": 8,
   "metadata": {},
   "outputs": [
    {
     "ename": "SyntaxError",
     "evalue": "invalid syntax (<ipython-input-8-0deb74d06d3d>, line 1)",
     "output_type": "error",
     "traceback": [
      "\u001b[0;36m  File \u001b[0;32m\"<ipython-input-8-0deb74d06d3d>\"\u001b[0;36m, line \u001b[0;32m1\u001b[0m\n\u001b[0;31m    2^\u001b[0m\n\u001b[0m      ^\u001b[0m\n\u001b[0;31mSyntaxError\u001b[0m\u001b[0;31m:\u001b[0m invalid syntax\n"
     ]
    }
   ],
   "source": [
    "2^"
   ]
  },
  {
   "cell_type": "markdown",
   "metadata": {},
   "source": [
    "Your turn:"
   ]
  },
  {
   "cell_type": "code",
   "execution_count": 11,
   "metadata": {},
   "outputs": [
    {
     "data": {
      "text/plain": [
       "7736.962314427104"
      ]
     },
     "execution_count": 11,
     "metadata": {},
     "output_type": "execute_result"
    }
   ],
   "source": [
    "# TO DO: Compute 284455 divided by 3.67778\n",
    "28455/3.6778"
   ]
  },
  {
   "cell_type": "markdown",
   "metadata": {},
   "source": [
    "### FUNCTIONS AND VARIABLES"
   ]
  },
  {
   "cell_type": "code",
   "execution_count": 3,
   "metadata": {},
   "outputs": [
    {
     "data": {
      "text/plain": [
       "65"
      ]
     },
     "execution_count": 3,
     "metadata": {},
     "output_type": "execute_result"
    }
   ],
   "source": [
    "# A function can take in several arguments or inputs, and returns an output value.\n",
    "# Ex: square root and absolute value functions:\n",
    "abs(-65)"
   ]
  },
  {
   "cell_type": "code",
   "execution_count": 16,
   "metadata": {},
   "outputs": [
    {
     "data": {
      "text/plain": [
       "1.4142135623730951"
      ]
     },
     "execution_count": 16,
     "metadata": {},
     "output_type": "execute_result"
    }
   ],
   "source": [
    "# Some functions are not built into Python, and they have to be imported from a library.\n",
    "# NumPy is a very useful library comprising thousands of mathematical functions: \n",
    "# https://numpy.org/doc/stable/reference/index.html\n",
    "import numpy as np\n",
    "\n",
    "np.sqrt(2)"
   ]
  },
  {
   "cell_type": "code",
   "execution_count": 32,
   "metadata": {},
   "outputs": [],
   "source": [
    "# Get help on any function:\n",
    "np.sqrt?"
   ]
  },
  {
   "cell_type": "code",
   "execution_count": 18,
   "metadata": {},
   "outputs": [],
   "source": [
    "# Save the output to a variable. \n",
    "SquareRoot2 = np.sqrt(2) "
   ]
  },
  {
   "cell_type": "code",
   "execution_count": 15,
   "metadata": {},
   "outputs": [
    {
     "data": {
      "text/plain": [
       "1.4142135623730951"
      ]
     },
     "execution_count": 15,
     "metadata": {},
     "output_type": "execute_result"
    }
   ],
   "source": [
    "# See the value by typing its name\n",
    "SquareRoot2"
   ]
  },
  {
   "cell_type": "code",
   "execution_count": 21,
   "metadata": {},
   "outputs": [
    {
     "name": "stdout",
     "output_type": "stream",
     "text": [
      "1.4142135623730951\n"
     ]
    }
   ],
   "source": [
    "# You can also see an output by using the print() function\n",
    "print(SquareRoot2)"
   ]
  },
  {
   "cell_type": "code",
   "execution_count": null,
   "metadata": {},
   "outputs": [],
   "source": [
    "# Basic variable naming rules: \n",
    "# Don't use spaces (underscores or capital letters instead)\n",
    "# Don't start names with a number\n",
    "# Variable names are case sensitive - capital and lowercase letters are different"
   ]
  },
  {
   "cell_type": "code",
   "execution_count": null,
   "metadata": {},
   "outputs": [],
   "source": [
    "# Your turn:\n",
    "# Create a variable called \"SecondsDay\" that is equal to the number of seconds in a day, and output its value."
   ]
  },
  {
   "cell_type": "markdown",
   "metadata": {},
   "source": [
    "### SETTING THE WORKING DIRECTORY"
   ]
  },
  {
   "cell_type": "code",
   "execution_count": 2,
   "metadata": {},
   "outputs": [
    {
     "data": {
      "text/plain": [
       "\"/Users/stefanozavagli/Documents/Carrera/Jobs/Berkeley/Teaching/242 Sp '21/Lab1\""
      ]
     },
     "execution_count": 2,
     "metadata": {},
     "output_type": "execute_result"
    }
   ],
   "source": [
    "# In order to change the working directory, we use the 'os' library\n",
    "import os\n",
    "\n",
    "os.getcwd()"
   ]
  },
  {
   "cell_type": "code",
   "execution_count": 3,
   "metadata": {},
   "outputs": [
    {
     "ename": "FileNotFoundError",
     "evalue": "[Errno 2] No such file or directory: 'new_path'",
     "output_type": "error",
     "traceback": [
      "\u001b[0;31m---------------------------------------------------------------------------\u001b[0m",
      "\u001b[0;31mFileNotFoundError\u001b[0m                         Traceback (most recent call last)",
      "\u001b[0;32m<ipython-input-3-7d4423417488>\u001b[0m in \u001b[0;36m<module>\u001b[0;34m\u001b[0m\n\u001b[1;32m      1\u001b[0m \u001b[0;31m# This changes the working directory to the one you choos\u001b[0m\u001b[0;34m\u001b[0m\u001b[0;34m\u001b[0m\u001b[0;34m\u001b[0m\u001b[0m\n\u001b[0;32m----> 2\u001b[0;31m \u001b[0mos\u001b[0m\u001b[0;34m.\u001b[0m\u001b[0mchdir\u001b[0m\u001b[0;34m(\u001b[0m\u001b[0;34m\"new_path\"\u001b[0m\u001b[0;34m)\u001b[0m\u001b[0;34m\u001b[0m\u001b[0;34m\u001b[0m\u001b[0m\n\u001b[0m",
      "\u001b[0;31mFileNotFoundError\u001b[0m: [Errno 2] No such file or directory: 'new_path'"
     ]
    }
   ],
   "source": [
    "# This changes the working directory to the one you choos\n",
    "os.chdir(\"new_path\")"
   ]
  },
  {
   "cell_type": "markdown",
   "metadata": {},
   "source": [
    "### LOADING CSV FILES"
   ]
  },
  {
   "cell_type": "code",
   "execution_count": 17,
   "metadata": {},
   "outputs": [
    {
     "data": {
      "text/html": [
       "<div>\n",
       "<style scoped>\n",
       "    .dataframe tbody tr th:only-of-type {\n",
       "        vertical-align: middle;\n",
       "    }\n",
       "\n",
       "    .dataframe tbody tr th {\n",
       "        vertical-align: top;\n",
       "    }\n",
       "\n",
       "    .dataframe thead th {\n",
       "        text-align: right;\n",
       "    }\n",
       "</style>\n",
       "<table border=\"1\" class=\"dataframe\">\n",
       "  <thead>\n",
       "    <tr style=\"text-align: right;\">\n",
       "      <th></th>\n",
       "      <th>Country</th>\n",
       "      <th>Region</th>\n",
       "      <th>Population</th>\n",
       "      <th>Under15</th>\n",
       "      <th>Over60</th>\n",
       "      <th>FertilityRate</th>\n",
       "      <th>LifeExpectancy</th>\n",
       "      <th>ChildMortality</th>\n",
       "      <th>CellularSubscribers</th>\n",
       "      <th>LiteracyRate</th>\n",
       "      <th>GNI</th>\n",
       "      <th>PrimarySchoolEnrollmentMale</th>\n",
       "      <th>PrimarySchoolEnrollmentFemale</th>\n",
       "    </tr>\n",
       "  </thead>\n",
       "  <tbody>\n",
       "    <tr>\n",
       "      <th>0</th>\n",
       "      <td>Afghanistan</td>\n",
       "      <td>Eastern Mediterranean</td>\n",
       "      <td>29825</td>\n",
       "      <td>47.42</td>\n",
       "      <td>3.82</td>\n",
       "      <td>5.40</td>\n",
       "      <td>60</td>\n",
       "      <td>98.5</td>\n",
       "      <td>54.26</td>\n",
       "      <td>NaN</td>\n",
       "      <td>1140.0</td>\n",
       "      <td>NaN</td>\n",
       "      <td>NaN</td>\n",
       "    </tr>\n",
       "    <tr>\n",
       "      <th>1</th>\n",
       "      <td>Albania</td>\n",
       "      <td>Europe</td>\n",
       "      <td>3162</td>\n",
       "      <td>21.33</td>\n",
       "      <td>14.93</td>\n",
       "      <td>1.75</td>\n",
       "      <td>74</td>\n",
       "      <td>16.7</td>\n",
       "      <td>96.39</td>\n",
       "      <td>NaN</td>\n",
       "      <td>8820.0</td>\n",
       "      <td>NaN</td>\n",
       "      <td>NaN</td>\n",
       "    </tr>\n",
       "    <tr>\n",
       "      <th>2</th>\n",
       "      <td>Algeria</td>\n",
       "      <td>Africa</td>\n",
       "      <td>38482</td>\n",
       "      <td>27.42</td>\n",
       "      <td>7.17</td>\n",
       "      <td>2.83</td>\n",
       "      <td>73</td>\n",
       "      <td>20.0</td>\n",
       "      <td>98.99</td>\n",
       "      <td>NaN</td>\n",
       "      <td>8310.0</td>\n",
       "      <td>98.2</td>\n",
       "      <td>96.4</td>\n",
       "    </tr>\n",
       "    <tr>\n",
       "      <th>3</th>\n",
       "      <td>Andorra</td>\n",
       "      <td>Europe</td>\n",
       "      <td>78</td>\n",
       "      <td>15.20</td>\n",
       "      <td>22.86</td>\n",
       "      <td>NaN</td>\n",
       "      <td>82</td>\n",
       "      <td>3.2</td>\n",
       "      <td>75.49</td>\n",
       "      <td>NaN</td>\n",
       "      <td>NaN</td>\n",
       "      <td>78.4</td>\n",
       "      <td>79.4</td>\n",
       "    </tr>\n",
       "    <tr>\n",
       "      <th>4</th>\n",
       "      <td>Angola</td>\n",
       "      <td>Africa</td>\n",
       "      <td>20821</td>\n",
       "      <td>47.58</td>\n",
       "      <td>3.84</td>\n",
       "      <td>6.10</td>\n",
       "      <td>51</td>\n",
       "      <td>163.5</td>\n",
       "      <td>48.38</td>\n",
       "      <td>70.1</td>\n",
       "      <td>5230.0</td>\n",
       "      <td>93.1</td>\n",
       "      <td>78.2</td>\n",
       "    </tr>\n",
       "    <tr>\n",
       "      <th>...</th>\n",
       "      <td>...</td>\n",
       "      <td>...</td>\n",
       "      <td>...</td>\n",
       "      <td>...</td>\n",
       "      <td>...</td>\n",
       "      <td>...</td>\n",
       "      <td>...</td>\n",
       "      <td>...</td>\n",
       "      <td>...</td>\n",
       "      <td>...</td>\n",
       "      <td>...</td>\n",
       "      <td>...</td>\n",
       "      <td>...</td>\n",
       "    </tr>\n",
       "    <tr>\n",
       "      <th>189</th>\n",
       "      <td>Venezuela (Bolivarian Republic of)</td>\n",
       "      <td>Americas</td>\n",
       "      <td>29955</td>\n",
       "      <td>28.84</td>\n",
       "      <td>9.17</td>\n",
       "      <td>2.44</td>\n",
       "      <td>75</td>\n",
       "      <td>15.3</td>\n",
       "      <td>97.78</td>\n",
       "      <td>NaN</td>\n",
       "      <td>12430.0</td>\n",
       "      <td>94.7</td>\n",
       "      <td>95.1</td>\n",
       "    </tr>\n",
       "    <tr>\n",
       "      <th>190</th>\n",
       "      <td>Viet Nam</td>\n",
       "      <td>Western Pacific</td>\n",
       "      <td>90796</td>\n",
       "      <td>22.87</td>\n",
       "      <td>9.32</td>\n",
       "      <td>1.79</td>\n",
       "      <td>75</td>\n",
       "      <td>23.0</td>\n",
       "      <td>143.39</td>\n",
       "      <td>93.2</td>\n",
       "      <td>3250.0</td>\n",
       "      <td>NaN</td>\n",
       "      <td>NaN</td>\n",
       "    </tr>\n",
       "    <tr>\n",
       "      <th>191</th>\n",
       "      <td>Yemen</td>\n",
       "      <td>Eastern Mediterranean</td>\n",
       "      <td>23852</td>\n",
       "      <td>40.72</td>\n",
       "      <td>4.54</td>\n",
       "      <td>4.35</td>\n",
       "      <td>64</td>\n",
       "      <td>60.0</td>\n",
       "      <td>47.05</td>\n",
       "      <td>63.9</td>\n",
       "      <td>2170.0</td>\n",
       "      <td>85.5</td>\n",
       "      <td>70.5</td>\n",
       "    </tr>\n",
       "    <tr>\n",
       "      <th>192</th>\n",
       "      <td>Zambia</td>\n",
       "      <td>Africa</td>\n",
       "      <td>14075</td>\n",
       "      <td>46.73</td>\n",
       "      <td>3.95</td>\n",
       "      <td>5.77</td>\n",
       "      <td>55</td>\n",
       "      <td>88.5</td>\n",
       "      <td>60.59</td>\n",
       "      <td>71.2</td>\n",
       "      <td>1490.0</td>\n",
       "      <td>91.4</td>\n",
       "      <td>93.9</td>\n",
       "    </tr>\n",
       "    <tr>\n",
       "      <th>193</th>\n",
       "      <td>Zimbabwe</td>\n",
       "      <td>Africa</td>\n",
       "      <td>13724</td>\n",
       "      <td>40.24</td>\n",
       "      <td>5.68</td>\n",
       "      <td>3.64</td>\n",
       "      <td>54</td>\n",
       "      <td>89.8</td>\n",
       "      <td>72.13</td>\n",
       "      <td>92.2</td>\n",
       "      <td>NaN</td>\n",
       "      <td>NaN</td>\n",
       "      <td>NaN</td>\n",
       "    </tr>\n",
       "  </tbody>\n",
       "</table>\n",
       "<p>194 rows × 13 columns</p>\n",
       "</div>"
      ],
      "text/plain": [
       "                                Country                 Region  Population  \\\n",
       "0                           Afghanistan  Eastern Mediterranean       29825   \n",
       "1                               Albania                 Europe        3162   \n",
       "2                               Algeria                 Africa       38482   \n",
       "3                               Andorra                 Europe          78   \n",
       "4                                Angola                 Africa       20821   \n",
       "..                                  ...                    ...         ...   \n",
       "189  Venezuela (Bolivarian Republic of)               Americas       29955   \n",
       "190                            Viet Nam        Western Pacific       90796   \n",
       "191                               Yemen  Eastern Mediterranean       23852   \n",
       "192                              Zambia                 Africa       14075   \n",
       "193                            Zimbabwe                 Africa       13724   \n",
       "\n",
       "     Under15  Over60  FertilityRate  LifeExpectancy  ChildMortality  \\\n",
       "0      47.42    3.82           5.40              60            98.5   \n",
       "1      21.33   14.93           1.75              74            16.7   \n",
       "2      27.42    7.17           2.83              73            20.0   \n",
       "3      15.20   22.86            NaN              82             3.2   \n",
       "4      47.58    3.84           6.10              51           163.5   \n",
       "..       ...     ...            ...             ...             ...   \n",
       "189    28.84    9.17           2.44              75            15.3   \n",
       "190    22.87    9.32           1.79              75            23.0   \n",
       "191    40.72    4.54           4.35              64            60.0   \n",
       "192    46.73    3.95           5.77              55            88.5   \n",
       "193    40.24    5.68           3.64              54            89.8   \n",
       "\n",
       "     CellularSubscribers  LiteracyRate      GNI  PrimarySchoolEnrollmentMale  \\\n",
       "0                  54.26           NaN   1140.0                          NaN   \n",
       "1                  96.39           NaN   8820.0                          NaN   \n",
       "2                  98.99           NaN   8310.0                         98.2   \n",
       "3                  75.49           NaN      NaN                         78.4   \n",
       "4                  48.38          70.1   5230.0                         93.1   \n",
       "..                   ...           ...      ...                          ...   \n",
       "189                97.78           NaN  12430.0                         94.7   \n",
       "190               143.39          93.2   3250.0                          NaN   \n",
       "191                47.05          63.9   2170.0                         85.5   \n",
       "192                60.59          71.2   1490.0                         91.4   \n",
       "193                72.13          92.2      NaN                          NaN   \n",
       "\n",
       "     PrimarySchoolEnrollmentFemale  \n",
       "0                              NaN  \n",
       "1                              NaN  \n",
       "2                             96.4  \n",
       "3                             79.4  \n",
       "4                             78.2  \n",
       "..                             ...  \n",
       "189                           95.1  \n",
       "190                            NaN  \n",
       "191                           70.5  \n",
       "192                           93.9  \n",
       "193                            NaN  \n",
       "\n",
       "[194 rows x 13 columns]"
      ]
     },
     "execution_count": 17,
     "metadata": {},
     "output_type": "execute_result"
    }
   ],
   "source": [
    "# Read in the data file \n",
    "import pandas as pd\n",
    "\n",
    "# WHO = pd.read_csv(\"WHO.csv\")\n",
    "WHO = pd.read_csv(\"WHO.csv\", encoding = \"ISO-8859-1\") ##check this encoding, also encoding = 'unicode_escape'\n",
    "WHO"
   ]
  },
  {
   "cell_type": "code",
   "execution_count": 38,
   "metadata": {},
   "outputs": [
    {
     "name": "stdout",
     "output_type": "stream",
     "text": [
      "<class 'pandas.core.frame.DataFrame'>\n",
      "RangeIndex: 194 entries, 0 to 193\n",
      "Data columns (total 13 columns):\n",
      " #   Column                         Non-Null Count  Dtype  \n",
      "---  ------                         --------------  -----  \n",
      " 0   Country                        194 non-null    object \n",
      " 1   Region                         194 non-null    object \n",
      " 2   Population                     194 non-null    int64  \n",
      " 3   Under15                        194 non-null    float64\n",
      " 4   Over60                         194 non-null    float64\n",
      " 5   FertilityRate                  183 non-null    float64\n",
      " 6   LifeExpectancy                 194 non-null    int64  \n",
      " 7   ChildMortality                 194 non-null    float64\n",
      " 8   CellularSubscribers            184 non-null    float64\n",
      " 9   LiteracyRate                   103 non-null    float64\n",
      " 10  GNI                            162 non-null    float64\n",
      " 11  PrimarySchoolEnrollmentMale    101 non-null    float64\n",
      " 12  PrimarySchoolEnrollmentFemale  101 non-null    float64\n",
      "dtypes: float64(9), int64(2), object(2)\n",
      "memory usage: 19.8+ KB\n"
     ]
    }
   ],
   "source": [
    "# Structure of the data\n",
    "WHO.info()"
   ]
  },
  {
   "cell_type": "code",
   "execution_count": 39,
   "metadata": {},
   "outputs": [],
   "source": [
    "# Recent statistics from the World Health Organization (WHO)\n",
    "# The variables are: \n",
    "# the name of the country\n",
    "# the region the country is in\n",
    "# the population in thousandsa\n",
    "# the percentage of the population under 15 and over 60\n",
    "# the fertility rate (average number of children per woman)\n",
    "# the Life Expectancy in years\n",
    "# the Child Mortality rate (the number of children who die by age 5 per 1000 births)\n",
    "# the number of cellular subscribers per 100 population\n",
    "# the literacy rate among adults aged >= 15\n",
    "# the gross national income per capita\n",
    "# the percentage of male children enrolled in primary school\n",
    "# the percentage of female children enrolled in primary school"
   ]
  },
  {
   "cell_type": "code",
   "execution_count": 26,
   "metadata": {},
   "outputs": [
    {
     "data": {
      "text/html": [
       "<div>\n",
       "<style scoped>\n",
       "    .dataframe tbody tr th:only-of-type {\n",
       "        vertical-align: middle;\n",
       "    }\n",
       "\n",
       "    .dataframe tbody tr th {\n",
       "        vertical-align: top;\n",
       "    }\n",
       "\n",
       "    .dataframe thead th {\n",
       "        text-align: right;\n",
       "    }\n",
       "</style>\n",
       "<table border=\"1\" class=\"dataframe\">\n",
       "  <thead>\n",
       "    <tr style=\"text-align: right;\">\n",
       "      <th></th>\n",
       "      <th>Population</th>\n",
       "      <th>Under15</th>\n",
       "      <th>Over60</th>\n",
       "      <th>FertilityRate</th>\n",
       "      <th>LifeExpectancy</th>\n",
       "      <th>ChildMortality</th>\n",
       "      <th>CellularSubscribers</th>\n",
       "      <th>LiteracyRate</th>\n",
       "      <th>GNI</th>\n",
       "      <th>PrimarySchoolEnrollmentMale</th>\n",
       "      <th>PrimarySchoolEnrollmentFemale</th>\n",
       "    </tr>\n",
       "  </thead>\n",
       "  <tbody>\n",
       "    <tr>\n",
       "      <th>count</th>\n",
       "      <td>1.940000e+02</td>\n",
       "      <td>194.000000</td>\n",
       "      <td>194.000000</td>\n",
       "      <td>183.000000</td>\n",
       "      <td>194.000000</td>\n",
       "      <td>194.000000</td>\n",
       "      <td>184.000000</td>\n",
       "      <td>103.000000</td>\n",
       "      <td>162.000000</td>\n",
       "      <td>101.000000</td>\n",
       "      <td>101.000000</td>\n",
       "    </tr>\n",
       "    <tr>\n",
       "      <th>mean</th>\n",
       "      <td>3.635997e+04</td>\n",
       "      <td>28.732423</td>\n",
       "      <td>11.163660</td>\n",
       "      <td>2.940656</td>\n",
       "      <td>70.010309</td>\n",
       "      <td>36.148969</td>\n",
       "      <td>93.641522</td>\n",
       "      <td>83.710680</td>\n",
       "      <td>13320.925926</td>\n",
       "      <td>90.850495</td>\n",
       "      <td>89.632673</td>\n",
       "    </tr>\n",
       "    <tr>\n",
       "      <th>std</th>\n",
       "      <td>1.379031e+05</td>\n",
       "      <td>10.534573</td>\n",
       "      <td>7.149331</td>\n",
       "      <td>1.480984</td>\n",
       "      <td>9.259075</td>\n",
       "      <td>37.992935</td>\n",
       "      <td>41.400447</td>\n",
       "      <td>17.530645</td>\n",
       "      <td>15192.988650</td>\n",
       "      <td>11.017147</td>\n",
       "      <td>12.817614</td>\n",
       "    </tr>\n",
       "    <tr>\n",
       "      <th>min</th>\n",
       "      <td>1.000000e+00</td>\n",
       "      <td>13.120000</td>\n",
       "      <td>0.810000</td>\n",
       "      <td>1.260000</td>\n",
       "      <td>47.000000</td>\n",
       "      <td>2.200000</td>\n",
       "      <td>2.570000</td>\n",
       "      <td>31.100000</td>\n",
       "      <td>340.000000</td>\n",
       "      <td>37.200000</td>\n",
       "      <td>32.500000</td>\n",
       "    </tr>\n",
       "    <tr>\n",
       "      <th>25%</th>\n",
       "      <td>1.695750e+03</td>\n",
       "      <td>18.717500</td>\n",
       "      <td>5.200000</td>\n",
       "      <td>1.835000</td>\n",
       "      <td>64.000000</td>\n",
       "      <td>8.425000</td>\n",
       "      <td>63.567500</td>\n",
       "      <td>71.600000</td>\n",
       "      <td>2335.000000</td>\n",
       "      <td>87.700000</td>\n",
       "      <td>87.300000</td>\n",
       "    </tr>\n",
       "    <tr>\n",
       "      <th>50%</th>\n",
       "      <td>7.790000e+03</td>\n",
       "      <td>28.650000</td>\n",
       "      <td>8.530000</td>\n",
       "      <td>2.400000</td>\n",
       "      <td>72.500000</td>\n",
       "      <td>18.600000</td>\n",
       "      <td>97.745000</td>\n",
       "      <td>91.800000</td>\n",
       "      <td>7870.000000</td>\n",
       "      <td>94.700000</td>\n",
       "      <td>95.100000</td>\n",
       "    </tr>\n",
       "    <tr>\n",
       "      <th>75%</th>\n",
       "      <td>2.453525e+04</td>\n",
       "      <td>37.752500</td>\n",
       "      <td>16.687500</td>\n",
       "      <td>3.905000</td>\n",
       "      <td>76.000000</td>\n",
       "      <td>55.975000</td>\n",
       "      <td>120.805000</td>\n",
       "      <td>97.850000</td>\n",
       "      <td>17557.500000</td>\n",
       "      <td>98.100000</td>\n",
       "      <td>97.900000</td>\n",
       "    </tr>\n",
       "    <tr>\n",
       "      <th>max</th>\n",
       "      <td>1.390000e+06</td>\n",
       "      <td>49.990000</td>\n",
       "      <td>31.920000</td>\n",
       "      <td>7.580000</td>\n",
       "      <td>83.000000</td>\n",
       "      <td>181.600000</td>\n",
       "      <td>196.410000</td>\n",
       "      <td>99.800000</td>\n",
       "      <td>86440.000000</td>\n",
       "      <td>100.000000</td>\n",
       "      <td>100.000000</td>\n",
       "    </tr>\n",
       "  </tbody>\n",
       "</table>\n",
       "</div>"
      ],
      "text/plain": [
       "         Population     Under15      Over60  FertilityRate  LifeExpectancy  \\\n",
       "count  1.940000e+02  194.000000  194.000000     183.000000      194.000000   \n",
       "mean   3.635997e+04   28.732423   11.163660       2.940656       70.010309   \n",
       "std    1.379031e+05   10.534573    7.149331       1.480984        9.259075   \n",
       "min    1.000000e+00   13.120000    0.810000       1.260000       47.000000   \n",
       "25%    1.695750e+03   18.717500    5.200000       1.835000       64.000000   \n",
       "50%    7.790000e+03   28.650000    8.530000       2.400000       72.500000   \n",
       "75%    2.453525e+04   37.752500   16.687500       3.905000       76.000000   \n",
       "max    1.390000e+06   49.990000   31.920000       7.580000       83.000000   \n",
       "\n",
       "       ChildMortality  CellularSubscribers  LiteracyRate           GNI  \\\n",
       "count      194.000000           184.000000    103.000000    162.000000   \n",
       "mean        36.148969            93.641522     83.710680  13320.925926   \n",
       "std         37.992935            41.400447     17.530645  15192.988650   \n",
       "min          2.200000             2.570000     31.100000    340.000000   \n",
       "25%          8.425000            63.567500     71.600000   2335.000000   \n",
       "50%         18.600000            97.745000     91.800000   7870.000000   \n",
       "75%         55.975000           120.805000     97.850000  17557.500000   \n",
       "max        181.600000           196.410000     99.800000  86440.000000   \n",
       "\n",
       "       PrimarySchoolEnrollmentMale  PrimarySchoolEnrollmentFemale  \n",
       "count                   101.000000                     101.000000  \n",
       "mean                     90.850495                      89.632673  \n",
       "std                      11.017147                      12.817614  \n",
       "min                      37.200000                      32.500000  \n",
       "25%                      87.700000                      87.300000  \n",
       "50%                      94.700000                      95.100000  \n",
       "75%                      98.100000                      97.900000  \n",
       "max                     100.000000                     100.000000  "
      ]
     },
     "execution_count": 26,
     "metadata": {},
     "output_type": "execute_result"
    }
   ],
   "source": [
    "# Statistical summary of the data:\n",
    "WHO.describe()"
   ]
  },
  {
   "cell_type": "code",
   "execution_count": 28,
   "metadata": {},
   "outputs": [
    {
     "data": {
      "text/html": [
       "<div>\n",
       "<style scoped>\n",
       "    .dataframe tbody tr th:only-of-type {\n",
       "        vertical-align: middle;\n",
       "    }\n",
       "\n",
       "    .dataframe tbody tr th {\n",
       "        vertical-align: top;\n",
       "    }\n",
       "\n",
       "    .dataframe thead th {\n",
       "        text-align: right;\n",
       "    }\n",
       "</style>\n",
       "<table border=\"1\" class=\"dataframe\">\n",
       "  <thead>\n",
       "    <tr style=\"text-align: right;\">\n",
       "      <th></th>\n",
       "      <th>Country</th>\n",
       "      <th>Region</th>\n",
       "      <th>Population</th>\n",
       "      <th>Under15</th>\n",
       "      <th>Over60</th>\n",
       "      <th>FertilityRate</th>\n",
       "      <th>LifeExpectancy</th>\n",
       "      <th>ChildMortality</th>\n",
       "      <th>CellularSubscribers</th>\n",
       "      <th>LiteracyRate</th>\n",
       "      <th>GNI</th>\n",
       "      <th>PrimarySchoolEnrollmentMale</th>\n",
       "      <th>PrimarySchoolEnrollmentFemale</th>\n",
       "    </tr>\n",
       "  </thead>\n",
       "  <tbody>\n",
       "    <tr>\n",
       "      <th>189</th>\n",
       "      <td>Venezuela (Bolivarian Republic of)</td>\n",
       "      <td>Americas</td>\n",
       "      <td>29955</td>\n",
       "      <td>28.84</td>\n",
       "      <td>9.17</td>\n",
       "      <td>2.44</td>\n",
       "      <td>75</td>\n",
       "      <td>15.3</td>\n",
       "      <td>97.78</td>\n",
       "      <td>NaN</td>\n",
       "      <td>12430.0</td>\n",
       "      <td>94.7</td>\n",
       "      <td>95.1</td>\n",
       "    </tr>\n",
       "    <tr>\n",
       "      <th>190</th>\n",
       "      <td>Viet Nam</td>\n",
       "      <td>Western Pacific</td>\n",
       "      <td>90796</td>\n",
       "      <td>22.87</td>\n",
       "      <td>9.32</td>\n",
       "      <td>1.79</td>\n",
       "      <td>75</td>\n",
       "      <td>23.0</td>\n",
       "      <td>143.39</td>\n",
       "      <td>93.2</td>\n",
       "      <td>3250.0</td>\n",
       "      <td>NaN</td>\n",
       "      <td>NaN</td>\n",
       "    </tr>\n",
       "    <tr>\n",
       "      <th>191</th>\n",
       "      <td>Yemen</td>\n",
       "      <td>Eastern Mediterranean</td>\n",
       "      <td>23852</td>\n",
       "      <td>40.72</td>\n",
       "      <td>4.54</td>\n",
       "      <td>4.35</td>\n",
       "      <td>64</td>\n",
       "      <td>60.0</td>\n",
       "      <td>47.05</td>\n",
       "      <td>63.9</td>\n",
       "      <td>2170.0</td>\n",
       "      <td>85.5</td>\n",
       "      <td>70.5</td>\n",
       "    </tr>\n",
       "    <tr>\n",
       "      <th>192</th>\n",
       "      <td>Zambia</td>\n",
       "      <td>Africa</td>\n",
       "      <td>14075</td>\n",
       "      <td>46.73</td>\n",
       "      <td>3.95</td>\n",
       "      <td>5.77</td>\n",
       "      <td>55</td>\n",
       "      <td>88.5</td>\n",
       "      <td>60.59</td>\n",
       "      <td>71.2</td>\n",
       "      <td>1490.0</td>\n",
       "      <td>91.4</td>\n",
       "      <td>93.9</td>\n",
       "    </tr>\n",
       "    <tr>\n",
       "      <th>193</th>\n",
       "      <td>Zimbabwe</td>\n",
       "      <td>Africa</td>\n",
       "      <td>13724</td>\n",
       "      <td>40.24</td>\n",
       "      <td>5.68</td>\n",
       "      <td>3.64</td>\n",
       "      <td>54</td>\n",
       "      <td>89.8</td>\n",
       "      <td>72.13</td>\n",
       "      <td>92.2</td>\n",
       "      <td>NaN</td>\n",
       "      <td>NaN</td>\n",
       "      <td>NaN</td>\n",
       "    </tr>\n",
       "  </tbody>\n",
       "</table>\n",
       "</div>"
      ],
      "text/plain": [
       "                                Country                 Region  Population  \\\n",
       "189  Venezuela (Bolivarian Republic of)               Americas       29955   \n",
       "190                            Viet Nam        Western Pacific       90796   \n",
       "191                               Yemen  Eastern Mediterranean       23852   \n",
       "192                              Zambia                 Africa       14075   \n",
       "193                            Zimbabwe                 Africa       13724   \n",
       "\n",
       "     Under15  Over60  FertilityRate  LifeExpectancy  ChildMortality  \\\n",
       "189    28.84    9.17           2.44              75            15.3   \n",
       "190    22.87    9.32           1.79              75            23.0   \n",
       "191    40.72    4.54           4.35              64            60.0   \n",
       "192    46.73    3.95           5.77              55            88.5   \n",
       "193    40.24    5.68           3.64              54            89.8   \n",
       "\n",
       "     CellularSubscribers  LiteracyRate      GNI  PrimarySchoolEnrollmentMale  \\\n",
       "189                97.78           NaN  12430.0                         94.7   \n",
       "190               143.39          93.2   3250.0                          NaN   \n",
       "191                47.05          63.9   2170.0                         85.5   \n",
       "192                60.59          71.2   1490.0                         91.4   \n",
       "193                72.13          92.2      NaN                          NaN   \n",
       "\n",
       "     PrimarySchoolEnrollmentFemale  \n",
       "189                           95.1  \n",
       "190                            NaN  \n",
       "191                           70.5  \n",
       "192                           93.9  \n",
       "193                            NaN  "
      ]
     },
     "execution_count": 28,
     "metadata": {},
     "output_type": "execute_result"
    }
   ],
   "source": [
    "# Display a few data points at the \"head\" (start) of the dataset\n",
    "# The first 6 records\n",
    "WHO.head()"
   ]
  },
  {
   "cell_type": "code",
   "execution_count": 29,
   "metadata": {},
   "outputs": [
    {
     "data": {
      "text/html": [
       "<div>\n",
       "<style scoped>\n",
       "    .dataframe tbody tr th:only-of-type {\n",
       "        vertical-align: middle;\n",
       "    }\n",
       "\n",
       "    .dataframe tbody tr th {\n",
       "        vertical-align: top;\n",
       "    }\n",
       "\n",
       "    .dataframe thead th {\n",
       "        text-align: right;\n",
       "    }\n",
       "</style>\n",
       "<table border=\"1\" class=\"dataframe\">\n",
       "  <thead>\n",
       "    <tr style=\"text-align: right;\">\n",
       "      <th></th>\n",
       "      <th>Country</th>\n",
       "      <th>Region</th>\n",
       "      <th>Population</th>\n",
       "      <th>Under15</th>\n",
       "      <th>Over60</th>\n",
       "      <th>FertilityRate</th>\n",
       "      <th>LifeExpectancy</th>\n",
       "      <th>ChildMortality</th>\n",
       "      <th>CellularSubscribers</th>\n",
       "      <th>LiteracyRate</th>\n",
       "      <th>GNI</th>\n",
       "      <th>PrimarySchoolEnrollmentMale</th>\n",
       "      <th>PrimarySchoolEnrollmentFemale</th>\n",
       "    </tr>\n",
       "  </thead>\n",
       "  <tbody>\n",
       "    <tr>\n",
       "      <th>189</th>\n",
       "      <td>Venezuela (Bolivarian Republic of)</td>\n",
       "      <td>Americas</td>\n",
       "      <td>29955</td>\n",
       "      <td>28.84</td>\n",
       "      <td>9.17</td>\n",
       "      <td>2.44</td>\n",
       "      <td>75</td>\n",
       "      <td>15.3</td>\n",
       "      <td>97.78</td>\n",
       "      <td>NaN</td>\n",
       "      <td>12430.0</td>\n",
       "      <td>94.7</td>\n",
       "      <td>95.1</td>\n",
       "    </tr>\n",
       "    <tr>\n",
       "      <th>190</th>\n",
       "      <td>Viet Nam</td>\n",
       "      <td>Western Pacific</td>\n",
       "      <td>90796</td>\n",
       "      <td>22.87</td>\n",
       "      <td>9.32</td>\n",
       "      <td>1.79</td>\n",
       "      <td>75</td>\n",
       "      <td>23.0</td>\n",
       "      <td>143.39</td>\n",
       "      <td>93.2</td>\n",
       "      <td>3250.0</td>\n",
       "      <td>NaN</td>\n",
       "      <td>NaN</td>\n",
       "    </tr>\n",
       "    <tr>\n",
       "      <th>191</th>\n",
       "      <td>Yemen</td>\n",
       "      <td>Eastern Mediterranean</td>\n",
       "      <td>23852</td>\n",
       "      <td>40.72</td>\n",
       "      <td>4.54</td>\n",
       "      <td>4.35</td>\n",
       "      <td>64</td>\n",
       "      <td>60.0</td>\n",
       "      <td>47.05</td>\n",
       "      <td>63.9</td>\n",
       "      <td>2170.0</td>\n",
       "      <td>85.5</td>\n",
       "      <td>70.5</td>\n",
       "    </tr>\n",
       "    <tr>\n",
       "      <th>192</th>\n",
       "      <td>Zambia</td>\n",
       "      <td>Africa</td>\n",
       "      <td>14075</td>\n",
       "      <td>46.73</td>\n",
       "      <td>3.95</td>\n",
       "      <td>5.77</td>\n",
       "      <td>55</td>\n",
       "      <td>88.5</td>\n",
       "      <td>60.59</td>\n",
       "      <td>71.2</td>\n",
       "      <td>1490.0</td>\n",
       "      <td>91.4</td>\n",
       "      <td>93.9</td>\n",
       "    </tr>\n",
       "    <tr>\n",
       "      <th>193</th>\n",
       "      <td>Zimbabwe</td>\n",
       "      <td>Africa</td>\n",
       "      <td>13724</td>\n",
       "      <td>40.24</td>\n",
       "      <td>5.68</td>\n",
       "      <td>3.64</td>\n",
       "      <td>54</td>\n",
       "      <td>89.8</td>\n",
       "      <td>72.13</td>\n",
       "      <td>92.2</td>\n",
       "      <td>NaN</td>\n",
       "      <td>NaN</td>\n",
       "      <td>NaN</td>\n",
       "    </tr>\n",
       "  </tbody>\n",
       "</table>\n",
       "</div>"
      ],
      "text/plain": [
       "                                Country                 Region  Population  \\\n",
       "189  Venezuela (Bolivarian Republic of)               Americas       29955   \n",
       "190                            Viet Nam        Western Pacific       90796   \n",
       "191                               Yemen  Eastern Mediterranean       23852   \n",
       "192                              Zambia                 Africa       14075   \n",
       "193                            Zimbabwe                 Africa       13724   \n",
       "\n",
       "     Under15  Over60  FertilityRate  LifeExpectancy  ChildMortality  \\\n",
       "189    28.84    9.17           2.44              75            15.3   \n",
       "190    22.87    9.32           1.79              75            23.0   \n",
       "191    40.72    4.54           4.35              64            60.0   \n",
       "192    46.73    3.95           5.77              55            88.5   \n",
       "193    40.24    5.68           3.64              54            89.8   \n",
       "\n",
       "     CellularSubscribers  LiteracyRate      GNI  PrimarySchoolEnrollmentMale  \\\n",
       "189                97.78           NaN  12430.0                         94.7   \n",
       "190               143.39          93.2   3250.0                          NaN   \n",
       "191                47.05          63.9   2170.0                         85.5   \n",
       "192                60.59          71.2   1490.0                         91.4   \n",
       "193                72.13          92.2      NaN                          NaN   \n",
       "\n",
       "     PrimarySchoolEnrollmentFemale  \n",
       "189                           95.1  \n",
       "190                            NaN  \n",
       "191                           70.5  \n",
       "192                           93.9  \n",
       "193                            NaN  "
      ]
     },
     "execution_count": 29,
     "metadata": {},
     "output_type": "execute_result"
    }
   ],
   "source": [
    "# The last few records\n",
    "WHO.tail()"
   ]
  },
  {
   "cell_type": "code",
   "execution_count": 33,
   "metadata": {},
   "outputs": [
    {
     "data": {
      "text/html": [
       "<div>\n",
       "<style scoped>\n",
       "    .dataframe tbody tr th:only-of-type {\n",
       "        vertical-align: middle;\n",
       "    }\n",
       "\n",
       "    .dataframe tbody tr th {\n",
       "        vertical-align: top;\n",
       "    }\n",
       "\n",
       "    .dataframe thead th {\n",
       "        text-align: right;\n",
       "    }\n",
       "</style>\n",
       "<table border=\"1\" class=\"dataframe\">\n",
       "  <thead>\n",
       "    <tr style=\"text-align: right;\">\n",
       "      <th></th>\n",
       "      <th>Country</th>\n",
       "      <th>Region</th>\n",
       "      <th>Population</th>\n",
       "      <th>Under15</th>\n",
       "      <th>Over60</th>\n",
       "      <th>FertilityRate</th>\n",
       "      <th>LifeExpectancy</th>\n",
       "      <th>ChildMortality</th>\n",
       "      <th>CellularSubscribers</th>\n",
       "      <th>LiteracyRate</th>\n",
       "      <th>GNI</th>\n",
       "      <th>PrimarySchoolEnrollmentMale</th>\n",
       "      <th>PrimarySchoolEnrollmentFemale</th>\n",
       "    </tr>\n",
       "  </thead>\n",
       "  <tbody>\n",
       "    <tr>\n",
       "      <th>1</th>\n",
       "      <td>Albania</td>\n",
       "      <td>Europe</td>\n",
       "      <td>3162</td>\n",
       "      <td>21.33</td>\n",
       "      <td>14.93</td>\n",
       "      <td>1.75</td>\n",
       "      <td>74</td>\n",
       "      <td>16.7</td>\n",
       "      <td>96.39</td>\n",
       "      <td>NaN</td>\n",
       "      <td>8820.0</td>\n",
       "      <td>NaN</td>\n",
       "      <td>NaN</td>\n",
       "    </tr>\n",
       "    <tr>\n",
       "      <th>3</th>\n",
       "      <td>Andorra</td>\n",
       "      <td>Europe</td>\n",
       "      <td>78</td>\n",
       "      <td>15.20</td>\n",
       "      <td>22.86</td>\n",
       "      <td>NaN</td>\n",
       "      <td>82</td>\n",
       "      <td>3.2</td>\n",
       "      <td>75.49</td>\n",
       "      <td>NaN</td>\n",
       "      <td>NaN</td>\n",
       "      <td>78.4</td>\n",
       "      <td>79.4</td>\n",
       "    </tr>\n",
       "    <tr>\n",
       "      <th>7</th>\n",
       "      <td>Armenia</td>\n",
       "      <td>Europe</td>\n",
       "      <td>2969</td>\n",
       "      <td>20.34</td>\n",
       "      <td>14.06</td>\n",
       "      <td>1.74</td>\n",
       "      <td>71</td>\n",
       "      <td>16.4</td>\n",
       "      <td>103.57</td>\n",
       "      <td>99.6</td>\n",
       "      <td>6100.0</td>\n",
       "      <td>NaN</td>\n",
       "      <td>NaN</td>\n",
       "    </tr>\n",
       "    <tr>\n",
       "      <th>9</th>\n",
       "      <td>Austria</td>\n",
       "      <td>Europe</td>\n",
       "      <td>8464</td>\n",
       "      <td>14.51</td>\n",
       "      <td>23.52</td>\n",
       "      <td>1.44</td>\n",
       "      <td>81</td>\n",
       "      <td>4.0</td>\n",
       "      <td>154.78</td>\n",
       "      <td>NaN</td>\n",
       "      <td>42050.0</td>\n",
       "      <td>NaN</td>\n",
       "      <td>NaN</td>\n",
       "    </tr>\n",
       "    <tr>\n",
       "      <th>10</th>\n",
       "      <td>Azerbaijan</td>\n",
       "      <td>Europe</td>\n",
       "      <td>9309</td>\n",
       "      <td>22.25</td>\n",
       "      <td>8.24</td>\n",
       "      <td>1.96</td>\n",
       "      <td>71</td>\n",
       "      <td>35.2</td>\n",
       "      <td>108.75</td>\n",
       "      <td>NaN</td>\n",
       "      <td>8960.0</td>\n",
       "      <td>85.3</td>\n",
       "      <td>84.1</td>\n",
       "    </tr>\n",
       "  </tbody>\n",
       "</table>\n",
       "</div>"
      ],
      "text/plain": [
       "       Country  Region  Population  Under15  Over60  FertilityRate  \\\n",
       "1      Albania  Europe        3162    21.33   14.93           1.75   \n",
       "3      Andorra  Europe          78    15.20   22.86            NaN   \n",
       "7      Armenia  Europe        2969    20.34   14.06           1.74   \n",
       "9      Austria  Europe        8464    14.51   23.52           1.44   \n",
       "10  Azerbaijan  Europe        9309    22.25    8.24           1.96   \n",
       "\n",
       "    LifeExpectancy  ChildMortality  CellularSubscribers  LiteracyRate  \\\n",
       "1               74            16.7                96.39           NaN   \n",
       "3               82             3.2                75.49           NaN   \n",
       "7               71            16.4               103.57          99.6   \n",
       "9               81             4.0               154.78           NaN   \n",
       "10              71            35.2               108.75           NaN   \n",
       "\n",
       "        GNI  PrimarySchoolEnrollmentMale  PrimarySchoolEnrollmentFemale  \n",
       "1    8820.0                          NaN                            NaN  \n",
       "3       NaN                         78.4                           79.4  \n",
       "7    6100.0                          NaN                            NaN  \n",
       "9   42050.0                          NaN                            NaN  \n",
       "10   8960.0                         85.3                           84.1  "
      ]
     },
     "execution_count": 33,
     "metadata": {},
     "output_type": "execute_result"
    }
   ],
   "source": [
    "# 4. BASIC DATA MANIPULATIONS AND ANALYSIS - DATA FRAMES.\n",
    "# Subset with only the countries in Europe\n",
    "WHO_Europe = WHO[WHO['Region'] == 'Europe']\n",
    "WHO_Europe.head()"
   ]
  },
  {
   "cell_type": "code",
   "execution_count": 37,
   "metadata": {},
   "outputs": [
    {
     "name": "stdout",
     "output_type": "stream",
     "text": [
      "<class 'pandas.core.frame.DataFrame'>\n",
      "Int64Index: 53 entries, 1 to 187\n",
      "Data columns (total 13 columns):\n",
      " #   Column                         Non-Null Count  Dtype  \n",
      "---  ------                         --------------  -----  \n",
      " 0   Country                        53 non-null     object \n",
      " 1   Region                         53 non-null     object \n",
      " 2   Population                     53 non-null     int64  \n",
      " 3   Under15                        53 non-null     float64\n",
      " 4   Over60                         53 non-null     float64\n",
      " 5   FertilityRate                  50 non-null     float64\n",
      " 6   LifeExpectancy                 53 non-null     int64  \n",
      " 7   ChildMortality                 53 non-null     float64\n",
      " 8   CellularSubscribers            51 non-null     float64\n",
      " 9   LiteracyRate                   26 non-null     float64\n",
      " 10  GNI                            48 non-null     float64\n",
      " 11  PrimarySchoolEnrollmentMale    38 non-null     float64\n",
      " 12  PrimarySchoolEnrollmentFemale  38 non-null     float64\n",
      "dtypes: float64(9), int64(2), object(2)\n",
      "memory usage: 5.8+ KB\n"
     ]
    }
   ],
   "source": [
    "WHO_Europe.info()"
   ]
  },
  {
   "cell_type": "code",
   "execution_count": 74,
   "metadata": {},
   "outputs": [
    {
     "name": "stdout",
     "output_type": "stream",
     "text": [
      "<class 'pandas.core.frame.DataFrame'>\n",
      "Int64Index: 86 entries, 0 to 191\n",
      "Data columns (total 13 columns):\n",
      " #   Column                         Non-Null Count  Dtype  \n",
      "---  ------                         --------------  -----  \n",
      " 0   Country                        86 non-null     object \n",
      " 1   Region                         86 non-null     object \n",
      " 2   Population                     86 non-null     int64  \n",
      " 3   Under15                        86 non-null     float64\n",
      " 4   Over60                         86 non-null     float64\n",
      " 5   FertilityRate                  83 non-null     float64\n",
      " 6   LifeExpectancy                 86 non-null     int64  \n",
      " 7   ChildMortality                 86 non-null     float64\n",
      " 8   CellularSubscribers            83 non-null     float64\n",
      " 9   LiteracyRate                   41 non-null     float64\n",
      " 10  GNI                            69 non-null     float64\n",
      " 11  PrimarySchoolEnrollmentMale    48 non-null     float64\n",
      " 12  PrimarySchoolEnrollmentFemale  48 non-null     float64\n",
      "dtypes: float64(9), int64(2), object(2)\n",
      "memory usage: 9.4+ KB\n"
     ]
    }
   ],
   "source": [
    "# Other subsets:\n",
    "WHO_AsiaEurope = WHO[(WHO['Region'] == 'Europe') | (WHO['Region'] == 'South-East Asia') | (WHO['Region'] == \"Eastern Mediterranean\")] \n",
    "WHO_AsiaEurope.info()"
   ]
  },
  {
   "cell_type": "code",
   "execution_count": 75,
   "metadata": {},
   "outputs": [],
   "source": [
    "WHO_AsiaEurope.to_csv(\"WHO_AsiaEurope.csv\")"
   ]
  },
  {
   "cell_type": "code",
   "execution_count": null,
   "metadata": {},
   "outputs": [],
   "source": [
    "# Your turn:\n",
    "# How many countries have population greater than 50 million? \n"
   ]
  },
  {
   "cell_type": "code",
   "execution_count": 79,
   "metadata": {},
   "outputs": [
    {
     "data": {
      "text/plain": [
       "25"
      ]
     },
     "execution_count": 79,
     "metadata": {},
     "output_type": "execute_result"
    }
   ],
   "source": [
    "Answer = WHO[WHO['Population'] > 50000]\n",
    "len(Answer)"
   ]
  },
  {
   "cell_type": "markdown",
   "metadata": {},
   "source": [
    "### Basic Data Analysis"
   ]
  },
  {
   "cell_type": "code",
   "execution_count": 80,
   "metadata": {},
   "outputs": [
    {
     "ename": "NameError",
     "evalue": "name 'LifeExpectancy' is not defined",
     "output_type": "error",
     "traceback": [
      "\u001b[0;31m---------------------------------------------------------------------------\u001b[0m",
      "\u001b[0;31mNameError\u001b[0m                                 Traceback (most recent call last)",
      "\u001b[0;32m<ipython-input-80-b28ff6a8fd5f>\u001b[0m in \u001b[0;36m<module>\u001b[0;34m\u001b[0m\n\u001b[1;32m      1\u001b[0m \u001b[0;31m# To access a variable in a data frame, you always have to link it to the data frame and call it using square\u001b[0m\u001b[0;34m\u001b[0m\u001b[0;34m\u001b[0m\u001b[0;34m\u001b[0m\u001b[0m\n\u001b[1;32m      2\u001b[0m \u001b[0;31m# brackets and pass it's name as a string.\u001b[0m\u001b[0;34m\u001b[0m\u001b[0;34m\u001b[0m\u001b[0;34m\u001b[0m\u001b[0m\n\u001b[0;32m----> 3\u001b[0;31m \u001b[0mLifeExpectancy\u001b[0m\u001b[0;34m\u001b[0m\u001b[0;34m\u001b[0m\u001b[0m\n\u001b[0m\u001b[1;32m      4\u001b[0m \u001b[0;31m# This will give you an error!\u001b[0m\u001b[0;34m\u001b[0m\u001b[0;34m\u001b[0m\u001b[0;34m\u001b[0m\u001b[0m\n",
      "\u001b[0;31mNameError\u001b[0m: name 'LifeExpectancy' is not defined"
     ]
    }
   ],
   "source": [
    "# To access a variable in a data frame, you always have to link it to the data frame and call it using square\n",
    "# brackets and pass it's name as a string.\n",
    "LifeExpectancy\n",
    "# This will give you an error!"
   ]
  },
  {
   "cell_type": "code",
   "execution_count": 81,
   "metadata": {},
   "outputs": [
    {
     "data": {
      "text/plain": [
       "0      60\n",
       "1      74\n",
       "2      73\n",
       "3      82\n",
       "4      51\n",
       "       ..\n",
       "189    75\n",
       "190    75\n",
       "191    64\n",
       "192    55\n",
       "193    54\n",
       "Name: LifeExpectancy, Length: 194, dtype: int64"
      ]
     },
     "execution_count": 81,
     "metadata": {},
     "output_type": "execute_result"
    }
   ],
   "source": [
    "# Now, run this.\n",
    "WHO['LifeExpectancy']"
   ]
  },
  {
   "cell_type": "code",
   "execution_count": 91,
   "metadata": {},
   "outputs": [
    {
     "name": "stdout",
     "output_type": "stream",
     "text": [
      "70.01030927835052\n",
      "83\n",
      "47\n"
     ]
    }
   ],
   "source": [
    "# Statistics about this variable\n",
    "print((WHO['LifeExpectancy'].mean()))\n",
    "print((WHO['LifeExpectancy'].max()))\n",
    "print((WHO['LifeExpectancy'].min()))"
   ]
  },
  {
   "cell_type": "code",
   "execution_count": 92,
   "metadata": {},
   "outputs": [
    {
     "data": {
      "text/plain": [
       "count    194.000000\n",
       "mean      70.010309\n",
       "std        9.259075\n",
       "min       47.000000\n",
       "25%       64.000000\n",
       "50%       72.500000\n",
       "75%       76.000000\n",
       "max       83.000000\n",
       "Name: LifeExpectancy, dtype: float64"
      ]
     },
     "execution_count": 92,
     "metadata": {},
     "output_type": "execute_result"
    }
   ],
   "source": [
    "# Standard deviation\n",
    "WHO['LifeExpectancy'].std\n",
    "WHO['LifeExpectancy'].describe()"
   ]
  },
  {
   "cell_type": "code",
   "execution_count": 93,
   "metadata": {},
   "outputs": [
    {
     "data": {
      "text/plain": [
       "count      162.000000\n",
       "mean     13320.925926\n",
       "std      15192.988650\n",
       "min        340.000000\n",
       "25%       2335.000000\n",
       "50%       7870.000000\n",
       "75%      17557.500000\n",
       "max      86440.000000\n",
       "Name: GNI, dtype: float64"
      ]
     },
     "execution_count": 93,
     "metadata": {},
     "output_type": "execute_result"
    }
   ],
   "source": [
    "WHO['GNI'].describe()\n",
    "# what's different here?"
   ]
  },
  {
   "cell_type": "code",
   "execution_count": 104,
   "metadata": {},
   "outputs": [
    {
     "name": "stdout",
     "output_type": "stream",
     "text": [
      "Sierra Leone\n",
      "Japan\n"
     ]
    }
   ],
   "source": [
    "# Identify countries corresponding to max and min\n",
    "\n",
    "idx_min = WHO['LifeExpectancy'].argmin()\n",
    "print(WHO['Country'][idx_min])\n",
    "\n",
    "idx_max = WHO['LifeExpectancy'].argmax()\n",
    "print(WHO['Country'][idx_max])"
   ]
  },
  {
   "cell_type": "code",
   "execution_count": null,
   "metadata": {},
   "outputs": [],
   "source": [
    "# Your turn:\n",
    "# What is the largest population value among all countries?\n",
    "# Which country has the largest population?\n",
    "\n"
   ]
  },
  {
   "cell_type": "code",
   "execution_count": 112,
   "metadata": {},
   "outputs": [
    {
     "data": {
      "text/plain": [
       "4     70.1\n",
       "5     99.0\n",
       "6     97.8\n",
       "7     99.6\n",
       "12    91.9\n",
       "Name: LiteracyRate, dtype: float64"
      ]
     },
     "execution_count": 112,
     "metadata": {},
     "output_type": "execute_result"
    }
   ],
   "source": [
    "# Dealing with NA (Missing data)\n",
    "# Try:\n",
    "WHO['LiteracyRate'].head()"
   ]
  },
  {
   "cell_type": "code",
   "execution_count": 114,
   "metadata": {},
   "outputs": [
    {
     "data": {
      "text/plain": [
       "4     70.1\n",
       "5     99.0\n",
       "6     97.8\n",
       "7     99.6\n",
       "12    91.9\n",
       "Name: LiteracyRate, dtype: float64"
      ]
     },
     "execution_count": 114,
     "metadata": {},
     "output_type": "execute_result"
    }
   ],
   "source": [
    "WHO['LiteracyRate'].dropna(inplace=True)\n",
    "WHO['LiteracyRate'].head()"
   ]
  },
  {
   "cell_type": "markdown",
   "metadata": {},
   "source": [
    "### Linear Algebra"
   ]
  },
  {
   "cell_type": "code",
   "execution_count": 115,
   "metadata": {},
   "outputs": [],
   "source": [
    "# https://numpy.org/doc/stable/reference/routines.linalg.html"
   ]
  },
  {
   "cell_type": "code",
   "execution_count": 121,
   "metadata": {},
   "outputs": [
    {
     "data": {
      "text/plain": [
       "array([2, 4, 6])"
      ]
     },
     "execution_count": 121,
     "metadata": {},
     "output_type": "execute_result"
    }
   ],
   "source": [
    "# (row) vector\n",
    "a = np.array([1,2,3])\n",
    "b = np.array([1,1,1])\n",
    "2*a"
   ]
  },
  {
   "cell_type": "code",
   "execution_count": 126,
   "metadata": {},
   "outputs": [
    {
     "data": {
      "text/plain": [
       "array([1, 2, 3])"
      ]
     },
     "execution_count": 126,
     "metadata": {},
     "output_type": "execute_result"
    }
   ],
   "source": [
    "# element-wise multiplication\n",
    "np.multiply(a,b)"
   ]
  },
  {
   "cell_type": "code",
   "execution_count": 127,
   "metadata": {},
   "outputs": [
    {
     "data": {
      "text/plain": [
       "6"
      ]
     },
     "execution_count": 127,
     "metadata": {},
     "output_type": "execute_result"
    }
   ],
   "source": [
    "# inner product\n",
    "np.dot(a,b)"
   ]
  },
  {
   "cell_type": "code",
   "execution_count": 135,
   "metadata": {},
   "outputs": [
    {
     "name": "stdout",
     "output_type": "stream",
     "text": [
      "[[1 2 8]\n",
      " [3 2 9]]\n"
     ]
    }
   ],
   "source": [
    "# matrix\n",
    "A = np.array([[1, 2, 8],\n",
    "             [3, 2, 9]])\n",
    "print(A)"
   ]
  },
  {
   "cell_type": "code",
   "execution_count": 145,
   "metadata": {},
   "outputs": [
    {
     "data": {
      "text/plain": [
       "array([[ 23,  90],\n",
       "       [ 27, 103]])"
      ]
     },
     "execution_count": 145,
     "metadata": {},
     "output_type": "execute_result"
    }
   ],
   "source": [
    "# matrix multiplication\n",
    "B = np.array([[1, 2],\n",
    "              [3, 8],\n",
    "              [2, 9]])\n",
    "\n",
    "# There are tow ways:\n",
    "np.matmul(A,B)\n",
    "\n",
    "# or alternatively:\n",
    "A@B"
   ]
  },
  {
   "cell_type": "code",
   "execution_count": 146,
   "metadata": {},
   "outputs": [
    {
     "data": {
      "text/plain": [
       "array([[1, 3],\n",
       "       [2, 2],\n",
       "       [8, 9]])"
      ]
     },
     "execution_count": 146,
     "metadata": {},
     "output_type": "execute_result"
    }
   ],
   "source": [
    "# transpose\n",
    "A.T"
   ]
  },
  {
   "cell_type": "code",
   "execution_count": 149,
   "metadata": {},
   "outputs": [
    {
     "data": {
      "text/plain": [
       "array([[1.00000000e+00, 5.55111512e-17],\n",
       "       [0.00000000e+00, 1.00000000e+00]])"
      ]
     },
     "execution_count": 149,
     "metadata": {},
     "output_type": "execute_result"
    }
   ],
   "source": [
    "# inverse\n",
    "C = np.array([[1, 2],\n",
    "             [3, 2]])\n",
    "D = np.linalg.inv(C)\n",
    "C@D"
   ]
  }
 ],
 "metadata": {
  "kernelspec": {
   "display_name": "Python 3",
   "language": "python",
   "name": "python3"
  },
  "language_info": {
   "codemirror_mode": {
    "name": "ipython",
    "version": 3
   },
   "file_extension": ".py",
   "mimetype": "text/x-python",
   "name": "python",
   "nbconvert_exporter": "python",
   "pygments_lexer": "ipython3",
   "version": "3.7.2"
  }
 },
 "nbformat": 4,
 "nbformat_minor": 4
}
