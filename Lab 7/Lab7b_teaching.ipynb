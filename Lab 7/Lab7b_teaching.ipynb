{
 "cells": [
  {
   "cell_type": "markdown",
   "metadata": {},
   "source": [
    "# LAB 7B - CLUSTERING\n",
    "\n",
    "This lab is comprise of 2 main sections:\n",
    "\n",
    " - 1. K-Means Clustering\n",
    " \n",
    " - 2. Hierarchical Clustering"
   ]
  },
  {
   "cell_type": "code",
   "execution_count": 71,
   "metadata": {},
   "outputs": [],
   "source": [
    "import numpy as np\n",
    "import pandas as pd\n",
    "import matplotlib.pyplot as plt"
   ]
  },
  {
   "cell_type": "code",
   "execution_count": 2,
   "metadata": {},
   "outputs": [
    {
     "name": "stdout",
     "output_type": "stream",
     "text": [
      "<class 'pandas.core.frame.DataFrame'>\n",
      "RangeIndex: 3999 entries, 0 to 3998\n",
      "Data columns (total 6 columns):\n",
      " #   Column           Non-Null Count  Dtype\n",
      "---  ------           --------------  -----\n",
      " 0   Balance          3999 non-null   int64\n",
      " 1   BonusMiles       3999 non-null   int64\n",
      " 2   BonusTrans       3999 non-null   int64\n",
      " 3   FlightMiles      3999 non-null   int64\n",
      " 4   FlightTrans      3999 non-null   int64\n",
      " 5   DaysSinceEnroll  3999 non-null   int64\n",
      "dtypes: int64(6)\n",
      "memory usage: 187.6 KB\n"
     ]
    },
    {
     "data": {
      "text/html": [
       "<div>\n",
       "<style scoped>\n",
       "    .dataframe tbody tr th:only-of-type {\n",
       "        vertical-align: middle;\n",
       "    }\n",
       "\n",
       "    .dataframe tbody tr th {\n",
       "        vertical-align: top;\n",
       "    }\n",
       "\n",
       "    .dataframe thead th {\n",
       "        text-align: right;\n",
       "    }\n",
       "</style>\n",
       "<table border=\"1\" class=\"dataframe\">\n",
       "  <thead>\n",
       "    <tr style=\"text-align: right;\">\n",
       "      <th></th>\n",
       "      <th>Balance</th>\n",
       "      <th>BonusMiles</th>\n",
       "      <th>BonusTrans</th>\n",
       "      <th>FlightMiles</th>\n",
       "      <th>FlightTrans</th>\n",
       "      <th>DaysSinceEnroll</th>\n",
       "    </tr>\n",
       "  </thead>\n",
       "  <tbody>\n",
       "    <tr>\n",
       "      <th>0</th>\n",
       "      <td>48296</td>\n",
       "      <td>31329</td>\n",
       "      <td>9</td>\n",
       "      <td>500</td>\n",
       "      <td>1</td>\n",
       "      <td>3061</td>\n",
       "    </tr>\n",
       "    <tr>\n",
       "      <th>1</th>\n",
       "      <td>10021</td>\n",
       "      <td>0</td>\n",
       "      <td>0</td>\n",
       "      <td>0</td>\n",
       "      <td>0</td>\n",
       "      <td>7879</td>\n",
       "    </tr>\n",
       "    <tr>\n",
       "      <th>2</th>\n",
       "      <td>49280</td>\n",
       "      <td>22370</td>\n",
       "      <td>16</td>\n",
       "      <td>0</td>\n",
       "      <td>0</td>\n",
       "      <td>3312</td>\n",
       "    </tr>\n",
       "    <tr>\n",
       "      <th>3</th>\n",
       "      <td>213539</td>\n",
       "      <td>2750</td>\n",
       "      <td>15</td>\n",
       "      <td>0</td>\n",
       "      <td>0</td>\n",
       "      <td>4751</td>\n",
       "    </tr>\n",
       "    <tr>\n",
       "      <th>4</th>\n",
       "      <td>125465</td>\n",
       "      <td>14750</td>\n",
       "      <td>9</td>\n",
       "      <td>0</td>\n",
       "      <td>0</td>\n",
       "      <td>7206</td>\n",
       "    </tr>\n",
       "  </tbody>\n",
       "</table>\n",
       "</div>"
      ],
      "text/plain": [
       "   Balance  BonusMiles  BonusTrans  FlightMiles  FlightTrans  DaysSinceEnroll\n",
       "0    48296       31329           9          500            1             3061\n",
       "1    10021           0           0            0            0             7879\n",
       "2    49280       22370          16            0            0             3312\n",
       "3   213539        2750          15            0            0             4751\n",
       "4   125465       14750           9            0            0             7206"
      ]
     },
     "execution_count": 2,
     "metadata": {},
     "output_type": "execute_result"
    }
   ],
   "source": [
    "airline = pd.read_csv(\"airline.csv\")\n",
    "airline.info()\n",
    "airline.head()"
   ]
  },
  {
   "cell_type": "code",
   "execution_count": 3,
   "metadata": {},
   "outputs": [
    {
     "data": {
      "text/html": [
       "<div>\n",
       "<style scoped>\n",
       "    .dataframe tbody tr th:only-of-type {\n",
       "        vertical-align: middle;\n",
       "    }\n",
       "\n",
       "    .dataframe tbody tr th {\n",
       "        vertical-align: top;\n",
       "    }\n",
       "\n",
       "    .dataframe thead th {\n",
       "        text-align: right;\n",
       "    }\n",
       "</style>\n",
       "<table border=\"1\" class=\"dataframe\">\n",
       "  <thead>\n",
       "    <tr style=\"text-align: right;\">\n",
       "      <th></th>\n",
       "      <th>Balance</th>\n",
       "      <th>BonusMiles</th>\n",
       "      <th>BonusTrans</th>\n",
       "      <th>FlightMiles</th>\n",
       "      <th>FlightTrans</th>\n",
       "      <th>DaysSinceEnroll</th>\n",
       "    </tr>\n",
       "  </thead>\n",
       "  <tbody>\n",
       "    <tr>\n",
       "      <th>count</th>\n",
       "      <td>3.999000e+03</td>\n",
       "      <td>3999.000000</td>\n",
       "      <td>3999.00000</td>\n",
       "      <td>3999.000000</td>\n",
       "      <td>3999.000000</td>\n",
       "      <td>3999.00000</td>\n",
       "    </tr>\n",
       "    <tr>\n",
       "      <th>mean</th>\n",
       "      <td>7.360133e+04</td>\n",
       "      <td>17144.846212</td>\n",
       "      <td>11.60190</td>\n",
       "      <td>460.055764</td>\n",
       "      <td>1.373593</td>\n",
       "      <td>4118.55939</td>\n",
       "    </tr>\n",
       "    <tr>\n",
       "      <th>std</th>\n",
       "      <td>1.007757e+05</td>\n",
       "      <td>24150.967826</td>\n",
       "      <td>9.60381</td>\n",
       "      <td>1400.209171</td>\n",
       "      <td>3.793172</td>\n",
       "      <td>2065.13454</td>\n",
       "    </tr>\n",
       "    <tr>\n",
       "      <th>min</th>\n",
       "      <td>0.000000e+00</td>\n",
       "      <td>0.000000</td>\n",
       "      <td>0.00000</td>\n",
       "      <td>0.000000</td>\n",
       "      <td>0.000000</td>\n",
       "      <td>2.00000</td>\n",
       "    </tr>\n",
       "    <tr>\n",
       "      <th>25%</th>\n",
       "      <td>1.852750e+04</td>\n",
       "      <td>1250.000000</td>\n",
       "      <td>3.00000</td>\n",
       "      <td>0.000000</td>\n",
       "      <td>0.000000</td>\n",
       "      <td>2330.00000</td>\n",
       "    </tr>\n",
       "    <tr>\n",
       "      <th>50%</th>\n",
       "      <td>4.309700e+04</td>\n",
       "      <td>7171.000000</td>\n",
       "      <td>12.00000</td>\n",
       "      <td>0.000000</td>\n",
       "      <td>0.000000</td>\n",
       "      <td>4096.00000</td>\n",
       "    </tr>\n",
       "    <tr>\n",
       "      <th>75%</th>\n",
       "      <td>9.240400e+04</td>\n",
       "      <td>23800.500000</td>\n",
       "      <td>17.00000</td>\n",
       "      <td>311.000000</td>\n",
       "      <td>1.000000</td>\n",
       "      <td>5790.50000</td>\n",
       "    </tr>\n",
       "    <tr>\n",
       "      <th>max</th>\n",
       "      <td>1.704838e+06</td>\n",
       "      <td>263685.000000</td>\n",
       "      <td>86.00000</td>\n",
       "      <td>30817.000000</td>\n",
       "      <td>53.000000</td>\n",
       "      <td>8296.00000</td>\n",
       "    </tr>\n",
       "  </tbody>\n",
       "</table>\n",
       "</div>"
      ],
      "text/plain": [
       "            Balance     BonusMiles  BonusTrans   FlightMiles  FlightTrans  \\\n",
       "count  3.999000e+03    3999.000000  3999.00000   3999.000000  3999.000000   \n",
       "mean   7.360133e+04   17144.846212    11.60190    460.055764     1.373593   \n",
       "std    1.007757e+05   24150.967826     9.60381   1400.209171     3.793172   \n",
       "min    0.000000e+00       0.000000     0.00000      0.000000     0.000000   \n",
       "25%    1.852750e+04    1250.000000     3.00000      0.000000     0.000000   \n",
       "50%    4.309700e+04    7171.000000    12.00000      0.000000     0.000000   \n",
       "75%    9.240400e+04   23800.500000    17.00000    311.000000     1.000000   \n",
       "max    1.704838e+06  263685.000000    86.00000  30817.000000    53.000000   \n",
       "\n",
       "       DaysSinceEnroll  \n",
       "count       3999.00000  \n",
       "mean        4118.55939  \n",
       "std         2065.13454  \n",
       "min            2.00000  \n",
       "25%         2330.00000  \n",
       "50%         4096.00000  \n",
       "75%         5790.50000  \n",
       "max         8296.00000  "
      ]
     },
     "execution_count": 3,
     "metadata": {},
     "output_type": "execute_result"
    }
   ],
   "source": [
    "airline.describe()"
   ]
  },
  {
   "cell_type": "markdown",
   "metadata": {},
   "source": [
    "We need to preprocess the data so that we treat each column equally to compute the clusters.\n",
    "\n",
    "We use the `preprocessing` function from `sklearn` that does all the work for us"
   ]
  },
  {
   "cell_type": "markdown",
   "metadata": {},
   "source": [
    "### Pre-processing\n",
    "\n",
    "First, center the data (substract the mean to each column)\n",
    "=> mean becomes 0 for each column\n",
    "\n",
    "Then, scale the data, by dividing by the standard deviation\n",
    "=> std becomes 1 for each column\n",
    "\n",
    "https://medium.com/@rrfd/standardize-or-normalize-examples-in-python-e3f174b65dfc"
   ]
  },
  {
   "cell_type": "code",
   "execution_count": 4,
   "metadata": {},
   "outputs": [
    {
     "data": {
      "text/html": [
       "<div>\n",
       "<style scoped>\n",
       "    .dataframe tbody tr th:only-of-type {\n",
       "        vertical-align: middle;\n",
       "    }\n",
       "\n",
       "    .dataframe tbody tr th {\n",
       "        vertical-align: top;\n",
       "    }\n",
       "\n",
       "    .dataframe thead th {\n",
       "        text-align: right;\n",
       "    }\n",
       "</style>\n",
       "<table border=\"1\" class=\"dataframe\">\n",
       "  <thead>\n",
       "    <tr style=\"text-align: right;\">\n",
       "      <th></th>\n",
       "      <th>Balance</th>\n",
       "      <th>BonusMiles</th>\n",
       "      <th>BonusTrans</th>\n",
       "      <th>FlightMiles</th>\n",
       "      <th>FlightTrans</th>\n",
       "      <th>DaysSinceEnroll</th>\n",
       "    </tr>\n",
       "  </thead>\n",
       "  <tbody>\n",
       "    <tr>\n",
       "      <th>count</th>\n",
       "      <td>3.999000e+03</td>\n",
       "      <td>3.999000e+03</td>\n",
       "      <td>3.999000e+03</td>\n",
       "      <td>3.999000e+03</td>\n",
       "      <td>3.999000e+03</td>\n",
       "      <td>3.999000e+03</td>\n",
       "    </tr>\n",
       "    <tr>\n",
       "      <th>mean</th>\n",
       "      <td>2.487521e-17</td>\n",
       "      <td>-4.175482e-17</td>\n",
       "      <td>-7.640244e-17</td>\n",
       "      <td>-2.665202e-18</td>\n",
       "      <td>1.510281e-17</td>\n",
       "      <td>6.174384e-17</td>\n",
       "    </tr>\n",
       "    <tr>\n",
       "      <th>std</th>\n",
       "      <td>1.000125e+00</td>\n",
       "      <td>1.000125e+00</td>\n",
       "      <td>1.000125e+00</td>\n",
       "      <td>1.000125e+00</td>\n",
       "      <td>1.000125e+00</td>\n",
       "      <td>1.000125e+00</td>\n",
       "    </tr>\n",
       "    <tr>\n",
       "      <th>min</th>\n",
       "      <td>-7.304396e-01</td>\n",
       "      <td>-7.099918e-01</td>\n",
       "      <td>-1.208203e+00</td>\n",
       "      <td>-3.286033e-01</td>\n",
       "      <td>-3.621679e-01</td>\n",
       "      <td>-1.993611e+00</td>\n",
       "    </tr>\n",
       "    <tr>\n",
       "      <th>25%</th>\n",
       "      <td>-5.465676e-01</td>\n",
       "      <td>-6.582276e-01</td>\n",
       "      <td>-8.957878e-01</td>\n",
       "      <td>-3.286033e-01</td>\n",
       "      <td>-3.621679e-01</td>\n",
       "      <td>-8.661823e-01</td>\n",
       "    </tr>\n",
       "    <tr>\n",
       "      <th>50%</th>\n",
       "      <td>-3.027332e-01</td>\n",
       "      <td>-4.130308e-01</td>\n",
       "      <td>4.145743e-02</td>\n",
       "      <td>-3.286033e-01</td>\n",
       "      <td>-3.621679e-01</td>\n",
       "      <td>-1.092530e-02</td>\n",
       "    </tr>\n",
       "    <tr>\n",
       "      <th>75%</th>\n",
       "      <td>1.866028e-01</td>\n",
       "      <td>2.756198e-01</td>\n",
       "      <td>5.621492e-01</td>\n",
       "      <td>-1.064658e-01</td>\n",
       "      <td>-9.850333e-02</td>\n",
       "      <td>8.097050e-01</td>\n",
       "    </tr>\n",
       "    <tr>\n",
       "      <th>max</th>\n",
       "      <td>1.618884e+01</td>\n",
       "      <td>1.020957e+01</td>\n",
       "      <td>7.747696e+00</td>\n",
       "      <td>2.168300e+01</td>\n",
       "      <td>1.361205e+01</td>\n",
       "      <td>2.023095e+00</td>\n",
       "    </tr>\n",
       "  </tbody>\n",
       "</table>\n",
       "</div>"
      ],
      "text/plain": [
       "            Balance    BonusMiles    BonusTrans   FlightMiles   FlightTrans  \\\n",
       "count  3.999000e+03  3.999000e+03  3.999000e+03  3.999000e+03  3.999000e+03   \n",
       "mean   2.487521e-17 -4.175482e-17 -7.640244e-17 -2.665202e-18  1.510281e-17   \n",
       "std    1.000125e+00  1.000125e+00  1.000125e+00  1.000125e+00  1.000125e+00   \n",
       "min   -7.304396e-01 -7.099918e-01 -1.208203e+00 -3.286033e-01 -3.621679e-01   \n",
       "25%   -5.465676e-01 -6.582276e-01 -8.957878e-01 -3.286033e-01 -3.621679e-01   \n",
       "50%   -3.027332e-01 -4.130308e-01  4.145743e-02 -3.286033e-01 -3.621679e-01   \n",
       "75%    1.866028e-01  2.756198e-01  5.621492e-01 -1.064658e-01 -9.850333e-02   \n",
       "max    1.618884e+01  1.020957e+01  7.747696e+00  2.168300e+01  1.361205e+01   \n",
       "\n",
       "       DaysSinceEnroll  \n",
       "count     3.999000e+03  \n",
       "mean      6.174384e-17  \n",
       "std       1.000125e+00  \n",
       "min      -1.993611e+00  \n",
       "25%      -8.661823e-01  \n",
       "50%      -1.092530e-02  \n",
       "75%       8.097050e-01  \n",
       "max       2.023095e+00  "
      ]
     },
     "execution_count": 4,
     "metadata": {},
     "output_type": "execute_result"
    }
   ],
   "source": [
    "from sklearn import preprocessing\n",
    "\n",
    "scaler = preprocessing.StandardScaler()\n",
    "airline_scaled = scaler.fit_transform(airline)\n",
    "\n",
    "airline_scaled = pd.DataFrame(airline_scaled, columns=airline.columns)\n",
    "airline_scaled.describe()"
   ]
  },
  {
   "cell_type": "code",
   "execution_count": 5,
   "metadata": {},
   "outputs": [],
   "source": [
    "# What does a negative value represent?\n",
    "\n"
   ]
  },
  {
   "cell_type": "code",
   "execution_count": 6,
   "metadata": {},
   "outputs": [
    {
     "data": {
      "image/png": "[encoded data removed]",
      "text/plain": [
       "<Figure size 864x432 with 6 Axes>"
      ]
     },
     "metadata": {
      "needs_background": "light"
     },
     "output_type": "display_data"
    }
   ],
   "source": [
    "airline_scaled.hist(figsize=(12,6), layout=(2,3))\n",
    "plt.show()"
   ]
  },
  {
   "cell_type": "code",
   "execution_count": 7,
   "metadata": {},
   "outputs": [
    {
     "data": {
      "image/png": "[encoded data removed]",
      "text/plain": [
       "<Figure size 864x432 with 6 Axes>"
      ]
     },
     "metadata": {
      "needs_background": "light"
     },
     "output_type": "display_data"
    }
   ],
   "source": [
    "airline_normalized = preprocessing.normalize(airline)\n",
    "airline_normalized = pd.DataFrame(airline_normalized, columns=airline.columns)\n",
    "\n",
    "airline_normalized.hist(figsize=(12,6), layout=(2,3))\n",
    "plt.show()"
   ]
  },
  {
   "cell_type": "markdown",
   "metadata": {},
   "source": [
    "## K-Means Clustering \n",
    "\n",
    "We can select 'k' using the `n_clusters` parameter in `sklearn`s package `KMeans`.\n",
    "\n",
    "We can set an upper bound to the number of iterations of the algorithm with `max_iter`."
   ]
  },
  {
   "cell_type": "code",
   "execution_count": 8,
   "metadata": {},
   "outputs": [
    {
     "data": {
      "text/plain": [
       "KMeans(max_iter=100, random_state=88)"
      ]
     },
     "execution_count": 8,
     "metadata": {},
     "output_type": "execute_result"
    }
   ],
   "source": [
    "from sklearn.cluster import KMeans\n",
    " \n",
    "kmeans = KMeans(init='k-means++', n_clusters=8, n_init=10, max_iter=100, random_state=88)\n",
    "kmeans.fit(airline_scaled)"
   ]
  },
  {
   "cell_type": "markdown",
   "metadata": {},
   "source": [
    "Let's explore the results!\n",
    "\n",
    "How good is the clustering? "
   ]
  },
  {
   "cell_type": "code",
   "execution_count": 9,
   "metadata": {
    "scrolled": true
   },
   "outputs": [
    {
     "data": {
      "text/plain": [
       "8147.433362829322"
      ]
     },
     "execution_count": 9,
     "metadata": {},
     "output_type": "execute_result"
    }
   ],
   "source": [
    "# Sum of squared distances of samples to their closest cluster center\n",
    "kmeans.inertia_"
   ]
  },
  {
   "cell_type": "code",
   "execution_count": 10,
   "metadata": {},
   "outputs": [
    {
     "data": {
      "text/plain": [
       "34"
      ]
     },
     "execution_count": 10,
     "metadata": {},
     "output_type": "execute_result"
    }
   ],
   "source": [
    "# Number of iterations\n",
    "kmeans.n_iter_"
   ]
  },
  {
   "cell_type": "code",
   "execution_count": 11,
   "metadata": {},
   "outputs": [
    {
     "data": {
      "text/plain": [
       "array([7, 3, 7, ..., 0, 1, 4], dtype=int32)"
      ]
     },
     "execution_count": 11,
     "metadata": {},
     "output_type": "execute_result"
    }
   ],
   "source": [
    "# Cluster for each datapoint\n",
    "kmeans.labels_"
   ]
  },
  {
   "cell_type": "code",
   "execution_count": 12,
   "metadata": {},
   "outputs": [
    {
     "data": {
      "text/plain": [
       "array([[ 0.32096733,  0.21675139,  0.46144572, -0.17469075, -0.19297983,\n",
       "         1.01838517],\n",
       "       [-0.41452407, -0.60824775, -0.86068015, -0.23595667, -0.24383239,\n",
       "        -1.01902782],\n",
       "       [ 5.98854399,  2.09080064,  1.11453531,  0.80023571,  1.10518261,\n",
       "         1.16961704],\n",
       "       [-0.35735787, -0.57943943, -0.74226545, -0.21801418, -0.22915325,\n",
       "         0.69937197],\n",
       "       [ 0.75217077,  2.26445635,  1.13123866, -0.07868718, -0.05117893,\n",
       "         0.50451502],\n",
       "       [ 0.76871189,  0.86170063,  2.49449435,  5.83805875,  6.07319995,\n",
       "         0.15280077],\n",
       "       [ 0.41031906,  0.15936003,  0.83271876,  1.88467944,  1.92894454,\n",
       "         0.02161725],\n",
       "       [-0.16151761,  0.09066922,  0.55262589, -0.23883958, -0.25695257,\n",
       "        -0.64358585]])"
      ]
     },
     "execution_count": 12,
     "metadata": {},
     "output_type": "execute_result"
    }
   ],
   "source": [
    "# Cluster centroids\n",
    "kmeans.cluster_centers_"
   ]
  },
  {
   "cell_type": "markdown",
   "metadata": {},
   "source": [
    "If we would like to know the number of observations that belong to each cluster, we can easily calculate that:"
   ]
  },
  {
   "cell_type": "code",
   "execution_count": 13,
   "metadata": {},
   "outputs": [
    {
     "data": {
      "text/plain": [
       "[668, 964, 46, 891, 313, 54, 219, 844]"
      ]
     },
     "execution_count": 13,
     "metadata": {},
     "output_type": "execute_result"
    }
   ],
   "source": [
    "kmeans_size = []\n",
    "clusters = np.unique(kmeans.labels_)\n",
    "for cluster in clusters:\n",
    "    kmeans_size.append(len(np.where(kmeans.labels_ == cluster)[0]))\n",
    "\n",
    "kmeans_size                       "
   ]
  },
  {
   "cell_type": "markdown",
   "metadata": {},
   "source": [
    "### Scree Plot (selecting the value of K)\n",
    "\n",
    "To creat the plot we need to compute the cluster dissimilarity for different values of k"
   ]
  },
  {
   "cell_type": "code",
   "execution_count": 30,
   "metadata": {},
   "outputs": [],
   "source": [
    "wcss = []\n",
    "for k in range(1, 100):\n",
    "    kmeans = KMeans(init='k-means++', n_clusters=k, n_init=10, max_iter=100, random_state=88)\n",
    "    kmeans.fit(airline_scaled)\n",
    "    wcss.append(kmeans.inertia_)"
   ]
  },
  {
   "cell_type": "code",
   "execution_count": 40,
   "metadata": {},
   "outputs": [
    {
     "data": {
      "image/png": "[encoded data removed]",
      "text/plain": [
       "<Figure size 792x576 with 1 Axes>"
      ]
     },
     "metadata": {
      "needs_background": "light"
     },
     "output_type": "display_data"
    }
   ],
   "source": [
    "plt.figure(figsize=(11,8))\n",
    "plt.plot(range(1, 100), wcss, linewidth=2, color='black')\n",
    "plt.axvline(x=8, linewidth=2)\n",
    "plt.xticks(np.linspace(0,100,21))\n",
    "plt.xlabel('K')\n",
    "plt.ylabel('WCSS')\n",
    "plt.grid(axis='both')\n",
    "plt.show()"
   ]
  },
  {
   "cell_type": "markdown",
   "metadata": {},
   "source": [
    "***Was k = 8 a good choice ?***\n",
    "\n",
    "Remember that we are looking for a \"knee\" in the curve / a place where rocks stop falling\n",
    "\n",
    "https://scikit-learn.org/stable/auto_examples/cluster/plot_kmeans_silhouette_analysis.html"
   ]
  },
  {
   "cell_type": "markdown",
   "metadata": {},
   "source": [
    "## Hierarchical Agglomerative Clustering"
   ]
  },
  {
   "cell_type": "code",
   "execution_count": 118,
   "metadata": {},
   "outputs": [
    {
     "data": {
      "text/plain": [
       "AgglomerativeClustering(distance_threshold=0, n_clusters=None)"
      ]
     },
     "execution_count": 118,
     "metadata": {},
     "output_type": "execute_result"
    }
   ],
   "source": [
    "from sklearn.cluster import AgglomerativeClustering\n",
    "\n",
    "agglomerative = AgglomerativeClustering(n_clusters=None, affinity='euclidean', linkage='ward',\n",
    "                                        distance_threshold=0)\n",
    "agglomerative.fit(airline_scaled)"
   ]
  },
  {
   "cell_type": "markdown",
   "metadata": {},
   "source": [
    "https://en.wikipedia.org/wiki/Ward%27s_method"
   ]
  },
  {
   "cell_type": "markdown",
   "metadata": {},
   "source": [
    "We do not choose a number of clusters a priori, instead we let the algorithm build up from clusters comprised from single datapoints up to bigger and bigger clusters, as will be illustrated in the dendrogram. The argument `distance_threshold` is used to calibrate the number of clusters. The threshold refers to the dissimilarity metric, or \"distance\". \n",
    "\n",
    "Setting `distance_threshold` to 0 and calling the method `n_clusters_` yields value equal to the number of datapoints."
   ]
  },
  {
   "cell_type": "code",
   "execution_count": 120,
   "metadata": {},
   "outputs": [
    {
     "data": {
      "text/plain": [
       "3999"
      ]
     },
     "execution_count": 120,
     "metadata": {},
     "output_type": "execute_result"
    }
   ],
   "source": [
    "agglomerative.n_clusters_"
   ]
  },
  {
   "cell_type": "code",
   "execution_count": 121,
   "metadata": {},
   "outputs": [
    {
     "data": {
      "text/plain": [
       "array([3065, 3904, 2863, ...,    3,    1,    0])"
      ]
     },
     "execution_count": 121,
     "metadata": {},
     "output_type": "execute_result"
    }
   ],
   "source": [
    "agglomerative.labels_"
   ]
  },
  {
   "cell_type": "code",
   "execution_count": 122,
   "metadata": {},
   "outputs": [
    {
     "data": {
      "text/plain": [
       "array([0.00000000e+00, 1.88561158e-03, 2.26431613e-03, ...,\n",
       "       6.34860857e+01, 8.25114951e+01, 1.00751847e+02])"
      ]
     },
     "execution_count": 122,
     "metadata": {},
     "output_type": "execute_result"
    }
   ],
   "source": [
    "agglomerative.distances_"
   ]
  },
  {
   "cell_type": "code",
   "execution_count": 123,
   "metadata": {},
   "outputs": [
    {
     "data": {
      "text/plain": [
       "array([[2021, 2695],\n",
       "       [ 272, 3155],\n",
       "       [ 621, 1478],\n",
       "       ...,\n",
       "       [7984, 7991],\n",
       "       [7989, 7993],\n",
       "       [7994, 7995]])"
      ]
     },
     "execution_count": 123,
     "metadata": {},
     "output_type": "execute_result"
    }
   ],
   "source": [
    "agglomerative.children_"
   ]
  },
  {
   "cell_type": "markdown",
   "metadata": {},
   "source": [
    "### Plot Dendrogram"
   ]
  },
  {
   "cell_type": "code",
   "execution_count": 53,
   "metadata": {},
   "outputs": [],
   "source": [
    "from scipy.cluster.hierarchy import dendrogram\n",
    "\n",
    "def plot_dendrogram(model, **kwargs):\n",
    "    \n",
    "    counts = np.zeros(model.children_.shape[0])\n",
    "    n_samples = len(model.labels_)\n",
    "    for i, merge in enumerate(model.children_):\n",
    "        current_count = 0\n",
    "        for child_idx in merge:\n",
    "            if child_idx < n_samples:\n",
    "                current_count += 1 # leaf node\n",
    "            else:\n",
    "                current_count += counts[child_idx - n_samples]\n",
    "        counts[i] = current_count\n",
    "    linkage_matrix = np.column_stack([model.children_, model.distances_, counts]).astype(float)\n",
    "    \n",
    "    dendrogram(linkage_matrix, **kwargs)    "
   ]
  },
  {
   "cell_type": "markdown",
   "metadata": {},
   "source": [
    "We can choose to truncate our dendrogram use the `truncate_mode='level'`, according to how many levels we wish to plot. For example we can display all 3999 datapoints setting 11 levels, `p=11`, as the 11 levels correspond to `2**11 = 2048` clusters/pairs."
   ]
  },
  {
   "cell_type": "code",
   "execution_count": 56,
   "metadata": {},
   "outputs": [
    {
     "data": {
      "image/png": "[encoded data removed]",
      "text/plain": [
       "<Figure size 432x288 with 1 Axes>"
      ]
     },
     "metadata": {
      "needs_background": "light"
     },
     "output_type": "display_data"
    }
   ],
   "source": [
    "plt.title(\"Hierarchical Clustering Dendrogram\")\n",
    "plot_dendrogram(agglomerative, truncate_mode='level', p=11, leaf_font_size=8)\n",
    "plt.xlabel(\"Number of points in node (or index of point if no parenthesis).\")\n",
    "plt.show()"
   ]
  },
  {
   "cell_type": "markdown",
   "metadata": {},
   "source": [
    "If we want to show 2 levels below level '0', we set `p = 2`"
   ]
  },
  {
   "cell_type": "code",
   "execution_count": 69,
   "metadata": {},
   "outputs": [
    {
     "data": {
      "image/png": "[encoded data removed]",
      "text/plain": [
       "<Figure size 432x288 with 1 Axes>"
      ]
     },
     "metadata": {
      "needs_background": "light"
     },
     "output_type": "display_data"
    }
   ],
   "source": [
    "plt.title(\"Hierarchical Clustering Dendrogram\")\n",
    "plot_dendrogram(agglomerative, truncate_mode='level', p=2, leaf_font_size=8)\n",
    "plt.xlabel(\"Number of points in node (or index of point if no parenthesis).\")\n",
    "plt.show()"
   ]
  },
  {
   "cell_type": "markdown",
   "metadata": {},
   "source": [
    "Reference for plot code:\n",
    "https://scikit-learn.org/stable/auto_examples/cluster/plot_agglomerative_dendrogram.html#sphx-glr-auto-examples-cluster-plot-agglomerative-dendrogram-py]"
   ]
  },
  {
   "cell_type": "markdown",
   "metadata": {},
   "source": [
    "For `AgglomerativeClustering` in `sklearn`, we must set one of either `n_clusters`, or `distance_threshold`. In order to have the attribute `distances_`, which corresponds to our measure of dissimilarity, and allows us to plot our scree plot, we must go with the `distance_threshold` rather than `n_clusters`."
   ]
  },
  {
   "cell_type": "code",
   "execution_count": 216,
   "metadata": {},
   "outputs": [],
   "source": [
    "# height = []\n",
    "# for d in range(0, 100):\n",
    "#     agglomerative = AgglomerativeClustering(n_clusters=None, affinity='euclidean', linkage='ward',\n",
    "#                                             distance_threshold=d, compute_distances=True)\n",
    "#     agglomerative.fit(airline_scaled)\n",
    "#     height.append(agglomerative.distances_)"
   ]
  },
  {
   "cell_type": "code",
   "execution_count": 217,
   "metadata": {},
   "outputs": [
    {
     "data": {
      "image/png": "[encoded data removed]",
      "text/plain": [
       "<Figure size 792x576 with 1 Axes>"
      ]
     },
     "metadata": {
      "needs_background": "light"
     },
     "output_type": "display_data"
    }
   ],
   "source": [
    "reversed_distances = agglomerative.distances_[::-1]\n",
    "plt.figure(figsize=(11,8))\n",
    "plt.plot(reversed_distances, linewidth=2, color='black')\n",
    "plt.xlabel('k (# clusters)')\n",
    "plt.ylabel('Height (Dissimilarity)')\n",
    "plt.grid(axis='both')\n",
    "plt.show()"
   ]
  },
  {
   "cell_type": "markdown",
   "metadata": {},
   "source": [
    "Let's zoom on the smallest k values:"
   ]
  },
  {
   "cell_type": "code",
   "execution_count": 218,
   "metadata": {},
   "outputs": [
    {
     "data": {
      "image/png": "[encoded data removed]",
      "text/plain": [
       "<Figure size 792x576 with 1 Axes>"
      ]
     },
     "metadata": {
      "needs_background": "light"
     },
     "output_type": "display_data"
    }
   ],
   "source": [
    "plt.figure(figsize=(11,8))\n",
    "plt.plot(reversed_distances[:100], linewidth=2, color='black')\n",
    "# plt.axvline(x=8, linewidth=2)\n",
    "plt.xlabel('k (# clusters)')\n",
    "plt.ylabel('Height')\n",
    "plt.grid(axis='both')\n",
    "plt.show()"
   ]
  },
  {
   "cell_type": "code",
   "execution_count": 220,
   "metadata": {},
   "outputs": [],
   "source": [
    "# What would be a \"good\" k value ?\n",
    "\n"
   ]
  },
  {
   "cell_type": "code",
   "execution_count": 196,
   "metadata": {},
   "outputs": [
    {
     "data": {
      "image/png": "[encoded data removed]",
      "text/plain": [
       "<Figure size 432x288 with 1 Axes>"
      ]
     },
     "metadata": {
      "needs_background": "light"
     },
     "output_type": "display_data"
    }
   ],
   "source": [
    "# plt.scatter(X[:,0],X[:,1], c=cluster.labels_, cmap='rainbow')\n",
    "plt.scatter(airline_scaled.Balance, airline_scaled.BonusMiles, c=agglomerative.labels_, cmap='rainbow')\n",
    "plt.show()"
   ]
  },
  {
   "cell_type": "code",
   "execution_count": 194,
   "metadata": {},
   "outputs": [],
   "source": [
    "# cols = list(airline_scaled.columns)\n",
    "# for col in cols:\n",
    "#     print(col)\n",
    "#     other_cols = cols\n",
    "#     for other_col in other_cols:\n",
    "#         print(other_col)\n",
    "#         plt.scatter(col, other_col, c=agglomerative.labels_, cmap='rainbow')"
   ]
  },
  {
   "cell_type": "code",
   "execution_count": 187,
   "metadata": {},
   "outputs": [
    {
     "data": {
      "text/plain": [
       "['BonusMiles', 'BonusTrans', 'FlightMiles', 'FlightTrans', 'DaysSinceEnroll']"
      ]
     },
     "execution_count": 187,
     "metadata": {},
     "output_type": "execute_result"
    }
   ],
   "source": [
    "# cols = list(cols)\n",
    "# # cols.remove(\"Balance\")\n",
    "# cols"
   ]
  },
  {
   "cell_type": "code",
   "execution_count": null,
   "metadata": {},
   "outputs": [],
   "source": [
    "# len(agglomerative.distances_)\n",
    "\n",
    "# airline_scaled\n",
    "# len(airline_scaled['Balance'].unique())\n",
    "# len(airline_scaled['FlightMiles'].unique())"
   ]
  }
 ],
 "metadata": {
  "kernelspec": {
   "display_name": "Python 3",
   "language": "python",
   "name": "python3"
  },
  "language_info": {
   "codemirror_mode": {
    "name": "ipython",
    "version": 3
   },
   "file_extension": ".py",
   "mimetype": "text/x-python",
   "name": "python",
   "nbconvert_exporter": "python",
   "pygments_lexer": "ipython3",
   "version": "3.6.9"
  }
 },
 "nbformat": 4,
 "nbformat_minor": 4
}
