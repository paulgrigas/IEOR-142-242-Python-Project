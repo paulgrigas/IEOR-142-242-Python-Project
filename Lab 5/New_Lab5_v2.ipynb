{
 "cells": [
  {
   "cell_type": "markdown",
   "metadata": {},
   "source": [
    "# LAB 5 - RANDOM FORESTS AND BOOSTED TREES"
   ]
  },
  {
   "cell_type": "code",
   "execution_count": 14,
   "metadata": {},
   "outputs": [],
   "source": [
    "import numpy as np\n",
    "import pandas as pd\n",
    "import matplotlib.pyplot as plt"
   ]
  },
  {
   "cell_type": "code",
   "execution_count": 15,
   "metadata": {},
   "outputs": [
    {
     "name": "stdout",
     "output_type": "stream",
     "text": [
      "<class 'pandas.core.frame.DataFrame'>\n",
      "RangeIndex: 6057 entries, 0 to 6056\n",
      "Data columns (total 11 columns):\n",
      " #   Column         Non-Null Count  Dtype  \n",
      "---  ------         --------------  -----  \n",
      " 0   CTR            6057 non-null   float64\n",
      " 1   titleWords     6057 non-null   int64  \n",
      " 2   adWords        6057 non-null   int64  \n",
      " 3   depth          6057 non-null   int64  \n",
      " 4   position       6057 non-null   int64  \n",
      " 5   advCTR         6057 non-null   float64\n",
      " 6   advCTRInPos    6057 non-null   float64\n",
      " 7   queryCTR       6057 non-null   float64\n",
      " 8   queryCTRInPos  6057 non-null   float64\n",
      " 9   gender         6057 non-null   object \n",
      " 10  age            6057 non-null   object \n",
      "dtypes: float64(5), int64(4), object(2)\n",
      "memory usage: 520.6+ KB\n"
     ]
    },
    {
     "data": {
      "text/html": [
       "<div>\n",
       "<style scoped>\n",
       "    .dataframe tbody tr th:only-of-type {\n",
       "        vertical-align: middle;\n",
       "    }\n",
       "\n",
       "    .dataframe tbody tr th {\n",
       "        vertical-align: top;\n",
       "    }\n",
       "\n",
       "    .dataframe thead th {\n",
       "        text-align: right;\n",
       "    }\n",
       "</style>\n",
       "<table border=\"1\" class=\"dataframe\">\n",
       "  <thead>\n",
       "    <tr style=\"text-align: right;\">\n",
       "      <th></th>\n",
       "      <th>CTR</th>\n",
       "      <th>titleWords</th>\n",
       "      <th>adWords</th>\n",
       "      <th>depth</th>\n",
       "      <th>position</th>\n",
       "      <th>advCTR</th>\n",
       "      <th>advCTRInPos</th>\n",
       "      <th>queryCTR</th>\n",
       "      <th>queryCTRInPos</th>\n",
       "      <th>gender</th>\n",
       "      <th>age</th>\n",
       "    </tr>\n",
       "  </thead>\n",
       "  <tbody>\n",
       "    <tr>\n",
       "      <th>0</th>\n",
       "      <td>0.0000</td>\n",
       "      <td>8</td>\n",
       "      <td>17</td>\n",
       "      <td>1</td>\n",
       "      <td>1</td>\n",
       "      <td>0.0136</td>\n",
       "      <td>0.0153</td>\n",
       "      <td>0.0000</td>\n",
       "      <td>0.0000</td>\n",
       "      <td>male</td>\n",
       "      <td>0-12</td>\n",
       "    </tr>\n",
       "    <tr>\n",
       "      <th>1</th>\n",
       "      <td>0.0000</td>\n",
       "      <td>9</td>\n",
       "      <td>19</td>\n",
       "      <td>3</td>\n",
       "      <td>3</td>\n",
       "      <td>0.0199</td>\n",
       "      <td>0.0088</td>\n",
       "      <td>0.0394</td>\n",
       "      <td>0.0125</td>\n",
       "      <td>male</td>\n",
       "      <td>25-30</td>\n",
       "    </tr>\n",
       "    <tr>\n",
       "      <th>2</th>\n",
       "      <td>0.0675</td>\n",
       "      <td>6</td>\n",
       "      <td>30</td>\n",
       "      <td>2</td>\n",
       "      <td>1</td>\n",
       "      <td>0.0825</td>\n",
       "      <td>0.1002</td>\n",
       "      <td>0.0200</td>\n",
       "      <td>0.0256</td>\n",
       "      <td>female</td>\n",
       "      <td>13-18</td>\n",
       "    </tr>\n",
       "    <tr>\n",
       "      <th>3</th>\n",
       "      <td>0.0000</td>\n",
       "      <td>5</td>\n",
       "      <td>19</td>\n",
       "      <td>3</td>\n",
       "      <td>2</td>\n",
       "      <td>0.0116</td>\n",
       "      <td>0.0090</td>\n",
       "      <td>0.0042</td>\n",
       "      <td>0.0017</td>\n",
       "      <td>female</td>\n",
       "      <td>25-30</td>\n",
       "    </tr>\n",
       "    <tr>\n",
       "      <th>4</th>\n",
       "      <td>0.0000</td>\n",
       "      <td>10</td>\n",
       "      <td>22</td>\n",
       "      <td>1</td>\n",
       "      <td>1</td>\n",
       "      <td>0.0186</td>\n",
       "      <td>0.0284</td>\n",
       "      <td>0.0294</td>\n",
       "      <td>0.0431</td>\n",
       "      <td>female</td>\n",
       "      <td>0-12</td>\n",
       "    </tr>\n",
       "  </tbody>\n",
       "</table>\n",
       "</div>"
      ],
      "text/plain": [
       "      CTR  titleWords  adWords  depth  position  advCTR  advCTRInPos  \\\n",
       "0  0.0000           8       17      1         1  0.0136       0.0153   \n",
       "1  0.0000           9       19      3         3  0.0199       0.0088   \n",
       "2  0.0675           6       30      2         1  0.0825       0.1002   \n",
       "3  0.0000           5       19      3         2  0.0116       0.0090   \n",
       "4  0.0000          10       22      1         1  0.0186       0.0284   \n",
       "\n",
       "   queryCTR  queryCTRInPos  gender    age  \n",
       "0    0.0000         0.0000    male   0-12  \n",
       "1    0.0394         0.0125    male  25-30  \n",
       "2    0.0200         0.0256  female  13-18  \n",
       "3    0.0042         0.0017  female  25-30  \n",
       "4    0.0294         0.0431  female   0-12  "
      ]
     },
     "execution_count": 15,
     "metadata": {},
     "output_type": "execute_result"
    }
   ],
   "source": [
    "ctr = pd.read_csv(\"CTR.csv\")\n",
    "ctr.info()\n",
    "ctr.head()"
   ]
  },
  {
   "cell_type": "code",
   "execution_count": 16,
   "metadata": {},
   "outputs": [
    {
     "data": {
      "text/plain": [
       "((4239, 18), (1818, 18))"
      ]
     },
     "execution_count": 16,
     "metadata": {},
     "output_type": "execute_result"
    }
   ],
   "source": [
    "from sklearn.model_selection import train_test_split\n",
    "\n",
    "y = ctr['CTR']\n",
    "X = pd.get_dummies(ctr.drop(['CTR'], axis=1))\n",
    "\n",
    "X_train, X_test, y_train, y_test = train_test_split(X, y, test_size=0.3, random_state=88)\n",
    "X_train.shape, X_test.shape"
   ]
  },
  {
   "cell_type": "markdown",
   "metadata": {},
   "source": [
    "## Decision Tree Regressor with CV"
   ]
  },
  {
   "cell_type": "code",
   "execution_count": 17,
   "metadata": {
    "scrolled": true
   },
   "outputs": [
    {
     "data": {
      "text/plain": [
       "GridSearchCV(cv=5,\n",
       "             estimator=DecisionTreeRegressor(min_samples_leaf=5,\n",
       "                                             min_samples_split=20,\n",
       "                                             random_state=88),\n",
       "             param_grid={'ccp_alpha': array([0.0e+00, 2.0e-05, 4.0e-05, 6.0e-05, 8.0e-05, 1.0e-04, 1.2e-04,\n",
       "       1.4e-04, 1.6e-04, 1.8e-04, 2.0e-04, 2.2e-04, 2.4e-04, 2.6e-04,\n",
       "       2.8e-04, 3.0e-04, 3.2e-04, 3.4e-04, 3.6e-04, 3.8e-04, 4.0e-04,\n",
       "       4.2e-04, 4.4e-04, 4.6e-04, 4.8e-04, 5.0e-04, 5.2e-04, 5.4e-04,\n",
       "       5.6e-04, 5.8e-04, 6.0e-04, 6.2e-04, 6.4e-04, 6.6e-04, 6.8e-04,\n",
       "       7.0e-04, 7.2e-04, 7.4e-04, 7.6e-04, 7.8e-04, 8.0e-04, 8.2e-04,\n",
       "       8.4e-04, 8.6e-04, 8.8e-04, 9.0e-04, 9.2e-04, 9.4e-04, 9.6e-04,\n",
       "       9.8e-04, 1.0e-03])},\n",
       "             scoring='r2')"
      ]
     },
     "execution_count": 17,
     "metadata": {},
     "output_type": "execute_result"
    }
   ],
   "source": [
    "from sklearn.model_selection import GridSearchCV\n",
    "from sklearn.tree import DecisionTreeRegressor\n",
    "\n",
    "grid_values = {'ccp_alpha': np.linspace(0, 0.001, 51)}\n",
    "\n",
    "dtr = DecisionTreeRegressor(min_samples_leaf=5, min_samples_split=20, random_state=88)\n",
    "dtr_cv = GridSearchCV(dtr, param_grid=grid_values, scoring='r2', cv=5, verbose=0)\n",
    "dtr_cv.fit(X_train, y_train)"
   ]
  },
  {
   "cell_type": "code",
   "execution_count": 18,
   "metadata": {},
   "outputs": [
    {
     "data": {
      "image/png": "[encoded data removed]",
      "text/plain": [
       "<Figure size 576x432 with 1 Axes>"
      ]
     },
     "metadata": {
      "needs_background": "light"
     },
     "output_type": "display_data"
    }
   ],
   "source": [
    "ccp_alpha = dtr_cv.cv_results_['param_ccp_alpha'].data\n",
    "R2_scores = dtr_cv.cv_results_['mean_test_score']\n",
    "\n",
    "plt.figure(figsize=(8, 6))\n",
    "plt.xlabel('ccp_alpha', fontsize=16)\n",
    "plt.ylabel('CV R2', fontsize=16)\n",
    "plt.scatter(ccp_alpha, R2_scores, s=30)\n",
    "plt.plot(ccp_alpha, R2_scores, linewidth=3)\n",
    "plt.grid(True, which='both')\n",
    "plt.xlim([0, 0.00055])\n",
    "plt.ylim([0.2, 0.5])\n",
    "\n",
    "plt.tight_layout()\n",
    "plt.show()"
   ]
  },
  {
   "cell_type": "code",
   "execution_count": 19,
   "metadata": {},
   "outputs": [
    {
     "name": "stdout",
     "output_type": "stream",
     "text": [
      "Best ccp_alpha {'ccp_alpha': 2e-05}\n"
     ]
    }
   ],
   "source": [
    "print('Best ccp_alpha', dtr_cv.best_params_)"
   ]
  },
  {
   "cell_type": "markdown",
   "metadata": {},
   "source": [
    "### Evaluation"
   ]
  },
  {
   "cell_type": "code",
   "execution_count": 20,
   "metadata": {},
   "outputs": [
    {
     "name": "stdout",
     "output_type": "stream",
     "text": [
      "CV R2: 0.4196\n",
      "OSR2: 0.43546\n"
     ]
    }
   ],
   "source": [
    "from sklearn.metrics import r2_score\n",
    "\n",
    "print('CV R2:', round(dtr_cv.best_score_, 5))\n",
    "print('OSR2:', round(r2_score(y_test, dtr_cv.predict(X_test)), 5))"
   ]
  },
  {
   "cell_type": "markdown",
   "metadata": {},
   "source": [
    "## Random Forest Regressor"
   ]
  },
  {
   "cell_type": "code",
   "execution_count": 21,
   "metadata": {
    "scrolled": true
   },
   "outputs": [
    {
     "name": "stderr",
     "output_type": "stream",
     "text": [
      "[Parallel(n_jobs=1)]: Using backend SequentialBackend with 1 concurrent workers.\n",
      "[Parallel(n_jobs=1)]: Done   1 out of   1 | elapsed:    0.0s remaining:    0.0s\n"
     ]
    },
    {
     "name": "stdout",
     "output_type": "stream",
     "text": [
      "building tree 1 of 500\n",
      "building tree 2 of 500\n",
      "building tree 3 of 500\n",
      "building tree 4 of 500\n",
      "building tree 5 of 500\n",
      "building tree 6 of 500\n",
      "building tree 7 of 500\n",
      "building tree 8 of 500\n",
      "building tree 9 of 500\n",
      "building tree 10 of 500\n",
      "building tree 11 of 500\n",
      "building tree 12 of 500\n",
      "building tree 13 of 500\n",
      "building tree 14 of 500\n",
      "building tree 15 of 500\n",
      "building tree 16 of 500\n",
      "building tree 17 of 500\n",
      "building tree 18 of 500\n",
      "building tree 19 of 500\n",
      "building tree 20 of 500\n",
      "building tree 21 of 500\n",
      "building tree 22 of 500\n",
      "building tree 23 of 500\n",
      "building tree 24 of 500\n",
      "building tree 25 of 500\n",
      "building tree 26 of 500\n",
      "building tree 27 of 500\n",
      "building tree 28 of 500\n",
      "building tree 29 of 500\n",
      "building tree 30 of 500\n",
      "building tree 31 of 500\n",
      "building tree 32 of 500\n",
      "building tree 33 of 500\n",
      "building tree 34 of 500\n",
      "building tree 35 of 500\n",
      "building tree 36 of 500\n",
      "building tree 37 of 500\n",
      "building tree 38 of 500\n",
      "building tree 39 of 500\n",
      "building tree 40 of 500\n",
      "building tree 41 of 500\n",
      "building tree 42 of 500\n",
      "building tree 43 of 500\n",
      "building tree 44 of 500\n",
      "building tree 45 of 500\n",
      "building tree 46 of 500\n",
      "building tree 47 of 500\n",
      "building tree 48 of 500\n",
      "building tree 49 of 500\n",
      "building tree 50 of 500\n",
      "building tree 51 of 500\n",
      "building tree 52 of 500\n",
      "building tree 53 of 500\n",
      "building tree 54 of 500\n",
      "building tree 55 of 500\n",
      "building tree 56 of 500\n",
      "building tree 57 of 500\n",
      "building tree 58 of 500\n",
      "building tree 59 of 500\n",
      "building tree 60 of 500\n",
      "building tree 61 of 500\n",
      "building tree 62 of 500\n",
      "building tree 63 of 500\n",
      "building tree 64 of 500\n",
      "building tree 65 of 500\n",
      "building tree 66 of 500\n",
      "building tree 67 of 500\n",
      "building tree 68 of 500\n",
      "building tree 69 of 500\n",
      "building tree 70 of 500\n",
      "building tree 71 of 500\n",
      "building tree 72 of 500\n",
      "building tree 73 of 500\n",
      "building tree 74 of 500\n",
      "building tree 75 of 500\n",
      "building tree 76 of 500\n",
      "building tree 77 of 500\n",
      "building tree 78 of 500\n",
      "building tree 79 of 500\n",
      "building tree 80 of 500\n",
      "building tree 81 of 500\n",
      "building tree 82 of 500\n",
      "building tree 83 of 500\n",
      "building tree 84 of 500\n",
      "building tree 85 of 500\n",
      "building tree 86 of 500\n",
      "building tree 87 of 500\n",
      "building tree 88 of 500\n",
      "building tree 89 of 500\n",
      "building tree 90 of 500\n",
      "building tree 91 of 500\n",
      "building tree 92 of 500\n",
      "building tree 93 of 500\n",
      "building tree 94 of 500\n",
      "building tree 95 of 500\n",
      "building tree 96 of 500\n",
      "building tree 97 of 500\n",
      "building tree 98 of 500\n",
      "building tree 99 of 500\n",
      "building tree 100 of 500\n",
      "building tree 101 of 500\n",
      "building tree 102 of 500\n",
      "building tree 103 of 500\n",
      "building tree 104 of 500\n",
      "building tree 105 of 500\n",
      "building tree 106 of 500\n",
      "building tree 107 of 500\n",
      "building tree 108 of 500\n",
      "building tree 109 of 500\n",
      "building tree 110 of 500\n",
      "building tree 111 of 500\n",
      "building tree 112 of 500\n",
      "building tree 113 of 500\n",
      "building tree 114 of 500\n",
      "building tree 115 of 500\n",
      "building tree 116 of 500\n",
      "building tree 117 of 500\n",
      "building tree 118 of 500\n",
      "building tree 119 of 500\n",
      "building tree 120 of 500\n",
      "building tree 121 of 500\n",
      "building tree 122 of 500\n",
      "building tree 123 of 500\n",
      "building tree 124 of 500\n",
      "building tree 125 of 500\n",
      "building tree 126 of 500\n",
      "building tree 127 of 500\n",
      "building tree 128 of 500\n",
      "building tree 129 of 500\n",
      "building tree 130 of 500\n",
      "building tree 131 of 500\n",
      "building tree 132 of 500\n",
      "building tree 133 of 500\n",
      "building tree 134 of 500\n",
      "building tree 135 of 500\n",
      "building tree 136 of 500\n",
      "building tree 137 of 500\n",
      "building tree 138 of 500\n",
      "building tree 139 of 500\n",
      "building tree 140 of 500\n",
      "building tree 141 of 500\n",
      "building tree 142 of 500\n",
      "building tree 143 of 500\n",
      "building tree 144 of 500\n",
      "building tree 145 of 500\n",
      "building tree 146 of 500\n",
      "building tree 147 of 500\n",
      "building tree 148 of 500\n",
      "building tree 149 of 500\n",
      "building tree 150 of 500\n",
      "building tree 151 of 500\n",
      "building tree 152 of 500\n",
      "building tree 153 of 500\n",
      "building tree 154 of 500\n",
      "building tree 155 of 500\n",
      "building tree 156 of 500\n",
      "building tree 157 of 500\n",
      "building tree 158 of 500\n",
      "building tree 159 of 500\n",
      "building tree 160 of 500\n",
      "building tree 161 of 500\n",
      "building tree 162 of 500\n",
      "building tree 163 of 500\n",
      "building tree 164 of 500\n",
      "building tree 165 of 500\n",
      "building tree 166 of 500\n",
      "building tree 167 of 500\n",
      "building tree 168 of 500\n",
      "building tree 169 of 500\n",
      "building tree 170 of 500\n",
      "building tree 171 of 500\n",
      "building tree 172 of 500\n",
      "building tree 173 of 500\n",
      "building tree 174 of 500\n",
      "building tree 175 of 500\n",
      "building tree 176 of 500\n",
      "building tree 177 of 500\n",
      "building tree 178 of 500\n",
      "building tree 179 of 500\n",
      "building tree 180 of 500\n",
      "building tree 181 of 500\n",
      "building tree 182 of 500\n",
      "building tree 183 of 500\n",
      "building tree 184 of 500\n",
      "building tree 185 of 500\n",
      "building tree 186 of 500\n",
      "building tree 187 of 500\n",
      "building tree 188 of 500\n",
      "building tree 189 of 500\n",
      "building tree 190 of 500\n",
      "building tree 191 of 500\n",
      "building tree 192 of 500\n",
      "building tree 193 of 500\n",
      "building tree 194 of 500\n",
      "building tree 195 of 500\n",
      "building tree 196 of 500\n",
      "building tree 197 of 500\n",
      "building tree 198 of 500\n",
      "building tree 199 of 500\n",
      "building tree 200 of 500\n",
      "building tree 201 of 500\n",
      "building tree 202 of 500\n",
      "building tree 203 of 500\n",
      "building tree 204 of 500\n",
      "building tree 205 of 500\n",
      "building tree 206 of 500\n",
      "building tree 207 of 500\n",
      "building tree 208 of 500\n",
      "building tree 209 of 500\n",
      "building tree 210 of 500\n",
      "building tree 211 of 500\n",
      "building tree 212 of 500\n",
      "building tree 213 of 500\n",
      "building tree 214 of 500\n",
      "building tree 215 of 500\n",
      "building tree 216 of 500\n",
      "building tree 217 of 500\n",
      "building tree 218 of 500\n",
      "building tree 219 of 500\n",
      "building tree 220 of 500\n",
      "building tree 221 of 500\n",
      "building tree 222 of 500\n",
      "building tree 223 of 500\n",
      "building tree 224 of 500\n",
      "building tree 225 of 500\n",
      "building tree 226 of 500\n",
      "building tree 227 of 500\n",
      "building tree 228 of 500\n",
      "building tree 229 of 500\n",
      "building tree 230 of 500\n",
      "building tree 231 of 500\n",
      "building tree 232 of 500\n",
      "building tree 233 of 500\n",
      "building tree 234 of 500\n",
      "building tree 235 of 500\n",
      "building tree 236 of 500\n",
      "building tree 237 of 500\n",
      "building tree 238 of 500\n",
      "building tree 239 of 500\n",
      "building tree 240 of 500\n",
      "building tree 241 of 500\n",
      "building tree 242 of 500\n",
      "building tree 243 of 500\n",
      "building tree 244 of 500\n",
      "building tree 245 of 500\n",
      "building tree 246 of 500\n",
      "building tree 247 of 500\n",
      "building tree 248 of 500\n",
      "building tree 249 of 500\n",
      "building tree 250 of 500\n",
      "building tree 251 of 500\n",
      "building tree 252 of 500\n",
      "building tree 253 of 500\n",
      "building tree 254 of 500\n",
      "building tree 255 of 500\n",
      "building tree 256 of 500\n",
      "building tree 257 of 500\n",
      "building tree 258 of 500\n",
      "building tree 259 of 500\n",
      "building tree 260 of 500\n",
      "building tree 261 of 500\n",
      "building tree 262 of 500\n",
      "building tree 263 of 500\n",
      "building tree 264 of 500\n",
      "building tree 265 of 500\n",
      "building tree 266 of 500\n",
      "building tree 267 of 500\n",
      "building tree 268 of 500\n",
      "building tree 269 of 500\n",
      "building tree 270 of 500\n",
      "building tree 271 of 500\n",
      "building tree 272 of 500\n",
      "building tree 273 of 500\n",
      "building tree 274 of 500\n",
      "building tree 275 of 500\n",
      "building tree 276 of 500\n",
      "building tree 277 of 500\n",
      "building tree 278 of 500\n",
      "building tree 279 of 500\n",
      "building tree 280 of 500\n",
      "building tree 281 of 500\n",
      "building tree 282 of 500\n",
      "building tree 283 of 500\n",
      "building tree 284 of 500\n",
      "building tree 285 of 500\n",
      "building tree 286 of 500\n",
      "building tree 287 of 500\n",
      "building tree 288 of 500\n",
      "building tree 289 of 500\n",
      "building tree 290 of 500\n",
      "building tree 291 of 500\n",
      "building tree 292 of 500\n",
      "building tree 293 of 500\n",
      "building tree 294 of 500\n",
      "building tree 295 of 500\n",
      "building tree 296 of 500\n",
      "building tree 297 of 500\n",
      "building tree 298 of 500\n",
      "building tree 299 of 500\n",
      "building tree 300 of 500\n",
      "building tree 301 of 500\n",
      "building tree 302 of 500\n",
      "building tree 303 of 500\n",
      "building tree 304 of 500\n",
      "building tree 305 of 500\n",
      "building tree 306 of 500\n",
      "building tree 307 of 500\n",
      "building tree 308 of 500\n",
      "building tree 309 of 500\n",
      "building tree 310 of 500\n",
      "building tree 311 of 500\n",
      "building tree 312 of 500\n",
      "building tree 313 of 500\n",
      "building tree 314 of 500\n",
      "building tree 315 of 500\n",
      "building tree 316 of 500\n",
      "building tree 317 of 500\n",
      "building tree 318 of 500\n",
      "building tree 319 of 500\n",
      "building tree 320 of 500\n",
      "building tree 321 of 500\n",
      "building tree 322 of 500\n",
      "building tree 323 of 500\n",
      "building tree 324 of 500\n",
      "building tree 325 of 500\n",
      "building tree 326 of 500\n",
      "building tree 327 of 500\n",
      "building tree 328 of 500\n",
      "building tree 329 of 500\n",
      "building tree 330 of 500\n",
      "building tree 331 of 500\n",
      "building tree 332 of 500\n",
      "building tree 333 of 500\n"
     ]
    },
    {
     "name": "stdout",
     "output_type": "stream",
     "text": [
      "building tree 334 of 500\n",
      "building tree 335 of 500\n",
      "building tree 336 of 500\n",
      "building tree 337 of 500\n",
      "building tree 338 of 500\n",
      "building tree 339 of 500\n",
      "building tree 340 of 500\n",
      "building tree 341 of 500\n",
      "building tree 342 of 500\n",
      "building tree 343 of 500\n",
      "building tree 344 of 500\n",
      "building tree 345 of 500\n",
      "building tree 346 of 500\n",
      "building tree 347 of 500\n",
      "building tree 348 of 500\n",
      "building tree 349 of 500\n",
      "building tree 350 of 500\n",
      "building tree 351 of 500\n",
      "building tree 352 of 500\n",
      "building tree 353 of 500\n",
      "building tree 354 of 500\n",
      "building tree 355 of 500\n",
      "building tree 356 of 500\n",
      "building tree 357 of 500\n",
      "building tree 358 of 500\n",
      "building tree 359 of 500\n",
      "building tree 360 of 500\n",
      "building tree 361 of 500\n",
      "building tree 362 of 500\n",
      "building tree 363 of 500\n",
      "building tree 364 of 500\n",
      "building tree 365 of 500\n",
      "building tree 366 of 500\n",
      "building tree 367 of 500\n",
      "building tree 368 of 500\n",
      "building tree 369 of 500\n",
      "building tree 370 of 500\n",
      "building tree 371 of 500\n",
      "building tree 372 of 500\n",
      "building tree 373 of 500\n",
      "building tree 374 of 500\n",
      "building tree 375 of 500\n",
      "building tree 376 of 500\n",
      "building tree 377 of 500\n",
      "building tree 378 of 500\n",
      "building tree 379 of 500\n",
      "building tree 380 of 500\n",
      "building tree 381 of 500\n",
      "building tree 382 of 500\n",
      "building tree 383 of 500\n",
      "building tree 384 of 500\n",
      "building tree 385 of 500\n",
      "building tree 386 of 500\n",
      "building tree 387 of 500\n",
      "building tree 388 of 500\n",
      "building tree 389 of 500\n",
      "building tree 390 of 500\n",
      "building tree 391 of 500\n",
      "building tree 392 of 500\n",
      "building tree 393 of 500\n",
      "building tree 394 of 500\n",
      "building tree 395 of 500\n",
      "building tree 396 of 500\n",
      "building tree 397 of 500\n",
      "building tree 398 of 500\n",
      "building tree 399 of 500\n",
      "building tree 400 of 500\n",
      "building tree 401 of 500\n",
      "building tree 402 of 500\n",
      "building tree 403 of 500\n",
      "building tree 404 of 500\n",
      "building tree 405 of 500\n",
      "building tree 406 of 500\n",
      "building tree 407 of 500\n",
      "building tree 408 of 500\n",
      "building tree 409 of 500\n",
      "building tree 410 of 500\n",
      "building tree 411 of 500\n",
      "building tree 412 of 500\n",
      "building tree 413 of 500\n",
      "building tree 414 of 500\n",
      "building tree 415 of 500\n",
      "building tree 416 of 500\n",
      "building tree 417 of 500\n",
      "building tree 418 of 500\n",
      "building tree 419 of 500\n",
      "building tree 420 of 500\n",
      "building tree 421 of 500\n",
      "building tree 422 of 500\n",
      "building tree 423 of 500\n",
      "building tree 424 of 500\n",
      "building tree 425 of 500\n",
      "building tree 426 of 500\n",
      "building tree 427 of 500\n",
      "building tree 428 of 500\n",
      "building tree 429 of 500\n",
      "building tree 430 of 500\n",
      "building tree 431 of 500\n",
      "building tree 432 of 500\n",
      "building tree 433 of 500\n",
      "building tree 434 of 500\n",
      "building tree 435 of 500\n",
      "building tree 436 of 500\n",
      "building tree 437 of 500\n",
      "building tree 438 of 500\n",
      "building tree 439 of 500\n",
      "building tree 440 of 500\n",
      "building tree 441 of 500\n",
      "building tree 442 of 500\n",
      "building tree 443 of 500\n",
      "building tree 444 of 500\n",
      "building tree 445 of 500\n",
      "building tree 446 of 500\n",
      "building tree 447 of 500\n",
      "building tree 448 of 500\n",
      "building tree 449 of 500\n",
      "building tree 450 of 500\n",
      "building tree 451 of 500\n",
      "building tree 452 of 500\n",
      "building tree 453 of 500\n",
      "building tree 454 of 500\n",
      "building tree 455 of 500\n",
      "building tree 456 of 500\n",
      "building tree 457 of 500\n",
      "building tree 458 of 500\n",
      "building tree 459 of 500\n",
      "building tree 460 of 500\n",
      "building tree 461 of 500\n",
      "building tree 462 of 500\n",
      "building tree 463 of 500\n",
      "building tree 464 of 500\n",
      "building tree 465 of 500\n",
      "building tree 466 of 500\n",
      "building tree 467 of 500\n",
      "building tree 468 of 500\n",
      "building tree 469 of 500\n",
      "building tree 470 of 500\n",
      "building tree 471 of 500\n",
      "building tree 472 of 500\n",
      "building tree 473 of 500\n",
      "building tree 474 of 500\n",
      "building tree 475 of 500\n",
      "building tree 476 of 500\n",
      "building tree 477 of 500\n",
      "building tree 478 of 500\n",
      "building tree 479 of 500\n",
      "building tree 480 of 500\n",
      "building tree 481 of 500\n",
      "building tree 482 of 500\n",
      "building tree 483 of 500\n",
      "building tree 484 of 500\n",
      "building tree 485 of 500\n",
      "building tree 486 of 500\n",
      "building tree 487 of 500\n",
      "building tree 488 of 500\n",
      "building tree 489 of 500\n",
      "building tree 490 of 500\n",
      "building tree 491 of 500\n",
      "building tree 492 of 500\n",
      "building tree 493 of 500\n",
      "building tree 494 of 500\n",
      "building tree 495 of 500\n",
      "building tree 496 of 500\n",
      "building tree 497 of 500\n",
      "building tree 498 of 500\n",
      "building tree 499 of 500\n",
      "building tree 500 of 500\n"
     ]
    },
    {
     "name": "stderr",
     "output_type": "stream",
     "text": [
      "[Parallel(n_jobs=1)]: Done 500 out of 500 | elapsed:    3.5s finished\n"
     ]
    },
    {
     "data": {
      "text/plain": [
       "RandomForestRegressor(max_features=5, min_samples_leaf=5, n_estimators=500,\n",
       "                      random_state=88, verbose=2)"
      ]
     },
     "execution_count": 21,
     "metadata": {},
     "output_type": "execute_result"
    }
   ],
   "source": [
    "from sklearn.ensemble import RandomForestRegressor\n",
    "\n",
    "rf = RandomForestRegressor(max_features=5, min_samples_leaf=5, n_estimators = 500, random_state=88, verbose=2)\n",
    "rf.fit(X_train, y_train)"
   ]
  },
  {
   "cell_type": "code",
   "execution_count": 24,
   "metadata": {},
   "outputs": [
    {
     "name": "stdout",
     "output_type": "stream",
     "text": [
      "R2: 0.69844\n",
      "OSR2: 0.56391\n"
     ]
    }
   ],
   "source": [
    "rf.verbose = False\n",
    "\n",
    "print('OSR2:', round(r2_score(y_test, rf.predict(X_test)), 5))"
   ]
  },
  {
   "cell_type": "markdown",
   "metadata": {},
   "source": [
    "## Random Forest Regressor with CV"
   ]
  },
  {
   "cell_type": "code",
   "execution_count": 25,
   "metadata": {},
   "outputs": [
    {
     "name": "stdout",
     "output_type": "stream",
     "text": [
      "time: 394.56 s\n"
     ]
    }
   ],
   "source": [
    "import time\n",
    "\n",
    "grid_values = {'max_features': np.linspace(1,18,18, dtype='int32'),\n",
    "              'min_samples_leaf': [5],\n",
    "              'n_estimators': [500],\n",
    "              'random_state': [88]} \n",
    "\n",
    "tic = time.time()\n",
    "\n",
    "rf = RandomForestRegressor() \n",
    "rf_cv = GridSearchCV(rf, param_grid=grid_values, scoring='r2', cv=5)\n",
    "rf_cv.fit(X_train, y_train)\n",
    "\n",
    "toc = time.time()\n",
    "print('time:', round(toc-tic, 2),'s')"
   ]
  },
  {
   "cell_type": "code",
   "execution_count": 26,
   "metadata": {},
   "outputs": [
    {
     "data": {
      "text/plain": [
       "(0.3, 0.6)"
      ]
     },
     "execution_count": 26,
     "metadata": {},
     "output_type": "execute_result"
    },
    {
     "data": {
      "image/png": "[encoded data removed]",
      "text/plain": [
       "<Figure size 576x432 with 1 Axes>"
      ]
     },
     "metadata": {
      "needs_background": "light"
     },
     "output_type": "display_data"
    }
   ],
   "source": [
    "max_features = rf_cv.cv_results_['param_max_features'].data\n",
    "R2_scores = rf_cv.cv_results_['mean_test_score']\n",
    "\n",
    "plt.figure(figsize=(8, 6))\n",
    "plt.xlabel('max features', fontsize=16)\n",
    "plt.ylabel('CV R2', fontsize=16)\n",
    "plt.scatter(max_features, R2_scores, s=30)\n",
    "plt.plot(max_features, R2_scores, linewidth=3)\n",
    "plt.grid(True, which='both')\n",
    "plt.xlim([1, 19])\n",
    "plt.ylim([0.3, 0.6])"
   ]
  },
  {
   "cell_type": "code",
   "execution_count": 27,
   "metadata": {},
   "outputs": [
    {
     "name": "stdout",
     "output_type": "stream",
     "text": [
      "{'max_features': 16, 'min_samples_leaf': 5, 'n_estimators': 500, 'random_state': 88}\n"
     ]
    }
   ],
   "source": [
    "print(rf_cv.best_params_)"
   ]
  },
  {
   "cell_type": "code",
   "execution_count": 28,
   "metadata": {},
   "outputs": [
    {
     "name": "stdout",
     "output_type": "stream",
     "text": [
      "CV R2: 0.52587\n",
      "OSR2: 0.55551\n"
     ]
    }
   ],
   "source": [
    "print('CV R2:', round(rf_cv.best_score_, 5))\n",
    "print('OSR2:', round(r2_score(y_test, rf_cv.predict(X_test)), 5))"
   ]
  },
  {
   "cell_type": "markdown",
   "metadata": {},
   "source": [
    "### Feature Importance"
   ]
  },
  {
   "cell_type": "code",
   "execution_count": 29,
   "metadata": {},
   "outputs": [
    {
     "data": {
      "text/html": [
       "<div>\n",
       "<style scoped>\n",
       "    .dataframe tbody tr th:only-of-type {\n",
       "        vertical-align: middle;\n",
       "    }\n",
       "\n",
       "    .dataframe tbody tr th {\n",
       "        vertical-align: top;\n",
       "    }\n",
       "\n",
       "    .dataframe thead th {\n",
       "        text-align: right;\n",
       "    }\n",
       "</style>\n",
       "<table border=\"1\" class=\"dataframe\">\n",
       "  <thead>\n",
       "    <tr style=\"text-align: right;\">\n",
       "      <th></th>\n",
       "      <th>Feature</th>\n",
       "      <th>Importance score</th>\n",
       "    </tr>\n",
       "  </thead>\n",
       "  <tbody>\n",
       "    <tr>\n",
       "      <th>0</th>\n",
       "      <td>titleWords</td>\n",
       "      <td>3.7</td>\n",
       "    </tr>\n",
       "    <tr>\n",
       "      <th>1</th>\n",
       "      <td>adWords</td>\n",
       "      <td>3.0</td>\n",
       "    </tr>\n",
       "    <tr>\n",
       "      <th>2</th>\n",
       "      <td>depth</td>\n",
       "      <td>1.6</td>\n",
       "    </tr>\n",
       "    <tr>\n",
       "      <th>3</th>\n",
       "      <td>position</td>\n",
       "      <td>0.3</td>\n",
       "    </tr>\n",
       "    <tr>\n",
       "      <th>4</th>\n",
       "      <td>advCTR</td>\n",
       "      <td>14.5</td>\n",
       "    </tr>\n",
       "    <tr>\n",
       "      <th>5</th>\n",
       "      <td>advCTRInPos</td>\n",
       "      <td>45.6</td>\n",
       "    </tr>\n",
       "    <tr>\n",
       "      <th>6</th>\n",
       "      <td>queryCTR</td>\n",
       "      <td>7.5</td>\n",
       "    </tr>\n",
       "    <tr>\n",
       "      <th>7</th>\n",
       "      <td>queryCTRInPos</td>\n",
       "      <td>21.1</td>\n",
       "    </tr>\n",
       "    <tr>\n",
       "      <th>8</th>\n",
       "      <td>gender_female</td>\n",
       "      <td>0.5</td>\n",
       "    </tr>\n",
       "    <tr>\n",
       "      <th>9</th>\n",
       "      <td>gender_male</td>\n",
       "      <td>0.4</td>\n",
       "    </tr>\n",
       "    <tr>\n",
       "      <th>10</th>\n",
       "      <td>gender_unknown</td>\n",
       "      <td>0.4</td>\n",
       "    </tr>\n",
       "    <tr>\n",
       "      <th>11</th>\n",
       "      <td>age_0-12</td>\n",
       "      <td>0.0</td>\n",
       "    </tr>\n",
       "    <tr>\n",
       "      <th>12</th>\n",
       "      <td>age_13-18</td>\n",
       "      <td>0.2</td>\n",
       "    </tr>\n",
       "    <tr>\n",
       "      <th>13</th>\n",
       "      <td>age_19-24</td>\n",
       "      <td>0.4</td>\n",
       "    </tr>\n",
       "    <tr>\n",
       "      <th>14</th>\n",
       "      <td>age_25-30</td>\n",
       "      <td>0.2</td>\n",
       "    </tr>\n",
       "    <tr>\n",
       "      <th>15</th>\n",
       "      <td>age_31-40</td>\n",
       "      <td>0.2</td>\n",
       "    </tr>\n",
       "    <tr>\n",
       "      <th>16</th>\n",
       "      <td>age_41+</td>\n",
       "      <td>0.0</td>\n",
       "    </tr>\n",
       "    <tr>\n",
       "      <th>17</th>\n",
       "      <td>age_unknown</td>\n",
       "      <td>0.4</td>\n",
       "    </tr>\n",
       "  </tbody>\n",
       "</table>\n",
       "</div>"
      ],
      "text/plain": [
       "           Feature  Importance score\n",
       "0       titleWords               3.7\n",
       "1          adWords               3.0\n",
       "2            depth               1.6\n",
       "3         position               0.3\n",
       "4           advCTR              14.5\n",
       "5      advCTRInPos              45.6\n",
       "6         queryCTR               7.5\n",
       "7    queryCTRInPos              21.1\n",
       "8    gender_female               0.5\n",
       "9      gender_male               0.4\n",
       "10  gender_unknown               0.4\n",
       "11        age_0-12               0.0\n",
       "12       age_13-18               0.2\n",
       "13       age_19-24               0.4\n",
       "14       age_25-30               0.2\n",
       "15       age_31-40               0.2\n",
       "16         age_41+               0.0\n",
       "17     age_unknown               0.4"
      ]
     },
     "execution_count": 29,
     "metadata": {},
     "output_type": "execute_result"
    }
   ],
   "source": [
    "pd.DataFrame({'Feature' : X_train.columns, \n",
    "              'Importance score': 100*rf_cv.best_estimator_.feature_importances_}).round(1)"
   ]
  },
  {
   "cell_type": "code",
   "execution_count": 30,
   "metadata": {},
   "outputs": [
    {
     "data": {
      "image/png": "[encoded data removed]",
      "text/plain": [
       "<Figure size 576x504 with 1 Axes>"
      ]
     },
     "metadata": {
      "needs_background": "light"
     },
     "output_type": "display_data"
    }
   ],
   "source": [
    "plt.figure(figsize=(8,7))\n",
    "plt.barh(X_train.columns, 100*rf_cv.best_estimator_.feature_importances_)\n",
    "plt.show()"
   ]
  },
  {
   "cell_type": "markdown",
   "metadata": {},
   "source": [
    "## Gradient Boosting Regressor"
   ]
  },
  {
   "cell_type": "code",
   "execution_count": 31,
   "metadata": {},
   "outputs": [
    {
     "name": "stdout",
     "output_type": "stream",
     "text": [
      "      Iter       Train Loss   Remaining Time \n",
      "         1           0.0060            9.16s\n",
      "         2           0.0060           22.84s\n",
      "         3           0.0060           18.61s\n",
      "         4           0.0060           15.48s\n",
      "         5           0.0060           13.62s\n",
      "         6           0.0060           12.33s\n",
      "         7           0.0060           11.36s\n",
      "         8           0.0060           10.65s\n",
      "         9           0.0060           10.10s\n",
      "        10           0.0060            9.69s\n",
      "        20           0.0059            7.52s\n",
      "        30           0.0059            6.97s\n",
      "        40           0.0058            6.73s\n",
      "        50           0.0058            6.54s\n",
      "        60           0.0057            6.29s\n",
      "        70           0.0057            6.19s\n",
      "        80           0.0056            6.20s\n",
      "        90           0.0056            6.08s\n",
      "       100           0.0055            6.09s\n",
      "       200           0.0051            6.34s\n",
      "       300           0.0048            5.13s\n",
      "       400           0.0045            4.19s\n",
      "       500           0.0043            3.39s\n",
      "       600           0.0041            2.65s\n",
      "       700           0.0039            1.97s\n",
      "       800           0.0038            1.29s\n",
      "       900           0.0036            0.64s\n",
      "      1000           0.0035            0.00s\n"
     ]
    },
    {
     "data": {
      "text/plain": [
       "GradientBoostingRegressor(learning_rate=0.001, n_estimators=1000,\n",
       "                          random_state=88, verbose=1)"
      ]
     },
     "execution_count": 31,
     "metadata": {},
     "output_type": "execute_result"
    }
   ],
   "source": [
    "from sklearn.ensemble import GradientBoostingRegressor\n",
    "\n",
    "gbr = GradientBoostingRegressor(n_estimators=1000, learning_rate= 0.001, random_state=88, verbose=1,\n",
    "                                max_depth=3) \n",
    "# Alternatively to max_depth, we could also use max_leaf_nodes as a way to produce shallower trees\n",
    "gbr.fit(X_train, y_train)"
   ]
  },
  {
   "cell_type": "code",
   "execution_count": 32,
   "metadata": {},
   "outputs": [
    {
     "name": "stdout",
     "output_type": "stream",
     "text": [
      "OSR2: 0.42805\n"
     ]
    }
   ],
   "source": [
    "print('OSR2:', round(r2_score(y_test, gbr.predict(X_test)), 5))"
   ]
  },
  {
   "cell_type": "markdown",
   "metadata": {},
   "source": [
    "### V1 (max_depth fixed)"
   ]
  },
  {
   "cell_type": "code",
   "execution_count": 291,
   "metadata": {},
   "outputs": [
    {
     "name": "stdout",
     "output_type": "stream",
     "text": [
      "time: 652.55 s\n"
     ]
    }
   ],
   "source": [
    "grid_values = {'max_depth': [30],\n",
    "               'max_leaf_nodes': np.logspace(1, 10, 10, base=2, dtype='int32'), # BEFORE: np.logspace(1, 6, 6, base=2, dtype='int32'),\n",
    "               'min_samples_leaf': [10],\n",
    "               'n_estimators': [1000],\n",
    "               'learning_rate': [0.001],\n",
    "               'random_state': [88]} \n",
    "\n",
    "tic = time.time()\n",
    "\n",
    "gbr = GradientBoostingRegressor()\n",
    "gbr_cv1 = GridSearchCV(gbr, param_grid=grid_values, scoring='r2', cv=5)\n",
    "gbr_cv1.fit(X_train, y_train)\n",
    "\n",
    "toc = time.time()\n",
    "print('time:', round(toc-tic, 2),'s')"
   ]
  },
  {
   "cell_type": "markdown",
   "metadata": {},
   "source": [
    "### V2 (max_leaf_nodes fixed)"
   ]
  },
  {
   "cell_type": "code",
   "execution_count": 292,
   "metadata": {},
   "outputs": [
    {
     "name": "stdout",
     "output_type": "stream",
     "text": [
      "time: 1518.15 s\n"
     ]
    }
   ],
   "source": [
    "grid_values = {'max_depth': np.linspace(1, 20, 20, dtype='int32'), # BEFORE: np.linspace(1, 10, 10, dtype='int32'),\n",
    "               'max_leaf_nodes': [None],\n",
    "               'min_samples_leaf': [10],\n",
    "               'n_estimators': [1000],\n",
    "               'learning_rate': [0.001],\n",
    "               'random_state': [88]} \n",
    "\n",
    "tic = time.time()\n",
    "\n",
    "gbr = GradientBoostingRegressor()\n",
    "gbr_cv2 = GridSearchCV(gbr, param_grid=grid_values, scoring='r2', cv=5)\n",
    "gbr_cv2.fit(X_train, y_train)\n",
    "\n",
    "toc = time.time()\n",
    "print('time:', round(toc-tic, 2),'s')"
   ]
  },
  {
   "cell_type": "code",
   "execution_count": 293,
   "metadata": {},
   "outputs": [
    {
     "data": {
      "image/png": "[encoded data removed]",
      "text/plain": [
       "<Figure size 864x360 with 2 Axes>"
      ]
     },
     "metadata": {
      "needs_background": "light"
     },
     "output_type": "display_data"
    }
   ],
   "source": [
    "## V1 plot\n",
    "max_leaf_nodes = gbr_cv1.cv_results_['param_max_leaf_nodes'].data\n",
    "R2_scores = gbr_cv1.cv_results_['mean_test_score']\n",
    "\n",
    "plt.figure(figsize=(12, 5))\n",
    "\n",
    "plt.subplot(1, 2, 1)\n",
    "plt.xlabel('max leaf nodes', fontsize=16)\n",
    "plt.ylabel('CV R2', fontsize=16)\n",
    "plt.scatter(max_leaf_nodes, R2_scores, s=30)\n",
    "plt.plot(max_leaf_nodes, R2_scores, linewidth=3)\n",
    "plt.grid(True, which='both')\n",
    "plt.xlim([0, 1025])\n",
    "plt.ylim([0.1, 0.6])\n",
    "plt.title('Max Depth = 30', fontsize=16)\n",
    "\n",
    "## V2 plot\n",
    "max_depth = gbr_cv2.cv_results_['param_max_depth'].data\n",
    "R2_scores = gbr_cv2.cv_results_['mean_test_score']\n",
    "\n",
    "plt.subplot(1, 2, 2)\n",
    "plt.xlabel('max depth', fontsize=16)\n",
    "plt.ylabel('CV R2', fontsize=16)\n",
    "plt.scatter(max_depth, R2_scores, s=30)\n",
    "plt.plot(max_depth, R2_scores, linewidth=3)\n",
    "plt.title('Max Leaf Nodes = Unlimited', fontsize=16)\n",
    "plt.xlim([0, 21])\n",
    "plt.ylim([0.1, 0.6])\n",
    "plt.grid(True, which='both')\n",
    "plt.show()"
   ]
  },
  {
   "cell_type": "code",
   "execution_count": 294,
   "metadata": {},
   "outputs": [
    {
     "name": "stdout",
     "output_type": "stream",
     "text": [
      "128 0.4567423656492172\n",
      "13 0.45722543963669215\n"
     ]
    }
   ],
   "source": [
    "print(gbr_cv1.best_params_['max_leaf_nodes'], gbr_cv1.best_score_)\n",
    "print(gbr_cv2.best_params_['max_depth'], gbr_cv2.best_score_)"
   ]
  },
  {
   "cell_type": "markdown",
   "metadata": {},
   "source": [
    "### V3 (more complete grid)"
   ]
  },
  {
   "cell_type": "code",
   "execution_count": 263,
   "metadata": {},
   "outputs": [
    {
     "name": "stdout",
     "output_type": "stream",
     "text": [
      "time: 114302.42 s\n"
     ]
    }
   ],
   "source": [
    "grid_values = {'max_depth': np.linspace(2, 13, 12, dtype='int32'),\n",
    "               'min_samples_leaf': [10],\n",
    "               'n_estimators': np.logspace(9, 15, num=7, base=2, dtype='int32'),\n",
    "               'learning_rate': [0.001],\n",
    "               'random_state': [88]} \n",
    "\n",
    "tic = time.time()\n",
    "\n",
    "gbr = GradientBoostingRegressor()\n",
    "gbr_cv3 = GridSearchCV(gbr, param_grid=grid_values, scoring='r2', cv=5)\n",
    "gbr_cv3.fit(X_train, y_train)\n",
    "\n",
    "toc = time.time()\n",
    "print('time:', round(toc-tic, 2),'s')"
   ]
  },
  {
   "cell_type": "code",
   "execution_count": 266,
   "metadata": {},
   "outputs": [
    {
     "data": {
      "image/png": "[encoded data removed]",
      "text/plain": [
       "<Figure size 864x576 with 1 Axes>"
      ]
     },
     "metadata": {
      "needs_background": "light"
     },
     "output_type": "display_data"
    }
   ],
   "source": [
    "n_estimators = gbr_cv3.cv_results_['param_n_estimators'].data\n",
    "R2_scores = gbr_cv3.cv_results_['mean_test_score']\n",
    "\n",
    "plt.figure(figsize=(12, 8))\n",
    "plt.xlabel('n estimators', fontsize=16)\n",
    "plt.ylabel('CV R2', fontsize=16)\n",
    "plt.grid(True, which='both')\n",
    "\n",
    "N = len(grid_values['max_depth'])\n",
    "M = len(grid_values['n_estimators'])\n",
    "for i in range(N):\n",
    "    plt.scatter(n_estimators[(M*i):(M*i)+M], R2_scores[(M*i):(M*i)+M], s=30)\n",
    "    plt.plot(n_estimators[(M*i):(M*i)+M], R2_scores[(M*i):(M*i)+M], linewidth=2,\n",
    "             label='max depth = '+str(grid_values['max_depth'][i]))\n",
    "plt.legend(loc='lower right')\n",
    "plt.show()"
   ]
  },
  {
   "cell_type": "code",
   "execution_count": 267,
   "metadata": {},
   "outputs": [
    {
     "name": "stdout",
     "output_type": "stream",
     "text": [
      "{'learning_rate': 0.001, 'max_depth': 5, 'min_samples_leaf': 10, 'n_estimators': 16384, 'random_state': 88}\n"
     ]
    }
   ],
   "source": [
    "print(gbr_cv3.best_params_)"
   ]
  },
  {
   "cell_type": "code",
   "execution_count": 36,
   "metadata": {},
   "outputs": [],
   "source": [
    "print('CV R2:', round(gbr_cv3.best_score_, 5))\n",
    "print('OSR2:', round(r2_score(y_test, gbr_cv3.predict(X_test)), 5))"
   ]
  },
  {
   "cell_type": "code",
   "execution_count": 269,
   "metadata": {},
   "outputs": [
    {
     "data": {
      "text/html": [
       "<div>\n",
       "<style scoped>\n",
       "    .dataframe tbody tr th:only-of-type {\n",
       "        vertical-align: middle;\n",
       "    }\n",
       "\n",
       "    .dataframe tbody tr th {\n",
       "        vertical-align: top;\n",
       "    }\n",
       "\n",
       "    .dataframe thead th {\n",
       "        text-align: right;\n",
       "    }\n",
       "</style>\n",
       "<table border=\"1\" class=\"dataframe\">\n",
       "  <thead>\n",
       "    <tr style=\"text-align: right;\">\n",
       "      <th></th>\n",
       "      <th>Feature</th>\n",
       "      <th>Importance score</th>\n",
       "    </tr>\n",
       "  </thead>\n",
       "  <tbody>\n",
       "    <tr>\n",
       "      <th>0</th>\n",
       "      <td>titleWords</td>\n",
       "      <td>2.7</td>\n",
       "    </tr>\n",
       "    <tr>\n",
       "      <th>1</th>\n",
       "      <td>adWords</td>\n",
       "      <td>2.7</td>\n",
       "    </tr>\n",
       "    <tr>\n",
       "      <th>2</th>\n",
       "      <td>depth</td>\n",
       "      <td>2.3</td>\n",
       "    </tr>\n",
       "    <tr>\n",
       "      <th>3</th>\n",
       "      <td>position</td>\n",
       "      <td>0.4</td>\n",
       "    </tr>\n",
       "    <tr>\n",
       "      <th>4</th>\n",
       "      <td>advCTR</td>\n",
       "      <td>13.1</td>\n",
       "    </tr>\n",
       "    <tr>\n",
       "      <th>5</th>\n",
       "      <td>advCTRInPos</td>\n",
       "      <td>49.3</td>\n",
       "    </tr>\n",
       "    <tr>\n",
       "      <th>6</th>\n",
       "      <td>queryCTR</td>\n",
       "      <td>6.7</td>\n",
       "    </tr>\n",
       "    <tr>\n",
       "      <th>7</th>\n",
       "      <td>queryCTRInPos</td>\n",
       "      <td>21.1</td>\n",
       "    </tr>\n",
       "    <tr>\n",
       "      <th>8</th>\n",
       "      <td>gender_female</td>\n",
       "      <td>0.5</td>\n",
       "    </tr>\n",
       "    <tr>\n",
       "      <th>9</th>\n",
       "      <td>gender_male</td>\n",
       "      <td>0.1</td>\n",
       "    </tr>\n",
       "    <tr>\n",
       "      <th>10</th>\n",
       "      <td>gender_unknown</td>\n",
       "      <td>0.2</td>\n",
       "    </tr>\n",
       "    <tr>\n",
       "      <th>11</th>\n",
       "      <td>age_0-12</td>\n",
       "      <td>0.0</td>\n",
       "    </tr>\n",
       "    <tr>\n",
       "      <th>12</th>\n",
       "      <td>age_13-18</td>\n",
       "      <td>0.1</td>\n",
       "    </tr>\n",
       "    <tr>\n",
       "      <th>13</th>\n",
       "      <td>age_19-24</td>\n",
       "      <td>0.1</td>\n",
       "    </tr>\n",
       "    <tr>\n",
       "      <th>14</th>\n",
       "      <td>age_25-30</td>\n",
       "      <td>0.1</td>\n",
       "    </tr>\n",
       "    <tr>\n",
       "      <th>15</th>\n",
       "      <td>age_31-40</td>\n",
       "      <td>0.1</td>\n",
       "    </tr>\n",
       "    <tr>\n",
       "      <th>16</th>\n",
       "      <td>age_41+</td>\n",
       "      <td>0.0</td>\n",
       "    </tr>\n",
       "    <tr>\n",
       "      <th>17</th>\n",
       "      <td>age_unknown</td>\n",
       "      <td>0.4</td>\n",
       "    </tr>\n",
       "  </tbody>\n",
       "</table>\n",
       "</div>"
      ],
      "text/plain": [
       "           Feature  Importance score\n",
       "0       titleWords               2.7\n",
       "1          adWords               2.7\n",
       "2            depth               2.3\n",
       "3         position               0.4\n",
       "4           advCTR              13.1\n",
       "5      advCTRInPos              49.3\n",
       "6         queryCTR               6.7\n",
       "7    queryCTRInPos              21.1\n",
       "8    gender_female               0.5\n",
       "9      gender_male               0.1\n",
       "10  gender_unknown               0.2\n",
       "11        age_0-12               0.0\n",
       "12       age_13-18               0.1\n",
       "13       age_19-24               0.1\n",
       "14       age_25-30               0.1\n",
       "15       age_31-40               0.1\n",
       "16         age_41+               0.0\n",
       "17     age_unknown               0.4"
      ]
     },
     "execution_count": 269,
     "metadata": {},
     "output_type": "execute_result"
    }
   ],
   "source": [
    "pd.DataFrame({'Feature' : X_train.columns, \n",
    "              'Importance score': 100*gbr_cv3.best_estimator_.feature_importances_}).round(1)"
   ]
  },
  {
   "cell_type": "code",
   "execution_count": 270,
   "metadata": {},
   "outputs": [
    {
     "data": {
      "text/plain": [
       "<BarContainer object of 18 artists>"
      ]
     },
     "execution_count": 270,
     "metadata": {},
     "output_type": "execute_result"
    },
    {
     "data": {
      "image/png": "[encoded data removed]",
      "text/plain": [
       "<Figure size 576x504 with 1 Axes>"
      ]
     },
     "metadata": {
      "needs_background": "light"
     },
     "output_type": "display_data"
    }
   ],
   "source": [
    "plt.figure(figsize=(8,7))\n",
    "plt.barh(X_train.columns, 100*gbr_cv3.best_estimator_.feature_importances_)\n",
    "plt.show()"
   ]
  },
  {
   "cell_type": "markdown",
   "metadata": {},
   "source": [
    "## Staged GBR I"
   ]
  },
  {
   "cell_type": "code",
   "execution_count": 38,
   "metadata": {},
   "outputs": [
    {
     "name": "stdout",
     "output_type": "stream",
     "text": [
      "time: 6962.78 s\n"
     ]
    }
   ],
   "source": [
    "grid_values = {'max_depth': [8],\n",
    "               'min_samples_leaf': [10],\n",
    "               'n_estimators': [2**15],\n",
    "               'learning_rate': [0.001],\n",
    "               'random_state': [88]} \n",
    "\n",
    "tic = time.time()\n",
    "\n",
    "gbr = GradientBoostingRegressor()\n",
    "gbr_stage = GridSearchCV(gbr, param_grid=grid_values, scoring='r2', cv=5)\n",
    "gbr_stage.fit(X_train, y_train)\n",
    "\n",
    "toc = time.time()\n",
    "print('time:', round(toc-tic, 2),'s')"
   ]
  },
  {
   "cell_type": "code",
   "execution_count": 71,
   "metadata": {},
   "outputs": [
    {
     "name": "stdout",
     "output_type": "stream",
     "text": [
      "CV R2: 0.51937\n",
      "OSR2: 0.51236\n"
     ]
    }
   ],
   "source": [
    "print('CV R2:', round(gbr_stage.best_score_, 5))\n",
    "print('OSR2:', round(r2_score(y_test, gbr_stage.predict(X_test)), 5))"
   ]
  },
  {
   "cell_type": "code",
   "execution_count": 143,
   "metadata": {},
   "outputs": [],
   "source": [
    "test_score = np.zeros((grid_values['n_estimators'][0],), dtype=np.float64)\n",
    "R2 = np.zeros((grid_values['n_estimators'][0],), dtype=np.float64)\n",
    "for i, y_pred in enumerate(gbr_stage.best_estimator_.staged_predict(X_test)):\n",
    "    test_score[i] = gbr_stage.best_estimator_.loss_(y_test, y_pred)\n",
    "    R2[i] = r2_score(y_test, y_pred)"
   ]
  },
  {
   "cell_type": "code",
   "execution_count": 164,
   "metadata": {},
   "outputs": [
    {
     "data": {
      "image/png": "[encoded data removed]",
      "text/plain": [
       "<Figure size 720x864 with 2 Axes>"
      ]
     },
     "metadata": {
      "needs_background": "light"
     },
     "output_type": "display_data"
    }
   ],
   "source": [
    "fig = plt.figure(figsize=(10, 12))\n",
    "\n",
    "ax = fig.add_subplot(2, 1, 1)\n",
    "plt.title('Deviance')\n",
    "ax.plot(np.arange(grid_values['n_estimators'][0]) + 1, gbr_stage.best_estimator_.train_score_, 'b-',\n",
    "         label='Training Set Deviance')\n",
    "ax.plot(np.arange(grid_values['n_estimators'][0]) + 1, test_score, 'r-',\n",
    "         label='Test Set Deviance')\n",
    "ax.legend(loc='upper right')\n",
    "plt.xlabel('Boosting Iterations')\n",
    "plt.ylabel('Deviance')\n",
    "ax.set_xticks(np.arange(0, 35000, 2500))\n",
    "ax.set_yticks(np.arange(0, 0.006, 0.00025), minor=True)\n",
    "ax.grid(which='both')\n",
    "\n",
    "ax = fig.add_subplot(2, 1, 2)\n",
    "plt.title('R2')\n",
    "ax.plot(np.arange(grid_values['n_estimators'][0]) + 1, R2, 'r-',\n",
    "         label='Test Set R2')\n",
    "ax.legend(loc='upper right')\n",
    "plt.xlabel('Boosting Iterations')\n",
    "plt.ylabel('R2')\n",
    "ax.set_xticks(np.arange(0, 35000, 2500))\n",
    "ax.set_yticks(np.arange(0, 0.6, 0.025), minor=True)\n",
    "ax.grid(which='both')\n",
    "\n",
    "fig.tight_layout()\n",
    "plt.show()"
   ]
  },
  {
   "cell_type": "markdown",
   "metadata": {},
   "source": [
    "## Staged GBR II (learning rate 0.1)"
   ]
  },
  {
   "cell_type": "code",
   "execution_count": 132,
   "metadata": {},
   "outputs": [
    {
     "name": "stdout",
     "output_type": "stream",
     "text": [
      "time: 2328.66 s\n"
     ]
    }
   ],
   "source": [
    "grid_values = {'max_depth': [8],\n",
    "               'min_samples_leaf': [10],\n",
    "               'n_estimators': [2**15],\n",
    "               'learning_rate': [0.1],\n",
    "               'random_state': [88]} \n",
    "\n",
    "tic = time.time()\n",
    "\n",
    "gbr = GradientBoostingRegressor()\n",
    "gbr_stage2 = GridSearchCV(gbr, param_grid=grid_values, scoring='r2', cv=5)\n",
    "gbr_stage2.fit(X_train, y_train)\n",
    "\n",
    "toc = time.time()\n",
    "print('time:', round(toc-tic, 2),'s')"
   ]
  },
  {
   "cell_type": "code",
   "execution_count": 135,
   "metadata": {},
   "outputs": [
    {
     "name": "stdout",
     "output_type": "stream",
     "text": [
      "CV R2: 0.48132\n",
      "OSR2: 0.4395\n"
     ]
    }
   ],
   "source": [
    "print('CV R2:', round(gbr_stage2.best_score_, 5))\n",
    "print('OSR2:', round(r2_score(y_test, gbr_stage2.predict(X_test)), 5))"
   ]
  },
  {
   "cell_type": "code",
   "execution_count": 165,
   "metadata": {},
   "outputs": [],
   "source": [
    "test_score = np.zeros((grid_values['n_estimators'][0],), dtype=np.float64)\n",
    "R2 = np.zeros((grid_values['n_estimators'][0],), dtype=np.float64)\n",
    "for i, y_pred in enumerate(gbr_stage2.best_estimator_.staged_predict(X_test)):\n",
    "    test_score[i] = gbr_stage2.best_estimator_.loss_(y_test, y_pred)\n",
    "    R2[i] = r2_score(y_test, y_pred)"
   ]
  },
  {
   "cell_type": "code",
   "execution_count": 190,
   "metadata": {},
   "outputs": [
    {
     "data": {
      "image/png": "[encoded data removed]",
      "text/plain": [
       "<Figure size 720x864 with 2 Axes>"
      ]
     },
     "metadata": {
      "needs_background": "light"
     },
     "output_type": "display_data"
    }
   ],
   "source": [
    "fig = plt.figure(figsize=(10, 12))\n",
    "\n",
    "ax = fig.add_subplot(2, 1, 1)\n",
    "plt.title('Deviance')\n",
    "ax.plot(np.arange(grid_values['n_estimators'][0]) + 1, gbr_stage2.best_estimator_.train_score_, 'b-',\n",
    "         label='Training Set Deviance')\n",
    "ax.plot(np.arange(grid_values['n_estimators'][0]) + 1, test_score, 'r-',\n",
    "         label='Test Set Deviance')\n",
    "ax.legend(loc='upper right')\n",
    "plt.xlabel('Boosting Iterations')\n",
    "plt.ylabel('Deviance')\n",
    "# ax.set_xlim(xmin=0.0, xmax=1000)\n",
    "ax.set_xticks(np.arange(0, 35000, 2500))\n",
    "ax.set_yticks(np.arange(0, 0.006, 0.00025), minor=True)\n",
    "ax.grid(which='both')\n",
    "\n",
    "ax = fig.add_subplot(2, 1, 2)\n",
    "plt.title('R2')\n",
    "ax.plot(np.arange(grid_values['n_estimators'][0]) + 1, R2, 'r-',\n",
    "         label='Test Set R2')\n",
    "ax.legend(loc='upper right')\n",
    "plt.xlabel('Boosting Iterations')\n",
    "plt.ylabel('R2')\n",
    "# ax.set_xlim(xmin=0.0, xmax=1000)\n",
    "ax.set_xticks(np.arange(0, 35000, 2500))\n",
    "ax.set_yticks(np.arange(0, 0.6, 0.025), minor=True)\n",
    "ax.grid(which='both')\n",
    "\n",
    "fig.tight_layout()\n",
    "plt.show()"
   ]
  },
  {
   "cell_type": "markdown",
   "metadata": {},
   "source": [
    "## Final Comparison"
   ]
  },
  {
   "cell_type": "code",
   "execution_count": 271,
   "metadata": {},
   "outputs": [],
   "source": [
    "from sklearn.metrics import mean_squared_error\n",
    "from sklearn.metrics import mean_absolute_error"
   ]
  },
  {
   "cell_type": "markdown",
   "metadata": {},
   "source": [
    "### Linear Regression Baseline"
   ]
  },
  {
   "cell_type": "code",
   "execution_count": 272,
   "metadata": {},
   "outputs": [],
   "source": [
    "from sklearn.linear_model import LinearRegression\n",
    "\n",
    "lr = LinearRegression().fit(X_train, y_train)"
   ]
  },
  {
   "cell_type": "code",
   "execution_count": 273,
   "metadata": {},
   "outputs": [
    {
     "data": {
      "text/html": [
       "<style  type=\"text/css\" >\n",
       "    #T_9b0179e2_3125_11eb_a43b_3c15c2b7d060 th {\n",
       "          font-size: 12pt;\n",
       "    }#T_9b0179e2_3125_11eb_a43b_3c15c2b7d060row0_col0,#T_9b0179e2_3125_11eb_a43b_3c15c2b7d060row0_col1,#T_9b0179e2_3125_11eb_a43b_3c15c2b7d060row0_col2,#T_9b0179e2_3125_11eb_a43b_3c15c2b7d060row0_col3,#T_9b0179e2_3125_11eb_a43b_3c15c2b7d060row1_col0,#T_9b0179e2_3125_11eb_a43b_3c15c2b7d060row1_col1,#T_9b0179e2_3125_11eb_a43b_3c15c2b7d060row1_col2,#T_9b0179e2_3125_11eb_a43b_3c15c2b7d060row1_col3,#T_9b0179e2_3125_11eb_a43b_3c15c2b7d060row2_col0,#T_9b0179e2_3125_11eb_a43b_3c15c2b7d060row2_col1,#T_9b0179e2_3125_11eb_a43b_3c15c2b7d060row2_col2,#T_9b0179e2_3125_11eb_a43b_3c15c2b7d060row2_col3{\n",
       "            font-size:  14pt;\n",
       "        }</style><table id=\"T_9b0179e2_3125_11eb_a43b_3c15c2b7d060\" ><thead>    <tr>        <th class=\"blank level0\" ></th>        <th class=\"col_heading level0 col0\" >Linear Regression</th>        <th class=\"col_heading level0 col1\" >Decision Tree Regressor</th>        <th class=\"col_heading level0 col2\" >Random Forest</th>        <th class=\"col_heading level0 col3\" >Gradient Boosted Trees</th>    </tr></thead><tbody>\n",
       "                <tr>\n",
       "                        <th id=\"T_9b0179e2_3125_11eb_a43b_3c15c2b7d060level0_row0\" class=\"row_heading level0 row0\" >OSR2</th>\n",
       "                        <td id=\"T_9b0179e2_3125_11eb_a43b_3c15c2b7d060row0_col0\" class=\"data row0 col0\" >0.487</td>\n",
       "                        <td id=\"T_9b0179e2_3125_11eb_a43b_3c15c2b7d060row0_col1\" class=\"data row0 col1\" >0.435</td>\n",
       "                        <td id=\"T_9b0179e2_3125_11eb_a43b_3c15c2b7d060row0_col2\" class=\"data row0 col2\" >0.556</td>\n",
       "                        <td id=\"T_9b0179e2_3125_11eb_a43b_3c15c2b7d060row0_col3\" class=\"data row0 col3\" >0.542</td>\n",
       "            </tr>\n",
       "            <tr>\n",
       "                        <th id=\"T_9b0179e2_3125_11eb_a43b_3c15c2b7d060level0_row1\" class=\"row_heading level0 row1\" >Out-of-sample MSE</th>\n",
       "                        <td id=\"T_9b0179e2_3125_11eb_a43b_3c15c2b7d060row1_col0\" class=\"data row1 col0\" >0.0028</td>\n",
       "                        <td id=\"T_9b0179e2_3125_11eb_a43b_3c15c2b7d060row1_col1\" class=\"data row1 col1\" >0.0030</td>\n",
       "                        <td id=\"T_9b0179e2_3125_11eb_a43b_3c15c2b7d060row1_col2\" class=\"data row1 col2\" >0.0024</td>\n",
       "                        <td id=\"T_9b0179e2_3125_11eb_a43b_3c15c2b7d060row1_col3\" class=\"data row1 col3\" >0.0025</td>\n",
       "            </tr>\n",
       "            <tr>\n",
       "                        <th id=\"T_9b0179e2_3125_11eb_a43b_3c15c2b7d060level0_row2\" class=\"row_heading level0 row2\" >Out-of-sample MAE</th>\n",
       "                        <td id=\"T_9b0179e2_3125_11eb_a43b_3c15c2b7d060row2_col0\" class=\"data row2 col0\" >0.032</td>\n",
       "                        <td id=\"T_9b0179e2_3125_11eb_a43b_3c15c2b7d060row2_col1\" class=\"data row2 col1\" >0.033</td>\n",
       "                        <td id=\"T_9b0179e2_3125_11eb_a43b_3c15c2b7d060row2_col2\" class=\"data row2 col2\" >0.029</td>\n",
       "                        <td id=\"T_9b0179e2_3125_11eb_a43b_3c15c2b7d060row2_col3\" class=\"data row2 col3\" >0.029</td>\n",
       "            </tr>\n",
       "    </tbody></table>"
      ],
      "text/plain": [
       "<pandas.io.formats.style.Styler at 0x7ff058149dd8>"
      ]
     },
     "execution_count": 273,
     "metadata": {},
     "output_type": "execute_result"
    }
   ],
   "source": [
    "# print('Linear Regression OSR2:', round(r2_score(y_test, lr.predict(X_test)), 5))\n",
    "# print('CART OSR2:', round(r2_score(y_test, dtr_cv.predict(X_test)), 5))\n",
    "# print('Random Forest OSR2:', round(r2_score(y_test, rf_cv.predict(X_test)), 5))\n",
    "# print('Gradient Boosted Trees OSR2:', round(r2_score(y_test, gbr_cv3.predict(X_test)), 5))\n",
    "\n",
    "# print('\\nLinear Regression Out-of-sample MSE:', round(mean_squared_error(y_test, lr.predict(X_test)), 5))\n",
    "# print('Decision Tree Regressor Out-of-sample MSE:', round(mean_squared_error(y_test, dtr_cv.predict(X_test)), 5))\n",
    "# print('Random Forest Out-of-sample MSE:', round(mean_squared_error(y_test, rf_cv.predict(X_test)), 5))\n",
    "# print('Gradient Boosted Trees Out-of-sample MSE:', round(mean_squared_error(y_test, gbr_cv3.predict(X_test)), 5))\n",
    "\n",
    "# print('\\nLinear Regression Out-of-sample MAE:', round(mean_absolute_error(y_test, lr.predict(X_test)), 5))\n",
    "# print('Decision Tree Regressor Out-of-sample MAE:', round(mean_absolute_error(y_test, dtr_cv.predict(X_test)), 5))\n",
    "# print('Random Forest Out-of-sample MAE:', round(mean_absolute_error(y_test, rf_cv.predict(X_test)), 5))\n",
    "# print('Gradient Boosted Trees Out-of-sample MAE:', round(mean_absolute_error(y_test, gbr_cv3.predict(X_test)), 5))\n",
    "\n",
    "comparison_data = {'Linear Regression': ['{:.3f}'.format(r2_score(y_test, lr.predict(X_test))),\n",
    "                                         '{:.4f}'.format(mean_squared_error(y_test, lr.predict(X_test))),\n",
    "                                         '{:.3f}'.format(mean_absolute_error(y_test, lr.predict(X_test)))],\n",
    "                   'Decision Tree Regressor': ['{:.3f}'.format(r2_score(y_test, dtr_cv.predict(X_test))),\n",
    "                                               '{:.4f}'.format(mean_squared_error(y_test, dtr_cv.predict(X_test))),\n",
    "                                               '{:.3f}'.format(mean_absolute_error(y_test, dtr_cv.predict(X_test)))],\n",
    "                   'Random Forest': ['{:.3f}'.format(r2_score(y_test, rf_cv.predict(X_test))),\n",
    "                                     '{:.4f}'.format(mean_squared_error(y_test, rf_cv.predict(X_test))),\n",
    "                                     '{:.3f}'.format(mean_absolute_error(y_test, rf_cv.predict(X_test)))], \n",
    "                   'Gradient Boosted Trees': ['{:.3f}'.format(r2_score(y_test, gbr_cv3.predict(X_test))),\n",
    "                                              '{:.4f}'.format(mean_squared_error(y_test, gbr_cv3.predict(X_test))),\n",
    "                                              '{:.3f}'.format(mean_absolute_error(y_test, gbr_cv3.predict(X_test)))]}\n",
    "\n",
    "comparison_table = pd.DataFrame(data=comparison_data, index=['OSR2', 'Out-of-sample MSE', 'Out-of-sample MAE'])\n",
    "comparison_table.style.set_properties(**{'font-size': '14pt',}).set_table_styles([{'selector': 'th', 'props': [('font-size', '12pt')]}])"
   ]
  },
  {
   "cell_type": "code",
   "execution_count": null,
   "metadata": {},
   "outputs": [],
   "source": [
    "# # for boosting/rf let's look at MAE restricted to CTR above and below 10%\n",
    "# test.ctr.above <- filter(test.ctr, CTR > .1)\n",
    "# test.ctr.below <- filter(test.ctr, CTR <= .1)\n",
    "# test.ctr.above.mm = as.data.frame(model.matrix(CTR ~ . + 0, data=test.ctr.above))\n",
    "# test.ctr.below.mm = as.data.frame(model.matrix(CTR ~ . + 0, data=test.ctr.below))\n",
    "\n",
    "# nrow(test.ctr.below)\n",
    "# nrow(test.ctr.above)\n",
    "\n",
    "# pred.boost.above <- predict(best.boost, newdata = test.ctr.above.mm, n.trees = 11500)\n",
    "# pred.boost.below <- predict(best.boost, newdata = test.ctr.below.mm, n.trees = 11500)\n",
    "\n",
    "# pred.rf.above <- predict(best.rf, newdata = test.ctr.above.mm)\n",
    "# pred.rf.below <- predict(best.rf, newdata = test.ctr.below.mm)\n",
    "\n",
    "# print(\"Boosting Out-of-sample MAE for CTR above 10%:\")\n",
    "# sum(abs(test.ctr.above$CTR - pred.boost.above))/nrow(test.ctr.above)\n",
    "# print(\"Boosting Out-of-sample MAE for CTR below 10%:\")\n",
    "# sum(abs(test.ctr.below$CTR - pred.boost.below))/nrow(test.ctr.below)\n",
    "\n",
    "# print(\"RF Out-of-sample MAE for CTR above 10%:\")\n",
    "# sum(abs(test.ctr.above$CTR - pred.rf.above))/nrow(test.ctr.above)\n",
    "# print(\"RF Out-of-sample MAE for CTR below 10%:\")\n",
    "# sum(abs(test.ctr.below$CTR - pred.rf.below))/nrow(test.ctr.below)"
   ]
  },
  {
   "cell_type": "markdown",
   "metadata": {},
   "source": [
    "## -------------------------------------------------------------------------------------------------------"
   ]
  },
  {
   "cell_type": "markdown",
   "metadata": {},
   "source": [
    "## EXTRA"
   ]
  },
  {
   "cell_type": "code",
   "execution_count": null,
   "metadata": {},
   "outputs": [],
   "source": [
    "# np.random.seed(66)\n",
    "\n",
    "# train_idx = np.random.choice(len(ctr), size=int(len(ctr)*0.7), replace=False)\n",
    "# ctr_train = ctr.iloc[train_idx]\n",
    "# ctr_test = ctr.drop(index=train_idx)\n",
    "\n",
    "# ctr_test.shape"
   ]
  },
  {
   "cell_type": "code",
   "execution_count": null,
   "metadata": {},
   "outputs": [],
   "source": [
    "# def R2_calculation(y_true, y_pred):\n",
    "#     SSE = np.sum((y_true - y_pred)**2)\n",
    "#     SST = np.sum((y_true - np.mean(y_train))**2)    \n",
    "#     return  1 - SSE/SST"
   ]
  },
  {
   "cell_type": "code",
   "execution_count": null,
   "metadata": {},
   "outputs": [],
   "source": [
    "# ccp_alpha = dtr_cv.cv_results_['param_ccp_alpha'].data\n",
    "# MSE_scores = dtr_cv.cv_results_['mean_test_neg_mean_squared_error']*(-1) # sklearn uses the negative of the loss as an objective function to maximize, rather than implementation a minimization scheme\n",
    "# R2_scores = dtr_cv.cv_results_['mean_test_r2']\n",
    "\n",
    "# plt.figure(figsize=(12, 5))\n",
    "\n",
    "# plt.subplot(1, 2, 1)\n",
    "# plt.xlabel('ccp_alpha', fontsize=16)\n",
    "# plt.ylabel('CV R-squared', fontsize=16)\n",
    "# plt.scatter(ccp_alpha, R2_scores, s=30)\n",
    "# plt.plot(ccp_alpha, R2_scores, linewidth=3)\n",
    "# plt.grid(True, which='both')\n",
    "# plt.xlim([0, 0.00055])\n",
    "# plt.ylim([0.2, 0.5])\n",
    "\n",
    "# plt.subplot(1, 2, 2)\n",
    "# plt.xlabel('ccp_alpha', fontsize=16)\n",
    "# plt.ylabel('Mean Squared Error', fontsize=16)\n",
    "# plt.scatter(ccp_alpha, MSE_scores, s=30)\n",
    "# plt.plot(ccp_alpha, MSE_scores, linewidth=3)\n",
    "# plt.grid(True, which='both')\n",
    "# plt.xlim([0, 0.00055])\n",
    "# plt.ylim([0.0025, 0.005])\n",
    "\n",
    "# plt.tight_layout()\n",
    "# plt.show()"
   ]
  },
  {
   "cell_type": "code",
   "execution_count": null,
   "metadata": {},
   "outputs": [],
   "source": [
    "# grid_values = {'max_depth': [3, 4],\n",
    "#                'min_samples_leaf': [10],\n",
    "#                'n_estimators': np.linspace(500, 1000, 2, dtype='int32'),\n",
    "#                'learning_rate': [0.001],\n",
    "#                'random_state': [88]} \n",
    "# gbr2 = GradientBoostingRegressor()\n",
    "# gbr_cv4 = GridSearchCV(gbr2, param_grid=grid_values, scoring='r2', cv=5)\n",
    "# gbr_cv4.fit(X_train, y_train)\n",
    "# gbr_cv4.cv_results_\n",
    "\n",
    "# max_depth = [1, 1, 2, 2, 3, 3]\n",
    "# N = len(grid_values['max_depth'])\n",
    "# N = 3\n",
    "\n",
    "# n_estimators = [500, 1000, 1500, 500, 1000, 1500, 500, 1000, 1500]\n",
    "# M = len(grid_values['n_estimators'])\n",
    "# M = 3\n",
    "\n",
    "# for i in range(N):\n",
    "#     print(n_estimators[(M*i):(M*i)+M])\n",
    "\n",
    "# # max_depth = gbr_cv4.cv_results_['param_max_depth'].data\n",
    "# n_estimators = gbr_cv4.cv_results_['param_n_estimators'].data\n",
    "# R2_scores = rf_cv.cv_results_['mean_test_score']\n",
    "\n",
    "# plt.figure(figsize=(8, 6))\n",
    "# plt.xlabel('n estimators', fontsize=16)\n",
    "# plt.ylabel('CV R2', fontsize=16)\n",
    "# plt.grid(True, which='both')\n",
    "# plt.xlim([0, 20000])\n",
    "# plt.ylim([0.2, 0.6])\n",
    "\n",
    "# N = len(grid_values['max_depth'])\n",
    "# M = len(grid_values['n_estimators'])\n",
    "\n",
    "# for i in range(N):\n",
    "#     plt.scatter(n_estimators[(M*i):(M*i)+M], R2_scores[(M*i):(M*i)+M], s=30)\n",
    "#     plt.plot(n_estimators[(M*i):(M*i)+M], R2_scores[(M*i):(M*i)+M], linewidth=3,\n",
    "#              label='max depth = '+str(grid_values['max_depth'][i]))\n",
    "# plt.legend(loc='lower right')\n",
    "# plt.show()"
   ]
  }
 ],
 "metadata": {
  "kernelspec": {
   "display_name": "Python 3",
   "language": "python",
   "name": "python3"
  },
  "language_info": {
   "codemirror_mode": {
    "name": "ipython",
    "version": 3
   },
   "file_extension": ".py",
   "mimetype": "text/x-python",
   "name": "python",
   "nbconvert_exporter": "python",
   "pygments_lexer": "ipython3",
   "version": "3.6.9"
  }
 },
 "nbformat": 4,
 "nbformat_minor": 4
}
