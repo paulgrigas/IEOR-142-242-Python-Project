{
 "cells": [
  {
   "cell_type": "code",
   "execution_count": 2,
   "metadata": {},
   "outputs": [],
   "source": [
    "import pandas as pd \n",
    "import numpy as np \n",
    "\n",
    "import sklearn\n",
    "import statsmodels\n",
    "import tensorflow\n",
    "import torch, torchvision"
   ]
  },
  {
   "cell_type": "code",
   "execution_count": 3,
   "metadata": {},
   "outputs": [
    {
     "data": {
      "text/plain": [
       "array([[-2. ,  1. ],\n",
       "       [ 1.5, -0.5]])"
      ]
     },
     "execution_count": 3,
     "metadata": {},
     "output_type": "execute_result"
    }
   ],
   "source": [
    "from scipy import linalg\n",
    "a = np.array([[1., 2.], [3., 4.]])\n",
    "linalg.inv(a)"
   ]
  },
  {
   "cell_type": "code",
   "execution_count": 4,
   "metadata": {},
   "outputs": [
    {
     "data": {
      "image/png": "[encoded data removed]",
      "text/plain": [
       "<Figure size 432x288 with 1 Axes>"
      ]
     },
     "metadata": {
      "needs_background": "light"
     },
     "output_type": "display_data"
    }
   ],
   "source": [
    "import matplotlib.pyplot as plt \n",
    "x =[5, 7, 8, 7, 2, 17, 2, 9, 4, 11, 12, 9, 6]  \n",
    "y =[99, 86, 87, 88, 100, 86, 103, 87, 94, 78, 77, 85, 86] \n",
    "  \n",
    "plt.scatter(x, y, c =\"blue\") \n",
    "  \n",
    "# To show the plot \n",
    "plt.show()"
   ]
  },
  {
   "cell_type": "code",
   "execution_count": 5,
   "metadata": {},
   "outputs": [
    {
     "name": "stdout",
     "output_type": "stream",
     "text": [
      "     A    B    C  D\n",
      "0  NaN  2.0  NaN  0\n",
      "1  3.0  4.0  NaN  1\n",
      "2  NaN  NaN  NaN  5\n",
      "3  NaN  3.0  NaN  4\n",
      "4  5.0  7.0  8.0  2\n",
      "5  2.0  5.0  7.0  9\n",
      "Imputing row 1/6 with 2 missing, elapsed time: 0.002\n",
      "[[3.23556938 2.         7.75630267 0.        ]\n",
      " [3.         4.         7.825      1.        ]\n",
      " [3.67647071 3.46386587 7.64000033 5.        ]\n",
      " [3.35514006 3.         7.59183674 4.        ]\n",
      " [5.         7.         8.         2.        ]\n",
      " [2.         5.         7.         9.        ]]\n"
     ]
    }
   ],
   "source": [
    "# importing the KNN from fancyimpute library \n",
    "from fancyimpute import KNN \n",
    "  \n",
    "df = pd.DataFrame([[np.nan, 2, np.nan, 0], \n",
    "                   [3, 4, np.nan, 1], \n",
    "                   [np.nan, np.nan, np.nan, 5], \n",
    "                   [np.nan, 3, np.nan, 4], \n",
    "                   [5,      7,  8,     2], \n",
    "                   [2,      5,  7,     9]], \n",
    "                  columns = list('ABCD')) \n",
    "  \n",
    "# printing the dataframe \n",
    "print(df) \n",
    "  \n",
    "# calling the KNN class \n",
    "knn_imputer = KNN() \n",
    "# imputing the missing value with knn imputer \n",
    "df = knn_imputer.fit_transform(df) \n",
    "  \n",
    "# printing dataframe \n",
    "print(df) "
   ]
  },
  {
   "cell_type": "code",
   "execution_count": null,
   "metadata": {},
   "outputs": [],
   "source": []
  }
 ],
 "metadata": {
  "kernelspec": {
   "display_name": "Python 3",
   "language": "python",
   "name": "python3"
  },
  "language_info": {
   "codemirror_mode": {
    "name": "ipython",
    "version": 3
   },
   "file_extension": ".py",
   "mimetype": "text/x-python",
   "name": "python",
   "nbconvert_exporter": "python",
   "pygments_lexer": "ipython3",
   "version": "3.6.9"
  }
 },
 "nbformat": 4,
 "nbformat_minor": 4
}
