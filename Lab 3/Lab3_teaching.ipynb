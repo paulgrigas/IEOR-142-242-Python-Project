{
 "cells": [
  {
   "cell_type": "markdown",
   "metadata": {},
   "source": [
    "# LAB 3 - LOGISTIC REGRESSION\n",
    "\n",
    "This lab is comprised of two main sections:\n",
    "\n",
    "- 1. Logistic Regression with only numerical variables\n",
    "\n",
    "- 2. Logistic Regression with numerical + categorical variables\n",
    "\n",
    "In this lab we will use the help of statistical packages `statsmodels` and also `sklearn` for plotting and for splitting. These are two of the most complete libraries for statistical modeling in Python."
   ]
  },
  {
   "cell_type": "markdown",
   "metadata": {},
   "source": [
    "### Load the Data"
   ]
  },
  {
   "cell_type": "code",
   "execution_count": 36,
   "metadata": {},
   "outputs": [],
   "source": [
    "import numpy as np\n",
    "import pandas as pd"
   ]
  },
  {
   "cell_type": "markdown",
   "metadata": {},
   "source": [
    "As usual, we summon `numpy` and `pandas` for dataset representation and manipulation."
   ]
  },
  {
   "cell_type": "code",
   "execution_count": 37,
   "metadata": {},
   "outputs": [
    {
     "name": "stdout",
     "output_type": "stream",
     "text": [
      "<class 'pandas.core.frame.DataFrame'>\n",
      "RangeIndex: 9516 entries, 0 to 9515\n",
      "Data columns (total 7 columns):\n",
      " #   Column          Non-Null Count  Dtype  \n",
      "---  ------          --------------  -----  \n",
      " 0   not.fully.paid  9516 non-null   int64  \n",
      " 1   installment     9516 non-null   float64\n",
      " 2   log.annual.inc  9516 non-null   float64\n",
      " 3   fico            9516 non-null   int64  \n",
      " 4   revol.bal       9516 non-null   float64\n",
      " 5   inq.last.6mths  9516 non-null   int64  \n",
      " 6   pub.rec         9516 non-null   int64  \n",
      "dtypes: float64(3), int64(4)\n",
      "memory usage: 520.5 KB\n"
     ]
    },
    {
     "data": {
      "text/html": [
       "<div>\n",
       "<style scoped>\n",
       "    .dataframe tbody tr th:only-of-type {\n",
       "        vertical-align: middle;\n",
       "    }\n",
       "\n",
       "    .dataframe tbody tr th {\n",
       "        vertical-align: top;\n",
       "    }\n",
       "\n",
       "    .dataframe thead th {\n",
       "        text-align: right;\n",
       "    }\n",
       "</style>\n",
       "<table border=\"1\" class=\"dataframe\">\n",
       "  <thead>\n",
       "    <tr style=\"text-align: right;\">\n",
       "      <th></th>\n",
       "      <th>not.fully.paid</th>\n",
       "      <th>installment</th>\n",
       "      <th>log.annual.inc</th>\n",
       "      <th>fico</th>\n",
       "      <th>revol.bal</th>\n",
       "      <th>inq.last.6mths</th>\n",
       "      <th>pub.rec</th>\n",
       "    </tr>\n",
       "  </thead>\n",
       "  <tbody>\n",
       "    <tr>\n",
       "      <th>0</th>\n",
       "      <td>0</td>\n",
       "      <td>829.10</td>\n",
       "      <td>4.929419</td>\n",
       "      <td>737</td>\n",
       "      <td>28.854</td>\n",
       "      <td>0</td>\n",
       "      <td>0</td>\n",
       "    </tr>\n",
       "    <tr>\n",
       "      <th>1</th>\n",
       "      <td>0</td>\n",
       "      <td>228.22</td>\n",
       "      <td>4.812913</td>\n",
       "      <td>707</td>\n",
       "      <td>33.623</td>\n",
       "      <td>0</td>\n",
       "      <td>0</td>\n",
       "    </tr>\n",
       "    <tr>\n",
       "      <th>2</th>\n",
       "      <td>0</td>\n",
       "      <td>366.86</td>\n",
       "      <td>4.505150</td>\n",
       "      <td>682</td>\n",
       "      <td>3.511</td>\n",
       "      <td>1</td>\n",
       "      <td>0</td>\n",
       "    </tr>\n",
       "    <tr>\n",
       "      <th>3</th>\n",
       "      <td>0</td>\n",
       "      <td>162.34</td>\n",
       "      <td>4.929419</td>\n",
       "      <td>712</td>\n",
       "      <td>33.667</td>\n",
       "      <td>1</td>\n",
       "      <td>0</td>\n",
       "    </tr>\n",
       "    <tr>\n",
       "      <th>4</th>\n",
       "      <td>0</td>\n",
       "      <td>102.92</td>\n",
       "      <td>4.907411</td>\n",
       "      <td>667</td>\n",
       "      <td>4.740</td>\n",
       "      <td>0</td>\n",
       "      <td>0</td>\n",
       "    </tr>\n",
       "  </tbody>\n",
       "</table>\n",
       "</div>"
      ],
      "text/plain": [
       "   not.fully.paid  installment  log.annual.inc  fico  revol.bal  \\\n",
       "0               0       829.10        4.929419   737     28.854   \n",
       "1               0       228.22        4.812913   707     33.623   \n",
       "2               0       366.86        4.505150   682      3.511   \n",
       "3               0       162.34        4.929419   712     33.667   \n",
       "4               0       102.92        4.907411   667      4.740   \n",
       "\n",
       "   inq.last.6mths  pub.rec  \n",
       "0               0        0  \n",
       "1               0        0  \n",
       "2               1        0  \n",
       "3               1        0  \n",
       "4               0        0  "
      ]
     },
     "execution_count": 37,
     "metadata": {},
     "output_type": "execute_result"
    }
   ],
   "source": [
    "loans = pd.read_csv(\"loans.csv\")\n",
    "loans.info()\n",
    "loans.head()"
   ]
  },
  {
   "cell_type": "markdown",
   "metadata": {},
   "source": [
    "## 1. LOGISTIC REGRESSION (ONLY NUMERICAL VARIABLES)"
   ]
  },
  {
   "cell_type": "markdown",
   "metadata": {},
   "source": [
    "### Renaming Columns\n",
    "\n",
    "In Python, names with underscores. dots in R vs Python. names"
   ]
  },
  {
   "cell_type": "code",
   "execution_count": 38,
   "metadata": {},
   "outputs": [
    {
     "name": "stdout",
     "output_type": "stream",
     "text": [
      "Index(['not_fully_paid', 'installment', 'log_annual_inc', 'fico', 'revol_bal',\n",
      "       'inq_last_6mths', 'pub_rec'],\n",
      "      dtype='object')\n"
     ]
    }
   ],
   "source": [
    "new_column_names = {'not.fully.paid':'not_fully_paid', 'log.annual.inc':'log_annual_inc',\n",
    "                   'revol.bal':'revol_bal', 'inq.last.6mths':'inq_last_6mths', 'pub.rec':'pub_rec'}\n",
    "loans.rename(columns = new_column_names, inplace = True)\n",
    "\n",
    "print(loans.columns)"
   ]
  },
  {
   "cell_type": "markdown",
   "metadata": {},
   "source": [
    "### Splitting the Data"
   ]
  },
  {
   "cell_type": "markdown",
   "metadata": {},
   "source": [
    "In previous labs we saw how to split the dataset according to conditions predicated on variable's values. We now wish to split the dataset using randomized methods.\n",
    "\n",
    "In order to perform the splitting, we import a package from `sklearn`. We also set a fixed random state in order to exactly replicate the results at each execution of the code."
   ]
  },
  {
   "cell_type": "code",
   "execution_count": 39,
   "metadata": {},
   "outputs": [
    {
     "data": {
      "text/plain": [
       "((6661, 7), (2855, 7))"
      ]
     },
     "execution_count": 39,
     "metadata": {},
     "output_type": "execute_result"
    }
   ],
   "source": [
    "from sklearn.model_selection import train_test_split\n",
    "\n",
    "loans_train, loans_test = train_test_split(loans, test_size=0.3, random_state=88)\n",
    "loans_train.shape, loans_test.shape"
   ]
  },
  {
   "cell_type": "markdown",
   "metadata": {},
   "source": [
    "`test_size = 0.3` means that we will put 30% of the data in the test set, 70% in the training set."
   ]
  },
  {
   "cell_type": "code",
   "execution_count": 40,
   "metadata": {},
   "outputs": [
    {
     "name": "stdout",
     "output_type": "stream",
     "text": [
      "0    5585\n",
      "1    1076\n",
      "dtype: int64\n"
     ]
    }
   ],
   "source": [
    "# How many loans have defaulted?\n",
    "\n",
    "default_false = np.sum(loans_train['not_fully_paid'] == 0)\n",
    "default_true = np.sum(loans_train['not_fully_paid'] == 1)\n",
    "\n",
    "print(pd.Series({'0': default_false, '1': default_true}))"
   ]
  },
  {
   "cell_type": "code",
   "execution_count": 41,
   "metadata": {},
   "outputs": [],
   "source": [
    "# ?ggscatmat\n",
    "# ggscatmat(loans.train, alpha = 0.8)"
   ]
  },
  {
   "cell_type": "markdown",
   "metadata": {},
   "source": [
    "A baseline model can be a so-called \"dummy\" model, where the classifier predicts every new observation as the majority class. In our case, for a datapoint with any given features, the baseline model will predict 'no-default' always."
   ]
  },
  {
   "cell_type": "code",
   "execution_count": 42,
   "metadata": {},
   "outputs": [
    {
     "data": {
      "text/plain": [
       "0.8384626932892959"
      ]
     },
     "execution_count": 42,
     "metadata": {},
     "output_type": "execute_result"
    }
   ],
   "source": [
    "# Accuracy of baseline model based on training data:\n",
    "\n",
    "ACC = default_false/(default_false + default_true)\n",
    "ACC"
   ]
  },
  {
   "cell_type": "code",
   "execution_count": 43,
   "metadata": {},
   "outputs": [],
   "source": [
    "# EXERCISE: Compute accuracy of baseline on testing:\n",
    "\n"
   ]
  },
  {
   "cell_type": "code",
   "execution_count": 44,
   "metadata": {},
   "outputs": [],
   "source": [
    "# EXERCISE: What are the TPR and FPR rates of the baseline model?\n",
    "\n"
   ]
  },
  {
   "cell_type": "markdown",
   "metadata": {},
   "source": [
    "### Fitting the Logistic Regression Model"
   ]
  },
  {
   "cell_type": "markdown",
   "metadata": {},
   "source": [
    "Now we can use the statsmodels package to fit the training set to a logistic regression model"
   ]
  },
  {
   "cell_type": "code",
   "execution_count": 45,
   "metadata": {},
   "outputs": [],
   "source": [
    "import statsmodels.formula.api as smf\n",
    "\n",
    "?smf.logit"
   ]
  },
  {
   "cell_type": "code",
   "execution_count": 46,
   "metadata": {},
   "outputs": [
    {
     "name": "stdout",
     "output_type": "stream",
     "text": [
      "Optimization terminated successfully.\n",
      "         Current function value: 0.422149\n",
      "         Iterations 6\n",
      "                           Logit Regression Results                           \n",
      "==============================================================================\n",
      "Dep. Variable:         not_fully_paid   No. Observations:                 6661\n",
      "Model:                          Logit   Df Residuals:                     6654\n",
      "Method:                           MLE   Df Model:                            6\n",
      "Date:                Wed, 16 Dec 2020   Pseudo R-squ.:                 0.04537\n",
      "Time:                        15:09:38   Log-Likelihood:                -2811.9\n",
      "converged:                       True   LL-Null:                       -2945.6\n",
      "Covariance Type:            nonrobust   LLR p-value:                 8.373e-55\n",
      "==================================================================================\n",
      "                     coef    std err          z      P>|z|      [0.025      0.975]\n",
      "----------------------------------------------------------------------------------\n",
      "Intercept          8.5765      0.967      8.866      0.000       6.681      10.472\n",
      "installment        0.0010      0.000      5.218      0.000       0.001       0.001\n",
      "log_annual_inc    -0.8537      0.156     -5.457      0.000      -1.160      -0.547\n",
      "fico              -0.0096      0.001     -9.406      0.000      -0.012      -0.008\n",
      "revol_bal          0.0036      0.001      3.435      0.001       0.002       0.006\n",
      "inq_last_6mths     0.1171      0.014      8.454      0.000       0.090       0.144\n",
      "pub_rec            0.2245      0.112      2.004      0.045       0.005       0.444\n",
      "==================================================================================\n"
     ]
    }
   ],
   "source": [
    "# Fit the logistic regression model\n",
    "\n",
    "logreg = smf.logit(formula = 'not_fully_paid ~ installment + log_annual_inc + fico + revol_bal + inq_last_6mths + pub_rec',\n",
    "                   data = loans_train).fit()\n",
    "\n",
    "print(logreg.summary())"
   ]
  },
  {
   "cell_type": "code",
   "execution_count": 47,
   "metadata": {},
   "outputs": [],
   "source": [
    "# ## ALTERNATIVE PACKAGE FOR LOGISTIC REGRESSION\n",
    "\n",
    "# import statsmodels.api as sm\n",
    "# ?sm.Logit"
   ]
  },
  {
   "cell_type": "code",
   "execution_count": 48,
   "metadata": {},
   "outputs": [],
   "source": [
    "# ggscatmat(loans.train, columns = 2:5, alpha = 0.8) # any correlations?\n",
    "\n",
    "# import seaborn as sns\n",
    "# corr = loans_train.corr()\n",
    "# sns.heatmap(corr, \n",
    "#             xticklabels=corr.columns.values,\n",
    "#             yticklabels=corr.columns.values)"
   ]
  },
  {
   "cell_type": "markdown",
   "metadata": {},
   "source": [
    "In general, consider this quote:\n",
    "\"Programs are meant to be read by humans, and only incidentally for computers to execute.\" - Donald Knuth"
   ]
  },
  {
   "cell_type": "markdown",
   "metadata": {},
   "source": [
    "### Predictions"
   ]
  },
  {
   "cell_type": "code",
   "execution_count": 49,
   "metadata": {},
   "outputs": [
    {
     "data": {
      "text/plain": [
       "0    0.209408\n",
       "dtype: float64"
      ]
     },
     "execution_count": 49,
     "metadata": {},
     "output_type": "execute_result"
    }
   ],
   "source": [
    "# Example of prediction for a new observation\n",
    "\n",
    "new_obs = pd.DataFrame(data = {'installment' : [366], 'log_annual_inc' : [4.51], 'fico' : [682],\n",
    "                               'revol_bal' : [7.53], 'inq_last_6mths' : [1], 'pub_rec' : [0]})\n",
    "\n",
    "logreg.predict(new_obs)"
   ]
  },
  {
   "cell_type": "code",
   "execution_count": 50,
   "metadata": {},
   "outputs": [],
   "source": [
    "y_test = loans_test['not_fully_paid']\n",
    "\n",
    "y_prob = logreg.predict(loans_test)\n",
    "y_pred = pd.Series([1 if x > 0.5 else 0 for x in y_prob], index=y_prob.index)\n",
    "\n",
    "# y_pred is the vector of probabilities as given by your model on the test set. Values between 0 and 1.\n",
    "# Remember, P(Yi = 1) = 1/(1 + e^(-(b0 + b1*x1 + b2*x2 +...)) )"
   ]
  },
  {
   "cell_type": "markdown",
   "metadata": {},
   "source": [
    "### Confusion Matrix\n",
    "\n",
    "In order to evaluate the performance of our classification model, we can make use of confusion matrix to compute a variety of useful metrics"
   ]
  },
  {
   "cell_type": "code",
   "execution_count": 51,
   "metadata": {},
   "outputs": [
    {
     "name": "stdout",
     "output_type": "stream",
     "text": [
      "Confusion Matrix : \n",
      " [[2404    6]\n",
      " [ 435   10]]\n"
     ]
    }
   ],
   "source": [
    "from sklearn.metrics import confusion_matrix\n",
    "\n",
    "cm = confusion_matrix(y_test, y_pred)\n",
    "print (\"Confusion Matrix : \\n\", cm) "
   ]
  },
  {
   "cell_type": "code",
   "execution_count": 52,
   "metadata": {},
   "outputs": [
    {
     "name": "stdout",
     "output_type": "stream",
     "text": [
      "[2404    6  435   10]\n"
     ]
    }
   ],
   "source": [
    "print(cm.ravel())"
   ]
  },
  {
   "cell_type": "code",
   "execution_count": 53,
   "metadata": {},
   "outputs": [
    {
     "data": {
      "text/plain": [
       "0.8455341506129597"
      ]
     },
     "execution_count": 53,
     "metadata": {},
     "output_type": "execute_result"
    }
   ],
   "source": [
    "# Accuracy\n",
    "\n",
    "(cm.ravel()[0]+cm.ravel()[3])/sum(cm.ravel())"
   ]
  },
  {
   "cell_type": "code",
   "execution_count": 54,
   "metadata": {},
   "outputs": [],
   "source": [
    "# EXERCISE: What is the True Positive Rate ?\n",
    "\n",
    "\n",
    "# EXERCISE: What is the False Positive rate ?\n",
    "\n",
    "\n"
   ]
  },
  {
   "cell_type": "markdown",
   "metadata": {},
   "source": [
    "Be careful about the definitions of FPR, TPR, recall, precision, sensitivity, specificity etc:\n",
    "https://en.wikipedia.org/wiki/Sensitivity_and_specificity"
   ]
  },
  {
   "cell_type": "code",
   "execution_count": 55,
   "metadata": {},
   "outputs": [],
   "source": [
    "# Now, try threshold probability = 0.2\n",
    "\n",
    "# EXERCISE: What is the Accuracy?\n",
    "\n",
    "\n",
    "# EXERCISE: What is the True Positive Rate ?\n",
    "\n",
    "\n",
    "# EXERCISE: What is the False Positive rate ?\n",
    "\n"
   ]
  },
  {
   "cell_type": "markdown",
   "metadata": {},
   "source": [
    "## 2. LOGISTIC REGRESSION (NUMERICAL + CATEGORICAL VARIABLES)"
   ]
  },
  {
   "cell_type": "code",
   "execution_count": 56,
   "metadata": {},
   "outputs": [
    {
     "name": "stdout",
     "output_type": "stream",
     "text": [
      "<class 'pandas.core.frame.DataFrame'>\n",
      "RangeIndex: 7032 entries, 0 to 7031\n",
      "Data columns (total 7 columns):\n",
      " #   Column           Non-Null Count  Dtype  \n",
      "---  ------           --------------  -----  \n",
      " 0   Churn            7032 non-null   int64  \n",
      " 1   MonthlyCharges   7032 non-null   float64\n",
      " 2   SeniorCitizen    7032 non-null   int64  \n",
      " 3   PaymentMethod    7032 non-null   object \n",
      " 4   InternetService  7032 non-null   object \n",
      " 5   tenure           7032 non-null   int64  \n",
      " 6   Contract         7032 non-null   object \n",
      "dtypes: float64(1), int64(3), object(3)\n",
      "memory usage: 384.7+ KB\n"
     ]
    },
    {
     "data": {
      "text/html": [
       "<div>\n",
       "<style scoped>\n",
       "    .dataframe tbody tr th:only-of-type {\n",
       "        vertical-align: middle;\n",
       "    }\n",
       "\n",
       "    .dataframe tbody tr th {\n",
       "        vertical-align: top;\n",
       "    }\n",
       "\n",
       "    .dataframe thead th {\n",
       "        text-align: right;\n",
       "    }\n",
       "</style>\n",
       "<table border=\"1\" class=\"dataframe\">\n",
       "  <thead>\n",
       "    <tr style=\"text-align: right;\">\n",
       "      <th></th>\n",
       "      <th>Churn</th>\n",
       "      <th>MonthlyCharges</th>\n",
       "      <th>SeniorCitizen</th>\n",
       "      <th>PaymentMethod</th>\n",
       "      <th>InternetService</th>\n",
       "      <th>tenure</th>\n",
       "      <th>Contract</th>\n",
       "    </tr>\n",
       "  </thead>\n",
       "  <tbody>\n",
       "    <tr>\n",
       "      <th>0</th>\n",
       "      <td>0</td>\n",
       "      <td>29.85</td>\n",
       "      <td>0</td>\n",
       "      <td>Electronic check</td>\n",
       "      <td>DSL</td>\n",
       "      <td>1</td>\n",
       "      <td>Month-to-month</td>\n",
       "    </tr>\n",
       "    <tr>\n",
       "      <th>1</th>\n",
       "      <td>0</td>\n",
       "      <td>56.95</td>\n",
       "      <td>0</td>\n",
       "      <td>Mailed check</td>\n",
       "      <td>DSL</td>\n",
       "      <td>34</td>\n",
       "      <td>One year</td>\n",
       "    </tr>\n",
       "    <tr>\n",
       "      <th>2</th>\n",
       "      <td>1</td>\n",
       "      <td>53.85</td>\n",
       "      <td>0</td>\n",
       "      <td>Mailed check</td>\n",
       "      <td>DSL</td>\n",
       "      <td>2</td>\n",
       "      <td>Month-to-month</td>\n",
       "    </tr>\n",
       "    <tr>\n",
       "      <th>3</th>\n",
       "      <td>0</td>\n",
       "      <td>42.30</td>\n",
       "      <td>0</td>\n",
       "      <td>Bank transfer</td>\n",
       "      <td>DSL</td>\n",
       "      <td>45</td>\n",
       "      <td>One year</td>\n",
       "    </tr>\n",
       "    <tr>\n",
       "      <th>4</th>\n",
       "      <td>1</td>\n",
       "      <td>70.70</td>\n",
       "      <td>0</td>\n",
       "      <td>Electronic check</td>\n",
       "      <td>Fiber optic</td>\n",
       "      <td>2</td>\n",
       "      <td>Month-to-month</td>\n",
       "    </tr>\n",
       "  </tbody>\n",
       "</table>\n",
       "</div>"
      ],
      "text/plain": [
       "   Churn  MonthlyCharges  SeniorCitizen     PaymentMethod InternetService  \\\n",
       "0      0           29.85              0  Electronic check             DSL   \n",
       "1      0           56.95              0      Mailed check             DSL   \n",
       "2      1           53.85              0      Mailed check             DSL   \n",
       "3      0           42.30              0     Bank transfer             DSL   \n",
       "4      1           70.70              0  Electronic check     Fiber optic   \n",
       "\n",
       "   tenure        Contract  \n",
       "0       1  Month-to-month  \n",
       "1      34        One year  \n",
       "2       2  Month-to-month  \n",
       "3      45        One year  \n",
       "4       2  Month-to-month  "
      ]
     },
     "execution_count": 56,
     "metadata": {},
     "output_type": "execute_result"
    }
   ],
   "source": [
    "churn = pd.read_csv(\"customerchurn.csv\")\n",
    "churn.info()\n",
    "churn.head()"
   ]
  },
  {
   "cell_type": "code",
   "execution_count": 57,
   "metadata": {},
   "outputs": [
    {
     "data": {
      "text/plain": [
       "((4922, 7), (2110, 7))"
      ]
     },
     "execution_count": 57,
     "metadata": {},
     "output_type": "execute_result"
    }
   ],
   "source": [
    "churn_train, churn_test = train_test_split(churn, test_size=0.3, random_state=88)\n",
    "churn_train.shape, churn_test.shape"
   ]
  },
  {
   "cell_type": "code",
   "execution_count": 58,
   "metadata": {},
   "outputs": [],
   "source": [
    "# Any issues with categorical x variables?\n",
    "\n"
   ]
  },
  {
   "cell_type": "code",
   "execution_count": 59,
   "metadata": {},
   "outputs": [
    {
     "name": "stdout",
     "output_type": "stream",
     "text": [
      "Optimization terminated successfully.\n",
      "         Current function value: 0.421913\n",
      "         Iterations 8\n",
      "                           Logit Regression Results                           \n",
      "==============================================================================\n",
      "Dep. Variable:                  Churn   No. Observations:                 4922\n",
      "Model:                          Logit   Df Residuals:                     4911\n",
      "Method:                           MLE   Df Model:                           10\n",
      "Date:                Wed, 16 Dec 2020   Pseudo R-squ.:                  0.2695\n",
      "Time:                        15:09:39   Log-Likelihood:                -2076.7\n",
      "converged:                       True   LL-Null:                       -2842.6\n",
      "Covariance Type:            nonrobust   LLR p-value:                     0.000\n",
      "=====================================================================================================\n",
      "                                        coef    std err          z      P>|z|      [0.025      0.975]\n",
      "-----------------------------------------------------------------------------------------------------\n",
      "Intercept                            -0.8982      0.213     -4.217      0.000      -1.316      -0.481\n",
      "PaymentMethod[T.Credit card]         -0.1066      0.134     -0.795      0.427      -0.369       0.156\n",
      "PaymentMethod[T.Electronic check]     0.4394      0.110      3.984      0.000       0.223       0.656\n",
      "PaymentMethod[T.Mailed check]        -0.0373      0.135     -0.277      0.782      -0.302       0.227\n",
      "InternetService[T.Fiber optic]        0.8217      0.154      5.336      0.000       0.520       1.123\n",
      "InternetService[T.No]                -0.7265      0.185     -3.925      0.000      -1.089      -0.364\n",
      "Contract[T.One year]                 -0.8444      0.124     -6.815      0.000      -1.087      -0.602\n",
      "Contract[T.Two year]                 -1.9124      0.226     -8.466      0.000      -2.355      -1.470\n",
      "MonthlyCharges                        0.0067      0.004      1.857      0.063      -0.000       0.014\n",
      "SeniorCitizen                         0.3852      0.097      3.981      0.000       0.196       0.575\n",
      "tenure                               -0.0296      0.003    -11.559      0.000      -0.035      -0.025\n",
      "=====================================================================================================\n"
     ]
    }
   ],
   "source": [
    "logreg2 = smf.logit(formula = 'Churn ~ MonthlyCharges + SeniorCitizen + PaymentMethod + InternetService + tenure + Contract',\n",
    "                       data = churn_train).fit()\n",
    "print(logreg2.summary())"
   ]
  },
  {
   "cell_type": "code",
   "execution_count": 60,
   "metadata": {},
   "outputs": [],
   "source": [
    "# EXERCISE: Now take the estimate for SeniorCitizen and transform it into an intuition of how much p will increase\n",
    "\n"
   ]
  },
  {
   "cell_type": "code",
   "execution_count": 61,
   "metadata": {
    "scrolled": false
   },
   "outputs": [
    {
     "name": "stdout",
     "output_type": "stream",
     "text": [
      "Optimization terminated successfully.\n",
      "         Current function value: 0.422264\n",
      "         Iterations 8\n",
      "                           Logit Regression Results                           \n",
      "==============================================================================\n",
      "Dep. Variable:                  Churn   No. Observations:                 4922\n",
      "Model:                          Logit   Df Residuals:                     4912\n",
      "Method:                           MLE   Df Model:                            9\n",
      "Date:                Wed, 16 Dec 2020   Pseudo R-squ.:                  0.2688\n",
      "Time:                        15:09:39   Log-Likelihood:                -2078.4\n",
      "converged:                       True   LL-Null:                       -2842.6\n",
      "Covariance Type:            nonrobust   LLR p-value:                     0.000\n",
      "=====================================================================================================\n",
      "                                        coef    std err          z      P>|z|      [0.025      0.975]\n",
      "-----------------------------------------------------------------------------------------------------\n",
      "Intercept                            -0.5748      0.122     -4.724      0.000      -0.813      -0.336\n",
      "PaymentMethod[T.Credit card]         -0.1121      0.134     -0.836      0.403      -0.375       0.151\n",
      "PaymentMethod[T.Electronic check]     0.4389      0.110      3.982      0.000       0.223       0.655\n",
      "PaymentMethod[T.Mailed check]        -0.0463      0.135     -0.344      0.731      -0.311       0.218\n",
      "InternetService[T.Fiber optic]        1.0555      0.090     11.744      0.000       0.879       1.232\n",
      "InternetService[T.No]                -0.9328      0.147     -6.331      0.000      -1.222      -0.644\n",
      "Contract[T.One year]                 -0.8110      0.122     -6.622      0.000      -1.051      -0.571\n",
      "Contract[T.Two year]                 -1.8682      0.225     -8.321      0.000      -2.308      -1.428\n",
      "SeniorCitizen                         0.3818      0.097      3.948      0.000       0.192       0.571\n",
      "tenure                               -0.0280      0.002    -11.650      0.000      -0.033      -0.023\n",
      "=====================================================================================================\n"
     ]
    }
   ],
   "source": [
    "# Let's remove MonthlyCharges\n",
    "logreg3 = smf.logit(formula = 'Churn ~ SeniorCitizen + PaymentMethod + InternetService + tenure + Contract',\n",
    "                       data = churn_train).fit()\n",
    "print(logreg3.summary())"
   ]
  },
  {
   "cell_type": "code",
   "execution_count": 62,
   "metadata": {},
   "outputs": [
    {
     "data": {
      "text/html": [
       "<div>\n",
       "<style scoped>\n",
       "    .dataframe tbody tr th:only-of-type {\n",
       "        vertical-align: middle;\n",
       "    }\n",
       "\n",
       "    .dataframe tbody tr th {\n",
       "        vertical-align: top;\n",
       "    }\n",
       "\n",
       "    .dataframe thead th {\n",
       "        text-align: right;\n",
       "    }\n",
       "</style>\n",
       "<table border=\"1\" class=\"dataframe\">\n",
       "  <thead>\n",
       "    <tr style=\"text-align: right;\">\n",
       "      <th></th>\n",
       "      <th>Churn</th>\n",
       "      <th>MonthlyCharges</th>\n",
       "      <th>SeniorCitizen</th>\n",
       "      <th>InternetService</th>\n",
       "      <th>tenure</th>\n",
       "      <th>Contract</th>\n",
       "      <th>ElectronicCheck</th>\n",
       "    </tr>\n",
       "  </thead>\n",
       "  <tbody>\n",
       "    <tr>\n",
       "      <th>2839</th>\n",
       "      <td>1</td>\n",
       "      <td>99.60</td>\n",
       "      <td>1</td>\n",
       "      <td>Fiber optic</td>\n",
       "      <td>4</td>\n",
       "      <td>Month-to-month</td>\n",
       "      <td>1</td>\n",
       "    </tr>\n",
       "    <tr>\n",
       "      <th>4965</th>\n",
       "      <td>0</td>\n",
       "      <td>93.80</td>\n",
       "      <td>1</td>\n",
       "      <td>Fiber optic</td>\n",
       "      <td>13</td>\n",
       "      <td>Month-to-month</td>\n",
       "      <td>0</td>\n",
       "    </tr>\n",
       "    <tr>\n",
       "      <th>6686</th>\n",
       "      <td>0</td>\n",
       "      <td>96.55</td>\n",
       "      <td>0</td>\n",
       "      <td>Fiber optic</td>\n",
       "      <td>5</td>\n",
       "      <td>Month-to-month</td>\n",
       "      <td>1</td>\n",
       "    </tr>\n",
       "    <tr>\n",
       "      <th>4151</th>\n",
       "      <td>0</td>\n",
       "      <td>25.20</td>\n",
       "      <td>0</td>\n",
       "      <td>No</td>\n",
       "      <td>39</td>\n",
       "      <td>Two year</td>\n",
       "      <td>0</td>\n",
       "    </tr>\n",
       "    <tr>\n",
       "      <th>241</th>\n",
       "      <td>0</td>\n",
       "      <td>109.20</td>\n",
       "      <td>0</td>\n",
       "      <td>Fiber optic</td>\n",
       "      <td>72</td>\n",
       "      <td>Two year</td>\n",
       "      <td>0</td>\n",
       "    </tr>\n",
       "  </tbody>\n",
       "</table>\n",
       "</div>"
      ],
      "text/plain": [
       "      Churn  MonthlyCharges  SeniorCitizen InternetService  tenure  \\\n",
       "2839      1           99.60              1     Fiber optic       4   \n",
       "4965      0           93.80              1     Fiber optic      13   \n",
       "6686      0           96.55              0     Fiber optic       5   \n",
       "4151      0           25.20              0              No      39   \n",
       "241       0          109.20              0     Fiber optic      72   \n",
       "\n",
       "            Contract  ElectronicCheck  \n",
       "2839  Month-to-month                1  \n",
       "4965  Month-to-month                0  \n",
       "6686  Month-to-month                1  \n",
       "4151        Two year                0  \n",
       "241         Two year                0  "
      ]
     },
     "execution_count": 62,
     "metadata": {},
     "output_type": "execute_result"
    }
   ],
   "source": [
    "# Let's remove PaymentMethod Credit Card and PaymentMethodMailed check. How do we do this? Create a new feature. \n",
    "\n",
    "churn_train2 = churn_train.copy() \n",
    "churn_train2['ElectronicCheck'] = (churn_train2['PaymentMethod'] == 'Electronic check').astype('int64')\n",
    "churn_train2.drop(columns=['PaymentMethod'], inplace=True)\n",
    "\n",
    "# Let's do the same for test set as well\n",
    "\n",
    "churn_test2 = churn_test.copy() \n",
    "churn_test2['ElectronicCheck'] = (churn_test2['PaymentMethod'] == 'Electronic check').astype('int64')\n",
    "churn_test2.drop(columns=['PaymentMethod'], inplace=True)\n",
    "\n",
    "churn_test2.head()"
   ]
  },
  {
   "cell_type": "code",
   "execution_count": 63,
   "metadata": {},
   "outputs": [
    {
     "name": "stdout",
     "output_type": "stream",
     "text": [
      "Optimization terminated successfully.\n",
      "         Current function value: 0.422336\n",
      "         Iterations 8\n",
      "                           Logit Regression Results                           \n",
      "==============================================================================\n",
      "Dep. Variable:                  Churn   No. Observations:                 4922\n",
      "Model:                          Logit   Df Residuals:                     4914\n",
      "Method:                           MLE   Df Model:                            7\n",
      "Date:                Wed, 16 Dec 2020   Pseudo R-squ.:                  0.2687\n",
      "Time:                        15:09:39   Log-Likelihood:                -2078.7\n",
      "converged:                       True   LL-Null:                       -2842.6\n",
      "Covariance Type:            nonrobust   LLR p-value:                     0.000\n",
      "==================================================================================================\n",
      "                                     coef    std err          z      P>|z|      [0.025      0.975]\n",
      "--------------------------------------------------------------------------------------------------\n",
      "Intercept                         -0.6254      0.085     -7.363      0.000      -0.792      -0.459\n",
      "InternetService[T.Fiber optic]     1.0549      0.089     11.817      0.000       0.880       1.230\n",
      "InternetService[T.No]             -0.9313      0.146     -6.384      0.000      -1.217      -0.645\n",
      "Contract[T.One year]              -0.8125      0.122     -6.635      0.000      -1.053      -0.573\n",
      "Contract[T.Two year]              -1.8704      0.224     -8.332      0.000      -2.310      -1.430\n",
      "SeniorCitizen                      0.3813      0.097      3.945      0.000       0.192       0.571\n",
      "ElectronicCheck                    0.4901      0.080      6.098      0.000       0.333       0.648\n",
      "tenure                            -0.0280      0.002    -11.928      0.000      -0.033      -0.023\n",
      "==================================================================================================\n"
     ]
    }
   ],
   "source": [
    "logreg4 = smf.logit(formula = 'Churn ~ SeniorCitizen + ElectronicCheck + InternetService + tenure + Contract',\n",
    "                       data = churn_train2).fit()\n",
    "print(logreg4.summary())"
   ]
  },
  {
   "cell_type": "code",
   "execution_count": 69,
   "metadata": {},
   "outputs": [
    {
     "name": "stdout",
     "output_type": "stream",
     "text": [
      "Confusion Matrix : \n",
      " [[1213  329]\n",
      " [ 154  414]]\n"
     ]
    }
   ],
   "source": [
    "# Confusion matrices based on decision tree threshold \n",
    "# Target scores, can either be probability estimates of the positive class, confidence values, or non-thresholded measure of decisions (as returned by “decision_function” on some classifiers).\n",
    "\n",
    "y_test = churn_test2['Churn']\n",
    "y_prob = logreg4.predict(churn_test2)\n",
    "y_pred = pd.Series([1 if x > 1/3 else 0 for x in y_prob], index=y_prob.index)\n",
    "\n",
    "cm = confusion_matrix(y_test, y_pred)\n",
    "print (\"Confusion Matrix : \\n\", cm) "
   ]
  },
  {
   "cell_type": "markdown",
   "metadata": {},
   "source": [
    "### ROC Curves"
   ]
  },
  {
   "cell_type": "code",
   "execution_count": 65,
   "metadata": {},
   "outputs": [],
   "source": [
    "y_train = churn_train2['Churn']\n",
    "X_train = churn_train2.drop(['Churn'], axis=1)\n",
    "\n",
    "y_test = churn_test2['Churn']\n",
    "X_test = churn_test2.drop(['Churn'], axis=1)"
   ]
  },
  {
   "cell_type": "code",
   "execution_count": 66,
   "metadata": {
    "scrolled": false
   },
   "outputs": [
    {
     "data": {
      "image/png": "[encoded data removed]",
      "text/plain": [
       "<Figure size 576x432 with 1 Axes>"
      ]
     },
     "metadata": {
      "needs_background": "light"
     },
     "output_type": "display_data"
    }
   ],
   "source": [
    "import matplotlib.pyplot as plt\n",
    "from sklearn.metrics import roc_curve, auc\n",
    "\n",
    "fpr, tpr, _ = roc_curve(y_test, y_prob)\n",
    "roc_auc = auc(fpr, tpr)\n",
    "\n",
    "plt.figure(figsize=(8, 6))\n",
    "plt.title('ROC Curve', fontsize=18)\n",
    "plt.xlabel('FPR', fontsize=16)\n",
    "plt.ylabel('TPR', fontsize=16)\n",
    "plt.xlim([-0.01, 1.00])\n",
    "plt.ylim([-0.01, 1.01])\n",
    "plt.plot(fpr, tpr, lw=3, label='Logistic Regression (area = {:0.2f})'.format(roc_auc))\n",
    "plt.plot([0, 1], [0, 1], color='navy', lw=3, linestyle='--')\n",
    "plt.legend(loc='lower right', fontsize=14)\n",
    "plt.show()"
   ]
  },
  {
   "cell_type": "markdown",
   "metadata": {},
   "source": [
    "# ------------------------------------------------------------------------------------------"
   ]
  },
  {
   "cell_type": "markdown",
   "metadata": {},
   "source": [
    "## Linear Discriminant Analysis"
   ]
  },
  {
   "cell_type": "code",
   "execution_count": 67,
   "metadata": {},
   "outputs": [],
   "source": [
    "# from sklearn.discriminant_analysis import LinearDiscriminantAnalysis\n",
    "\n",
    "# lda = LinearDiscriminantAnalysis()\n",
    "# lda.fit(X_train, y_train)\n",
    "\n",
    "# y_prob = lda.predict_proba(X_test)\n",
    "# y_pred = pd.Series([1 if x > 1/3 else 0 for x in y_prob[:,1]], index=y_test.index)\n",
    "\n",
    "# cm = confusion_matrix(y_test, y_pred)\n",
    "# print (\"Confusion Matrix: \\n\", cm)\n",
    "# print (\"\\nAccuracy:\", accuracy_score(y_test, y_pred))"
   ]
  },
  {
   "cell_type": "code",
   "execution_count": 68,
   "metadata": {},
   "outputs": [],
   "source": [
    "# fpr_lda, tpr_lda, _ = roc_curve(y_test, y_prob_lda)\n",
    "# roc_auc_lda = auc(fpr_lda, tpr_lda)\n",
    "\n",
    "# plt.figure(figsize=(8, 6))\n",
    "# plt.title('ROC Curve', fontsize=18)\n",
    "# plt.xlabel('FPR', fontsize=16)\n",
    "# plt.ylabel('TPR', fontsize=16)\n",
    "# plt.xlim([-0.01, 1.00])\n",
    "# plt.ylim([-0.01, 1.01])\n",
    "# plt.plot(fpr, tpr, lw=3, label='Logistic Regression (area = {:0.2f})'.format(roc_auc))\n",
    "# plt.plot(fpr_lda, tpr_lda, lw=3, label='LDA (area = {:0.2f})'.format(roc_auc_lda))\n",
    "# plt.plot([0, 1], [0, 1], color='navy', lw=3, linestyle='--')\n",
    "# plt.legend(loc='lower right', fontsize=14)\n",
    "# plt.show()"
   ]
  }
 ],
 "metadata": {
  "kernelspec": {
   "display_name": "Python 3",
   "language": "python",
   "name": "python3"
  },
  "language_info": {
   "codemirror_mode": {
    "name": "ipython",
    "version": 3
   },
   "file_extension": ".py",
   "mimetype": "text/x-python",
   "name": "python",
   "nbconvert_exporter": "python",
   "pygments_lexer": "ipython3",
   "version": "3.6.9"
  }
 },
 "nbformat": 4,
 "nbformat_minor": 4
}
