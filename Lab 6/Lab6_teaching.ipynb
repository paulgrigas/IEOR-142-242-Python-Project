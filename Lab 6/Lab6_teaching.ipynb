{
 "cells": [
  {
   "cell_type": "markdown",
   "metadata": {},
   "source": [
    "# LAB 6 - TEXT ANALYTICS / INTRO TO NATURAL LANGUAGE PROCESSING"
   ]
  },
  {
   "cell_type": "code",
   "execution_count": 1,
   "metadata": {},
   "outputs": [
    {
     "data": {
      "text/html": [
       "<div>\n",
       "<style scoped>\n",
       "    .dataframe tbody tr th:only-of-type {\n",
       "        vertical-align: middle;\n",
       "    }\n",
       "\n",
       "    .dataframe tbody tr th {\n",
       "        vertical-align: top;\n",
       "    }\n",
       "\n",
       "    .dataframe thead th {\n",
       "        text-align: right;\n",
       "    }\n",
       "</style>\n",
       "<table border=\"1\" class=\"dataframe\">\n",
       "  <thead>\n",
       "    <tr style=\"text-align: right;\">\n",
       "      <th></th>\n",
       "      <th>Tweet</th>\n",
       "      <th>Avg</th>\n",
       "    </tr>\n",
       "  </thead>\n",
       "  <tbody>\n",
       "    <tr>\n",
       "      <th>0</th>\n",
       "      <td>IMO, @apple's new #iphone 5S/C was meant to co...</td>\n",
       "      <td>0.0</td>\n",
       "    </tr>\n",
       "    <tr>\n",
       "      <th>1</th>\n",
       "      <td>RT @SWAGGA_L: THE WORST !  RT @Mati_uCurvegawd...</td>\n",
       "      <td>-0.8</td>\n",
       "    </tr>\n",
       "    <tr>\n",
       "      <th>2</th>\n",
       "      <td>@mog_sharif @Apples @Android @Microsoft @Apple...</td>\n",
       "      <td>0.0</td>\n",
       "    </tr>\n",
       "    <tr>\n",
       "      <th>3</th>\n",
       "      <td>I hope the 5s battery life is better than the ...</td>\n",
       "      <td>-1.0</td>\n",
       "    </tr>\n",
       "    <tr>\n",
       "      <th>4</th>\n",
       "      <td>@DeltaAssist *EP it gets worse. The notificati...</td>\n",
       "      <td>-1.2</td>\n",
       "    </tr>\n",
       "    <tr>\n",
       "      <th>5</th>\n",
       "      <td>@Apple #iOS7..Everybody get ready to experienc...</td>\n",
       "      <td>1.0</td>\n",
       "    </tr>\n",
       "    <tr>\n",
       "      <th>6</th>\n",
       "      <td>Could @Apple &amp; @PayPal announcements be game c...</td>\n",
       "      <td>0.0</td>\n",
       "    </tr>\n",
       "    <tr>\n",
       "      <th>7</th>\n",
       "      <td>@apple, thank you so much for making all the i...</td>\n",
       "      <td>-1.0</td>\n",
       "    </tr>\n",
       "    <tr>\n",
       "      <th>8</th>\n",
       "      <td>@battalalgoos @apple</td>\n",
       "      <td>-0.2</td>\n",
       "    </tr>\n",
       "    <tr>\n",
       "      <th>9</th>\n",
       "      <td>@apple let iphones use gifs as wallpapers</td>\n",
       "      <td>0.0</td>\n",
       "    </tr>\n",
       "  </tbody>\n",
       "</table>\n",
       "</div>"
      ],
      "text/plain": [
       "                                               Tweet  Avg\n",
       "0  IMO, @apple's new #iphone 5S/C was meant to co...  0.0\n",
       "1  RT @SWAGGA_L: THE WORST !  RT @Mati_uCurvegawd... -0.8\n",
       "2  @mog_sharif @Apples @Android @Microsoft @Apple...  0.0\n",
       "3  I hope the 5s battery life is better than the ... -1.0\n",
       "4  @DeltaAssist *EP it gets worse. The notificati... -1.2\n",
       "5  @Apple #iOS7..Everybody get ready to experienc...  1.0\n",
       "6  Could @Apple & @PayPal announcements be game c...  0.0\n",
       "7  @apple, thank you so much for making all the i... -1.0\n",
       "8                               @battalalgoos @apple -0.2\n",
       "9          @apple let iphones use gifs as wallpapers  0.0"
      ]
     },
     "execution_count": 1,
     "metadata": {},
     "output_type": "execute_result"
    }
   ],
   "source": [
    "import os\n",
    "import pandas as pd\n",
    "fname = 'tweets.csv'\n",
    "# fname = os.path.join(DATA_DIR, fname)\n",
    "tweets = pd.read_csv(fname)\n",
    "\n",
    "tweets.head(10)\n",
    "\n",
    "# import csv\n",
    "# fname = 'tweets.csv'\n",
    "# # fname = os.path.join(DATA_DIR, fname)\n",
    "# tweets = []\n",
    "# #with open(fname) as f:\n",
    "# import codecs\n",
    "# with codecs.open(fname, \"r\", encoding='utf-8', errors='ignore') as f: ##for special encoding issues  \n",
    "#     reader = csv.reader(f)\n",
    "#     tweets = list(reader)\n",
    "# tweets[:10]"
   ]
  },
  {
   "cell_type": "code",
   "execution_count": 2,
   "metadata": {},
   "outputs": [
    {
     "name": "stdout",
     "output_type": "stream",
     "text": [
      "<class 'pandas.core.frame.DataFrame'>\n",
      "RangeIndex: 1181 entries, 0 to 1180\n",
      "Data columns (total 2 columns):\n",
      " #   Column  Non-Null Count  Dtype  \n",
      "---  ------  --------------  -----  \n",
      " 0   Tweet   1181 non-null   object \n",
      " 1   Avg     1181 non-null   float64\n",
      "dtypes: float64(1), object(1)\n",
      "memory usage: 18.6+ KB\n"
     ]
    },
    {
     "data": {
      "text/html": [
       "<div>\n",
       "<style scoped>\n",
       "    .dataframe tbody tr th:only-of-type {\n",
       "        vertical-align: middle;\n",
       "    }\n",
       "\n",
       "    .dataframe tbody tr th {\n",
       "        vertical-align: top;\n",
       "    }\n",
       "\n",
       "    .dataframe thead th {\n",
       "        text-align: right;\n",
       "    }\n",
       "</style>\n",
       "<table border=\"1\" class=\"dataframe\">\n",
       "  <thead>\n",
       "    <tr style=\"text-align: right;\">\n",
       "      <th></th>\n",
       "      <th>Avg</th>\n",
       "    </tr>\n",
       "  </thead>\n",
       "  <tbody>\n",
       "    <tr>\n",
       "      <th>count</th>\n",
       "      <td>1181.000000</td>\n",
       "    </tr>\n",
       "    <tr>\n",
       "      <th>mean</th>\n",
       "      <td>-0.193057</td>\n",
       "    </tr>\n",
       "    <tr>\n",
       "      <th>std</th>\n",
       "      <td>0.676421</td>\n",
       "    </tr>\n",
       "    <tr>\n",
       "      <th>min</th>\n",
       "      <td>-2.000000</td>\n",
       "    </tr>\n",
       "    <tr>\n",
       "      <th>25%</th>\n",
       "      <td>-0.600000</td>\n",
       "    </tr>\n",
       "    <tr>\n",
       "      <th>50%</th>\n",
       "      <td>0.000000</td>\n",
       "    </tr>\n",
       "    <tr>\n",
       "      <th>75%</th>\n",
       "      <td>0.200000</td>\n",
       "    </tr>\n",
       "    <tr>\n",
       "      <th>max</th>\n",
       "      <td>2.000000</td>\n",
       "    </tr>\n",
       "  </tbody>\n",
       "</table>\n",
       "</div>"
      ],
      "text/plain": [
       "               Avg\n",
       "count  1181.000000\n",
       "mean     -0.193057\n",
       "std       0.676421\n",
       "min      -2.000000\n",
       "25%      -0.600000\n",
       "50%       0.000000\n",
       "75%       0.200000\n",
       "max       2.000000"
      ]
     },
     "execution_count": 2,
     "metadata": {},
     "output_type": "execute_result"
    }
   ],
   "source": [
    "tweets.info()\n",
    "tweets.describe()"
   ]
  },
  {
   "cell_type": "code",
   "execution_count": 3,
   "metadata": {},
   "outputs": [],
   "source": [
    "# most_frequent_tweet = pd.DataFrame(tweets.describe()).loc['top'][0]\n",
    "# tweets[tweets['Tweet'] == most_frequent_tweet]['Tweet']"
   ]
  },
  {
   "cell_type": "code",
   "execution_count": 4,
   "metadata": {},
   "outputs": [
    {
     "data": {
      "text/html": [
       "<div>\n",
       "<style scoped>\n",
       "    .dataframe tbody tr th:only-of-type {\n",
       "        vertical-align: middle;\n",
       "    }\n",
       "\n",
       "    .dataframe tbody tr th {\n",
       "        vertical-align: top;\n",
       "    }\n",
       "\n",
       "    .dataframe thead th {\n",
       "        text-align: right;\n",
       "    }\n",
       "</style>\n",
       "<table border=\"1\" class=\"dataframe\">\n",
       "  <thead>\n",
       "    <tr style=\"text-align: right;\">\n",
       "      <th></th>\n",
       "      <th>Tweet</th>\n",
       "      <th>Negative</th>\n",
       "    </tr>\n",
       "  </thead>\n",
       "  <tbody>\n",
       "    <tr>\n",
       "      <th>0</th>\n",
       "      <td>IMO, @apple's new #iphone 5S/C was meant to co...</td>\n",
       "      <td>0</td>\n",
       "    </tr>\n",
       "    <tr>\n",
       "      <th>1</th>\n",
       "      <td>RT @SWAGGA_L: THE WORST !  RT @Mati_uCurvegawd...</td>\n",
       "      <td>0</td>\n",
       "    </tr>\n",
       "    <tr>\n",
       "      <th>2</th>\n",
       "      <td>@mog_sharif @Apples @Android @Microsoft @Apple...</td>\n",
       "      <td>0</td>\n",
       "    </tr>\n",
       "    <tr>\n",
       "      <th>3</th>\n",
       "      <td>I hope the 5s battery life is better than the ...</td>\n",
       "      <td>1</td>\n",
       "    </tr>\n",
       "    <tr>\n",
       "      <th>4</th>\n",
       "      <td>@DeltaAssist *EP it gets worse. The notificati...</td>\n",
       "      <td>1</td>\n",
       "    </tr>\n",
       "  </tbody>\n",
       "</table>\n",
       "</div>"
      ],
      "text/plain": [
       "                                               Tweet Negative\n",
       "0  IMO, @apple's new #iphone 5S/C was meant to co...        0\n",
       "1  RT @SWAGGA_L: THE WORST !  RT @Mati_uCurvegawd...        0\n",
       "2  @mog_sharif @Apples @Android @Microsoft @Apple...        0\n",
       "3  I hope the 5s battery life is better than the ...        1\n",
       "4  @DeltaAssist *EP it gets worse. The notificati...        1"
      ]
     },
     "execution_count": 4,
     "metadata": {},
     "output_type": "execute_result"
    }
   ],
   "source": [
    "# We want to predict negative sentiment\n",
    "# Lets create a new variable called \"Negative\" that converts the \n",
    "# \"sentiment\" number to negative (or not negative)\n",
    "# anything less than or equal to -1 is negative\n",
    " \n",
    "tweets['Negative'] = (tweets['Avg'] <= -1).astype('int32').astype('object')\n",
    "\n",
    "# And remove the old \"Avg\" column - we won't use it anymore\n",
    "\n",
    "tweets.drop(columns=['Avg'], inplace=True)\n",
    "tweets.head()"
   ]
  },
  {
   "cell_type": "code",
   "execution_count": 120,
   "metadata": {},
   "outputs": [
    {
     "name": "stdout",
     "output_type": "stream",
     "text": [
      "0    999\n",
      "1    182\n",
      "Name: Negative, dtype: int64\n"
     ]
    },
    {
     "data": {
      "image/png": "[encoded data removed]",
      "text/plain": [
       "<Figure size 432x288 with 1 Axes>"
      ]
     },
     "metadata": {
      "needs_background": "light"
     },
     "output_type": "display_data"
    }
   ],
   "source": [
    "# Before going any further, lets understand the rough distribution of\n",
    "# negative tweets in our data set\n",
    "import seaborn as sns\n",
    "\n",
    "sns.countplot(tweets['Negative'], order=tweets['Negative'].value_counts().index);\n",
    "print(tweets['Negative'].value_counts())"
   ]
  },
  {
   "cell_type": "markdown",
   "metadata": {},
   "source": [
    "## Cleaning Text"
   ]
  },
  {
   "cell_type": "code",
   "execution_count": 45,
   "metadata": {},
   "outputs": [
    {
     "data": {
      "text/plain": [
       "0       IMO, @apple's new #iphone 5S/C was meant to co...\n",
       "1       RT @SWAGGA_L: THE WORST !  RT @Mati_uCurvegawd...\n",
       "2       @mog_sharif @Apples @Android @Microsoft @Apple...\n",
       "3       I hope the 5s battery life is better than the ...\n",
       "4       @DeltaAssist *EP it gets worse. The notificati...\n",
       "                              ...                        \n",
       "1176    Why does @windowsphone and @Android constantly...\n",
       "1177    Dear @Apple - I'm a little peeved at y'all not...\n",
       "1178    {#IPODPLAYERPROMO #IPOD #IPAD #ITUNES #APPLE #...\n",
       "1179                        @xfrancesjoanna @crocs @apple\n",
       "1180    @mediacat Ortada algilari etkileyecek ucuz bir...\n",
       "Name: Tweet, Length: 1181, dtype: object"
      ]
     },
     "execution_count": 45,
     "metadata": {},
     "output_type": "execute_result"
    }
   ],
   "source": [
    "text = tweets['Tweet']\n",
    "text"
   ]
  },
  {
   "cell_type": "markdown",
   "metadata": {},
   "source": [
    "### Change to Lowercase"
   ]
  },
  {
   "cell_type": "code",
   "execution_count": 79,
   "metadata": {},
   "outputs": [
    {
     "data": {
      "text/plain": [
       "0       imo, @apple's new #iphone 5s/c was meant to co...\n",
       "1       rt @swagga_l: the worst !  rt @mati_ucurvegawd...\n",
       "2       @mog_sharif @apples @android @microsoft @apple...\n",
       "3       i hope the 5s battery life is better than the ...\n",
       "4       @deltaassist *ep it gets worse. the notificati...\n",
       "                              ...                        \n",
       "1176    why does @windowsphone and @android constantly...\n",
       "1177    dear @apple - i'm a little peeved at y'all not...\n",
       "1178    {#ipodplayerpromo #ipod #ipad #itunes #apple #...\n",
       "1179                        @xfrancesjoanna @crocs @apple\n",
       "1180    @mediacat ortada algilari etkileyecek ucuz bir...\n",
       "Name: Tweet, Length: 1181, dtype: object"
      ]
     },
     "execution_count": 79,
     "metadata": {},
     "output_type": "execute_result"
    }
   ],
   "source": [
    "# Step 2: Change all the text to lower case.\n",
    "# tm_map applies an operation to every document in our corpus\n",
    "# Here, that operation is 'tolower', i.e., 'to lowercase'\n",
    "text_lowercase = text.str.lower()\n",
    "text_lowercase"
   ]
  },
  {
   "cell_type": "code",
   "execution_count": 80,
   "metadata": {},
   "outputs": [
    {
     "data": {
      "text/plain": [
       "0       imo, @apple's new #iphone 5s/c was meant to co...\n",
       "1       rt @swagga_l: the worst !  rt @mati_ucurvegawd...\n",
       "2       @mog_sharif @apples @android @microsoft @apple...\n",
       "3       i hope the 5s battery life is better than the ...\n",
       "4       @deltaassist *ep it gets worse. the notificati...\n",
       "                              ...                        \n",
       "1176    why does @windowsphone and @android constantly...\n",
       "1177    dear @apple - i'm a little peeved at y'all not...\n",
       "1178    {#ipodplayerpromo #ipod #ipad #itunes #apple #...\n",
       "1179                        @xfrancesjoanna @crocs @apple\n",
       "1180    @mediacat ortada algilari etkileyecek ucuz bir...\n",
       "Name: Tweet, Length: 1181, dtype: object"
      ]
     },
     "execution_count": 80,
     "metadata": {},
     "output_type": "execute_result"
    }
   ],
   "source": [
    "# OR use the apply method to apply a function to all the rows of the dataframe:\n",
    "text_lowercase = text.apply(str.lower)\n",
    "text_lowercase"
   ]
  },
  {
   "cell_type": "markdown",
   "metadata": {},
   "source": [
    "### Remove Punctuation"
   ]
  },
  {
   "cell_type": "code",
   "execution_count": 81,
   "metadata": {},
   "outputs": [],
   "source": [
    "from string import punctuation\n",
    "\n",
    "def remove_punctuation(document):\n",
    "    no_punct = ''.join([character for character in document if character not in punctuation])\n",
    "    return no_punct"
   ]
  },
  {
   "cell_type": "code",
   "execution_count": 82,
   "metadata": {},
   "outputs": [
    {
     "data": {
      "text/plain": [
       "0       imo apples new iphone 5sc was meant to confuse...\n",
       "1       rt swaggal the worst   rt matiucurvegawd yooo ...\n",
       "2       mogsharif apples android microsoft apple thats...\n",
       "3       i hope the 5s battery life is better than the ...\n",
       "4       deltaassist ep it gets worse the notification ...\n",
       "                              ...                        \n",
       "1176    why does windowsphone and android constantly t...\n",
       "1177    dear apple  im a little peeved at yall not doi...\n",
       "1178    ipodplayerpromo ipod ipad itunes apple promo i...\n",
       "1179                           xfrancesjoanna crocs apple\n",
       "1180    mediacat ortada algilari etkileyecek ucuz bir ...\n",
       "Name: Tweet, Length: 1181, dtype: object"
      ]
     },
     "execution_count": 82,
     "metadata": {},
     "output_type": "execute_result"
    }
   ],
   "source": [
    "text_no_punct = lowercase_text.apply(remove_punctuation)\n",
    "text_no_punct"
   ]
  },
  {
   "cell_type": "markdown",
   "metadata": {},
   "source": [
    "### Tokenization"
   ]
  },
  {
   "cell_type": "code",
   "execution_count": 83,
   "metadata": {},
   "outputs": [
    {
     "data": {
      "text/plain": [
       "0    [imo, apples, new, iphone, 5sc, was, meant, to...\n",
       "1    [rt, swaggal, the, worst, rt, matiucurvegawd, ...\n",
       "2    [mogsharif, apples, android, microsoft, apple,...\n",
       "3    [i, hope, the, 5s, battery, life, is, better, ...\n",
       "4    [deltaassist, ep, it, gets, worse, the, notifi...\n",
       "Name: Tweet, dtype: object"
      ]
     },
     "execution_count": 83,
     "metadata": {},
     "output_type": "execute_result"
    }
   ],
   "source": [
    "from nltk.tokenize import word_tokenize\n",
    "tokens = text_no_punct.apply(word_tokenize)\n",
    "tokens.head()"
   ]
  },
  {
   "cell_type": "markdown",
   "metadata": {},
   "source": [
    "### Remove Stopwords"
   ]
  },
  {
   "cell_type": "code",
   "execution_count": 84,
   "metadata": {},
   "outputs": [
    {
     "data": {
      "text/plain": [
       "{'a',\n",
       " 'about',\n",
       " 'above',\n",
       " 'after',\n",
       " 'again',\n",
       " 'against',\n",
       " 'ain',\n",
       " 'all',\n",
       " 'am',\n",
       " 'an',\n",
       " 'and',\n",
       " 'any',\n",
       " 'are',\n",
       " 'aren',\n",
       " \"aren't\",\n",
       " 'as',\n",
       " 'at',\n",
       " 'be',\n",
       " 'because',\n",
       " 'been',\n",
       " 'before',\n",
       " 'being',\n",
       " 'below',\n",
       " 'between',\n",
       " 'both',\n",
       " 'but',\n",
       " 'by',\n",
       " 'can',\n",
       " 'couldn',\n",
       " \"couldn't\",\n",
       " 'd',\n",
       " 'did',\n",
       " 'didn',\n",
       " \"didn't\",\n",
       " 'do',\n",
       " 'does',\n",
       " 'doesn',\n",
       " \"doesn't\",\n",
       " 'doing',\n",
       " 'don',\n",
       " \"don't\",\n",
       " 'down',\n",
       " 'during',\n",
       " 'each',\n",
       " 'few',\n",
       " 'for',\n",
       " 'from',\n",
       " 'further',\n",
       " 'had',\n",
       " 'hadn',\n",
       " \"hadn't\",\n",
       " 'has',\n",
       " 'hasn',\n",
       " \"hasn't\",\n",
       " 'have',\n",
       " 'haven',\n",
       " \"haven't\",\n",
       " 'having',\n",
       " 'he',\n",
       " 'her',\n",
       " 'here',\n",
       " 'hers',\n",
       " 'herself',\n",
       " 'him',\n",
       " 'himself',\n",
       " 'his',\n",
       " 'how',\n",
       " 'i',\n",
       " 'if',\n",
       " 'in',\n",
       " 'into',\n",
       " 'is',\n",
       " 'isn',\n",
       " \"isn't\",\n",
       " 'it',\n",
       " \"it's\",\n",
       " 'its',\n",
       " 'itself',\n",
       " 'just',\n",
       " 'll',\n",
       " 'm',\n",
       " 'ma',\n",
       " 'me',\n",
       " 'mightn',\n",
       " \"mightn't\",\n",
       " 'more',\n",
       " 'most',\n",
       " 'mustn',\n",
       " \"mustn't\",\n",
       " 'my',\n",
       " 'myself',\n",
       " 'needn',\n",
       " \"needn't\",\n",
       " 'no',\n",
       " 'nor',\n",
       " 'not',\n",
       " 'now',\n",
       " 'o',\n",
       " 'of',\n",
       " 'off',\n",
       " 'on',\n",
       " 'once',\n",
       " 'only',\n",
       " 'or',\n",
       " 'other',\n",
       " 'our',\n",
       " 'ours',\n",
       " 'ourselves',\n",
       " 'out',\n",
       " 'over',\n",
       " 'own',\n",
       " 're',\n",
       " 's',\n",
       " 'same',\n",
       " 'shan',\n",
       " \"shan't\",\n",
       " 'she',\n",
       " \"she's\",\n",
       " 'should',\n",
       " \"should've\",\n",
       " 'shouldn',\n",
       " \"shouldn't\",\n",
       " 'so',\n",
       " 'some',\n",
       " 'such',\n",
       " 't',\n",
       " 'than',\n",
       " 'that',\n",
       " \"that'll\",\n",
       " 'the',\n",
       " 'their',\n",
       " 'theirs',\n",
       " 'them',\n",
       " 'themselves',\n",
       " 'then',\n",
       " 'there',\n",
       " 'these',\n",
       " 'they',\n",
       " 'this',\n",
       " 'those',\n",
       " 'through',\n",
       " 'to',\n",
       " 'too',\n",
       " 'under',\n",
       " 'until',\n",
       " 'up',\n",
       " 've',\n",
       " 'very',\n",
       " 'was',\n",
       " 'wasn',\n",
       " \"wasn't\",\n",
       " 'we',\n",
       " 'were',\n",
       " 'weren',\n",
       " \"weren't\",\n",
       " 'what',\n",
       " 'when',\n",
       " 'where',\n",
       " 'which',\n",
       " 'while',\n",
       " 'who',\n",
       " 'whom',\n",
       " 'why',\n",
       " 'will',\n",
       " 'with',\n",
       " 'won',\n",
       " \"won't\",\n",
       " 'wouldn',\n",
       " \"wouldn't\",\n",
       " 'y',\n",
       " 'you',\n",
       " \"you'd\",\n",
       " \"you'll\",\n",
       " \"you're\",\n",
       " \"you've\",\n",
       " 'your',\n",
       " 'yours',\n",
       " 'yourself',\n",
       " 'yourselves'}"
      ]
     },
     "execution_count": 84,
     "metadata": {},
     "output_type": "execute_result"
    }
   ],
   "source": [
    "from nltk.corpus import stopwords\n",
    "\n",
    "# First, take a look at tm's stopwords:\n",
    "stop_words = set(stopwords.words('english'))\n",
    "stop_words"
   ]
  },
  {
   "cell_type": "code",
   "execution_count": 156,
   "metadata": {},
   "outputs": [],
   "source": [
    "# We want to remove stopwords and \"apple\", as this is a word common to all of our tweets\n",
    "stop_words.add('apple')"
   ]
  },
  {
   "cell_type": "code",
   "execution_count": 100,
   "metadata": {},
   "outputs": [],
   "source": [
    "def remove_stopwords(document):\n",
    "    words = [word for word in document if not word in stop_words]\n",
    "    return words"
   ]
  },
  {
   "cell_type": "code",
   "execution_count": 101,
   "metadata": {},
   "outputs": [
    {
     "data": {
      "text/plain": [
       "0       [imo, apples, new, iphone, 5sc, meant, confuse...\n",
       "1       [rt, swaggal, worst, rt, matiucurvegawd, yooo,...\n",
       "2       [mogsharif, apples, android, microsoft, thats,...\n",
       "3       [hope, 5s, battery, life, better, 5, day, isnt...\n",
       "4       [deltaassist, ep, gets, worse, notification, r...\n",
       "                              ...                        \n",
       "1176    [windowsphone, android, constantly, try, compe...\n",
       "1177    [dear, im, little, peeved, yall, 5c, preorders...\n",
       "1178    [ipodplayerpromo, ipod, ipad, itunes, promo, i...\n",
       "1179                              [xfrancesjoanna, crocs]\n",
       "1180    [mediacat, ortada, algilari, etkileyecek, ucuz...\n",
       "Name: Tweet, Length: 1181, dtype: object"
      ]
     },
     "execution_count": 101,
     "metadata": {},
     "output_type": "execute_result"
    }
   ],
   "source": [
    "text_no_stop = tokens.apply(remove_stopwords)\n",
    "text_no_stop"
   ]
  },
  {
   "cell_type": "markdown",
   "metadata": {},
   "source": [
    "### Stemming/Lemmatization"
   ]
  },
  {
   "cell_type": "code",
   "execution_count": 102,
   "metadata": {},
   "outputs": [],
   "source": [
    "from nltk.stem import PorterStemmer\n",
    "porter = PorterStemmer()\n",
    "\n",
    "def stemmer(document):\n",
    "    stemmed_document = [porter.stem(word) for word in document]\n",
    "    return stemmed_document"
   ]
  },
  {
   "cell_type": "code",
   "execution_count": 111,
   "metadata": {},
   "outputs": [
    {
     "data": {
      "text/plain": [
       "0       [imo, appl, new, iphon, 5sc, meant, confus, ru...\n",
       "1       [rt, swaggal, worst, rt, matiucurvegawd, yooo,...\n",
       "2       [mogsharif, appl, android, microsoft, that, ve...\n",
       "3       [hope, 5s, batteri, life, better, 5, day, isnt...\n",
       "4       [deltaassist, ep, get, wors, notif, remain, ev...\n",
       "                              ...                        \n",
       "1176    [windowsphon, android, constantli, tri, compet...\n",
       "1177    [dear, im, littl, peev, yall, 5c, preorder, ai...\n",
       "1178    [ipodplayerpromo, ipod, ipad, itun, promo, ipo...\n",
       "1179                               [xfrancesjoanna, croc]\n",
       "1180    [mediacat, ortada, algilari, etkileyecek, ucuz...\n",
       "Name: Tweet, Length: 1181, dtype: object"
      ]
     },
     "execution_count": 111,
     "metadata": {},
     "output_type": "execute_result"
    }
   ],
   "source": [
    "text_stemmed = text_no_stop.apply(stemmer)\n",
    "text_stemmed"
   ]
  },
  {
   "cell_type": "code",
   "execution_count": 128,
   "metadata": {},
   "outputs": [
    {
     "data": {
      "text/plain": [
       "0       [imo, new, iphon, 5sc, meant, confus, russian,...\n",
       "1       [rt, swaggal, worst, rt, matiucurvegawd, yooo,...\n",
       "2        [mogsharif, android, microsoft, that, veryright]\n",
       "3       [hope, 5s, batteri, life, better, 5, day, isnt...\n",
       "4       [deltaassist, ep, get, wors, notif, remain, ev...\n",
       "                              ...                        \n",
       "1176    [windowsphon, android, constantli, tri, compet...\n",
       "1177    [dear, im, littl, peev, yall, 5c, preorder, ai...\n",
       "1178    [ipodplayerpromo, ipod, ipad, itun, promo, ipo...\n",
       "1179                               [xfrancesjoanna, croc]\n",
       "1180    [mediacat, ortada, algilari, etkileyecek, ucuz...\n",
       "Name: Tweet, Length: 1181, dtype: object"
      ]
     },
     "execution_count": 128,
     "metadata": {},
     "output_type": "execute_result"
    }
   ],
   "source": [
    "# Seems we didn't catch all of the apples...\n",
    "text_stemmed = text_stemmed.apply(lambda document: [word for word in document if not word == 'appl'])\n",
    "text_stemmed"
   ]
  },
  {
   "cell_type": "markdown",
   "metadata": {},
   "source": [
    "### Tokenization"
   ]
  },
  {
   "cell_type": "code",
   "execution_count": 146,
   "metadata": {},
   "outputs": [],
   "source": [
    "###"
   ]
  },
  {
   "cell_type": "markdown",
   "metadata": {},
   "source": [
    "### Detokenization\n",
    "\n",
    "Mention why detokenization. sklearn package inputs"
   ]
  },
  {
   "cell_type": "code",
   "execution_count": null,
   "metadata": {},
   "outputs": [],
   "source": []
  },
  {
   "cell_type": "code",
   "execution_count": 152,
   "metadata": {},
   "outputs": [
    {
     "data": {
      "text/plain": [
       "0           imo new iphon 5sc meant confus russian market\n",
       "1       rt swaggal worst rt matiucurvegawd yooo iphon ...\n",
       "2              mogsharif android microsoft that veryright\n",
       "3       hope 5s batteri life better 5 day isnt even ha...\n",
       "4       deltaassist ep get wors notif remain even app ...\n",
       "                              ...                        \n",
       "1176    windowsphon android constantli tri compet leve...\n",
       "1177    dear im littl peev yall 5c preorder aint stand...\n",
       "1178    ipodplayerpromo ipod ipad itun promo ipodplaye...\n",
       "1179                                  xfrancesjoanna croc\n",
       "1180    mediacat ortada algilari etkileyecek ucuz bir ...\n",
       "Name: Tweet, Length: 1181, dtype: object"
      ]
     },
     "execution_count": 152,
     "metadata": {},
     "output_type": "execute_result"
    }
   ],
   "source": [
    "from nltk.tokenize.treebank import TreebankWordDetokenizer\n",
    "\n",
    "text_detokenized = text_stemmed.apply(TreebankWordDetokenizer().detokenize)\n",
    "text_detokenized"
   ]
  },
  {
   "cell_type": "markdown",
   "metadata": {},
   "source": [
    "## Document-Term Matrix\n",
    "DTM does tokenization for us"
   ]
  },
  {
   "cell_type": "code",
   "execution_count": 154,
   "metadata": {},
   "outputs": [],
   "source": [
    "text_clean = text_detokenized"
   ]
  },
  {
   "cell_type": "code",
   "execution_count": 167,
   "metadata": {},
   "outputs": [
    {
     "data": {
      "text/plain": [
       "<1181x3433 sparse matrix of type '<class 'numpy.int64'>'\n",
       "\twith 9465 stored elements in Compressed Sparse Row format>"
      ]
     },
     "execution_count": 167,
     "metadata": {},
     "output_type": "execute_result"
    }
   ],
   "source": [
    "# Step 6: Create a word count matrix (rows are tweets, columns are words)\n",
    "# We've finished our basic cleaning, so now we want to calculate frequencies\n",
    "# of words across the tweets\n",
    "from sklearn.feature_extraction.text import CountVectorizer\n",
    "\n",
    "countvec = CountVectorizer()\n",
    "sparse_dtm = countvec.fit_transform(text_clean)\n",
    "sparse_dtm"
   ]
  },
  {
   "cell_type": "markdown",
   "metadata": {},
   "source": [
    "This format is called Compressed Sparse Format. It save a lot of memory to store the dtm in this format, but it is difficult to look at for a human. To illustrate the techniques in this lesson we will first convert this matrix back to a Pandas DataFrame, a format we're more familiar with. For larger datasets, you will have to use the Compressed Sparse Format. Putting it into a DataFrame, however, will enable us to get more comfortable with Pandas!"
   ]
  },
  {
   "cell_type": "code",
   "execution_count": 163,
   "metadata": {},
   "outputs": [
    {
     "data": {
      "text/html": [
       "<div>\n",
       "<style scoped>\n",
       "    .dataframe tbody tr th:only-of-type {\n",
       "        vertical-align: middle;\n",
       "    }\n",
       "\n",
       "    .dataframe tbody tr th {\n",
       "        vertical-align: top;\n",
       "    }\n",
       "\n",
       "    .dataframe thead th {\n",
       "        text-align: right;\n",
       "    }\n",
       "</style>\n",
       "<table border=\"1\" class=\"dataframe\">\n",
       "  <thead>\n",
       "    <tr style=\"text-align: right;\">\n",
       "      <th></th>\n",
       "      <th>000</th>\n",
       "      <th>075</th>\n",
       "      <th>0909</th>\n",
       "      <th>0910</th>\n",
       "      <th>099</th>\n",
       "      <th>10</th>\n",
       "      <th>100</th>\n",
       "      <th>100m</th>\n",
       "      <th>1085</th>\n",
       "      <th>10min</th>\n",
       "      <th>...</th>\n",
       "      <th>youtub</th>\n",
       "      <th>youv</th>\n",
       "      <th>yu</th>\n",
       "      <th>yurbud</th>\n",
       "      <th>z10</th>\n",
       "      <th>ze</th>\n",
       "      <th>zifmstereo</th>\n",
       "      <th>zimmerman</th>\n",
       "      <th>zippo</th>\n",
       "      <th>zostac</th>\n",
       "    </tr>\n",
       "  </thead>\n",
       "  <tbody>\n",
       "    <tr>\n",
       "      <th>0</th>\n",
       "      <td>0</td>\n",
       "      <td>0</td>\n",
       "      <td>0</td>\n",
       "      <td>0</td>\n",
       "      <td>0</td>\n",
       "      <td>0</td>\n",
       "      <td>0</td>\n",
       "      <td>0</td>\n",
       "      <td>0</td>\n",
       "      <td>0</td>\n",
       "      <td>...</td>\n",
       "      <td>0</td>\n",
       "      <td>0</td>\n",
       "      <td>0</td>\n",
       "      <td>0</td>\n",
       "      <td>0</td>\n",
       "      <td>0</td>\n",
       "      <td>0</td>\n",
       "      <td>0</td>\n",
       "      <td>0</td>\n",
       "      <td>0</td>\n",
       "    </tr>\n",
       "    <tr>\n",
       "      <th>1</th>\n",
       "      <td>0</td>\n",
       "      <td>0</td>\n",
       "      <td>0</td>\n",
       "      <td>0</td>\n",
       "      <td>0</td>\n",
       "      <td>0</td>\n",
       "      <td>0</td>\n",
       "      <td>0</td>\n",
       "      <td>0</td>\n",
       "      <td>0</td>\n",
       "      <td>...</td>\n",
       "      <td>0</td>\n",
       "      <td>0</td>\n",
       "      <td>0</td>\n",
       "      <td>0</td>\n",
       "      <td>0</td>\n",
       "      <td>0</td>\n",
       "      <td>0</td>\n",
       "      <td>0</td>\n",
       "      <td>0</td>\n",
       "      <td>0</td>\n",
       "    </tr>\n",
       "    <tr>\n",
       "      <th>2</th>\n",
       "      <td>0</td>\n",
       "      <td>0</td>\n",
       "      <td>0</td>\n",
       "      <td>0</td>\n",
       "      <td>0</td>\n",
       "      <td>0</td>\n",
       "      <td>0</td>\n",
       "      <td>0</td>\n",
       "      <td>0</td>\n",
       "      <td>0</td>\n",
       "      <td>...</td>\n",
       "      <td>0</td>\n",
       "      <td>0</td>\n",
       "      <td>0</td>\n",
       "      <td>0</td>\n",
       "      <td>0</td>\n",
       "      <td>0</td>\n",
       "      <td>0</td>\n",
       "      <td>0</td>\n",
       "      <td>0</td>\n",
       "      <td>0</td>\n",
       "    </tr>\n",
       "    <tr>\n",
       "      <th>3</th>\n",
       "      <td>0</td>\n",
       "      <td>0</td>\n",
       "      <td>0</td>\n",
       "      <td>0</td>\n",
       "      <td>0</td>\n",
       "      <td>0</td>\n",
       "      <td>0</td>\n",
       "      <td>0</td>\n",
       "      <td>0</td>\n",
       "      <td>0</td>\n",
       "      <td>...</td>\n",
       "      <td>0</td>\n",
       "      <td>0</td>\n",
       "      <td>0</td>\n",
       "      <td>0</td>\n",
       "      <td>0</td>\n",
       "      <td>0</td>\n",
       "      <td>0</td>\n",
       "      <td>0</td>\n",
       "      <td>0</td>\n",
       "      <td>0</td>\n",
       "    </tr>\n",
       "    <tr>\n",
       "      <th>4</th>\n",
       "      <td>0</td>\n",
       "      <td>0</td>\n",
       "      <td>0</td>\n",
       "      <td>0</td>\n",
       "      <td>0</td>\n",
       "      <td>0</td>\n",
       "      <td>0</td>\n",
       "      <td>0</td>\n",
       "      <td>0</td>\n",
       "      <td>0</td>\n",
       "      <td>...</td>\n",
       "      <td>0</td>\n",
       "      <td>0</td>\n",
       "      <td>0</td>\n",
       "      <td>0</td>\n",
       "      <td>0</td>\n",
       "      <td>0</td>\n",
       "      <td>0</td>\n",
       "      <td>0</td>\n",
       "      <td>0</td>\n",
       "      <td>0</td>\n",
       "    </tr>\n",
       "    <tr>\n",
       "      <th>...</th>\n",
       "      <td>...</td>\n",
       "      <td>...</td>\n",
       "      <td>...</td>\n",
       "      <td>...</td>\n",
       "      <td>...</td>\n",
       "      <td>...</td>\n",
       "      <td>...</td>\n",
       "      <td>...</td>\n",
       "      <td>...</td>\n",
       "      <td>...</td>\n",
       "      <td>...</td>\n",
       "      <td>...</td>\n",
       "      <td>...</td>\n",
       "      <td>...</td>\n",
       "      <td>...</td>\n",
       "      <td>...</td>\n",
       "      <td>...</td>\n",
       "      <td>...</td>\n",
       "      <td>...</td>\n",
       "      <td>...</td>\n",
       "      <td>...</td>\n",
       "    </tr>\n",
       "    <tr>\n",
       "      <th>1176</th>\n",
       "      <td>0</td>\n",
       "      <td>0</td>\n",
       "      <td>0</td>\n",
       "      <td>0</td>\n",
       "      <td>0</td>\n",
       "      <td>0</td>\n",
       "      <td>0</td>\n",
       "      <td>0</td>\n",
       "      <td>0</td>\n",
       "      <td>0</td>\n",
       "      <td>...</td>\n",
       "      <td>0</td>\n",
       "      <td>0</td>\n",
       "      <td>0</td>\n",
       "      <td>0</td>\n",
       "      <td>0</td>\n",
       "      <td>0</td>\n",
       "      <td>0</td>\n",
       "      <td>0</td>\n",
       "      <td>0</td>\n",
       "      <td>0</td>\n",
       "    </tr>\n",
       "    <tr>\n",
       "      <th>1177</th>\n",
       "      <td>0</td>\n",
       "      <td>0</td>\n",
       "      <td>0</td>\n",
       "      <td>0</td>\n",
       "      <td>0</td>\n",
       "      <td>0</td>\n",
       "      <td>0</td>\n",
       "      <td>0</td>\n",
       "      <td>0</td>\n",
       "      <td>0</td>\n",
       "      <td>...</td>\n",
       "      <td>0</td>\n",
       "      <td>0</td>\n",
       "      <td>0</td>\n",
       "      <td>0</td>\n",
       "      <td>0</td>\n",
       "      <td>0</td>\n",
       "      <td>0</td>\n",
       "      <td>0</td>\n",
       "      <td>0</td>\n",
       "      <td>0</td>\n",
       "    </tr>\n",
       "    <tr>\n",
       "      <th>1178</th>\n",
       "      <td>0</td>\n",
       "      <td>0</td>\n",
       "      <td>0</td>\n",
       "      <td>0</td>\n",
       "      <td>0</td>\n",
       "      <td>0</td>\n",
       "      <td>0</td>\n",
       "      <td>0</td>\n",
       "      <td>0</td>\n",
       "      <td>0</td>\n",
       "      <td>...</td>\n",
       "      <td>0</td>\n",
       "      <td>0</td>\n",
       "      <td>0</td>\n",
       "      <td>0</td>\n",
       "      <td>0</td>\n",
       "      <td>0</td>\n",
       "      <td>0</td>\n",
       "      <td>0</td>\n",
       "      <td>0</td>\n",
       "      <td>0</td>\n",
       "    </tr>\n",
       "    <tr>\n",
       "      <th>1179</th>\n",
       "      <td>0</td>\n",
       "      <td>0</td>\n",
       "      <td>0</td>\n",
       "      <td>0</td>\n",
       "      <td>0</td>\n",
       "      <td>0</td>\n",
       "      <td>0</td>\n",
       "      <td>0</td>\n",
       "      <td>0</td>\n",
       "      <td>0</td>\n",
       "      <td>...</td>\n",
       "      <td>0</td>\n",
       "      <td>0</td>\n",
       "      <td>0</td>\n",
       "      <td>0</td>\n",
       "      <td>0</td>\n",
       "      <td>0</td>\n",
       "      <td>0</td>\n",
       "      <td>0</td>\n",
       "      <td>0</td>\n",
       "      <td>0</td>\n",
       "    </tr>\n",
       "    <tr>\n",
       "      <th>1180</th>\n",
       "      <td>0</td>\n",
       "      <td>0</td>\n",
       "      <td>0</td>\n",
       "      <td>0</td>\n",
       "      <td>0</td>\n",
       "      <td>0</td>\n",
       "      <td>0</td>\n",
       "      <td>0</td>\n",
       "      <td>0</td>\n",
       "      <td>0</td>\n",
       "      <td>...</td>\n",
       "      <td>0</td>\n",
       "      <td>0</td>\n",
       "      <td>0</td>\n",
       "      <td>0</td>\n",
       "      <td>0</td>\n",
       "      <td>0</td>\n",
       "      <td>0</td>\n",
       "      <td>0</td>\n",
       "      <td>0</td>\n",
       "      <td>0</td>\n",
       "    </tr>\n",
       "  </tbody>\n",
       "</table>\n",
       "<p>1181 rows × 3433 columns</p>\n",
       "</div>"
      ],
      "text/plain": [
       "      000  075  0909  0910  099  10  100  100m  1085  10min  ...  youtub  \\\n",
       "0       0    0     0     0    0   0    0     0     0      0  ...       0   \n",
       "1       0    0     0     0    0   0    0     0     0      0  ...       0   \n",
       "2       0    0     0     0    0   0    0     0     0      0  ...       0   \n",
       "3       0    0     0     0    0   0    0     0     0      0  ...       0   \n",
       "4       0    0     0     0    0   0    0     0     0      0  ...       0   \n",
       "...   ...  ...   ...   ...  ...  ..  ...   ...   ...    ...  ...     ...   \n",
       "1176    0    0     0     0    0   0    0     0     0      0  ...       0   \n",
       "1177    0    0     0     0    0   0    0     0     0      0  ...       0   \n",
       "1178    0    0     0     0    0   0    0     0     0      0  ...       0   \n",
       "1179    0    0     0     0    0   0    0     0     0      0  ...       0   \n",
       "1180    0    0     0     0    0   0    0     0     0      0  ...       0   \n",
       "\n",
       "      youv  yu  yurbud  z10  ze  zifmstereo  zimmerman  zippo  zostac  \n",
       "0        0   0       0    0   0           0          0      0       0  \n",
       "1        0   0       0    0   0           0          0      0       0  \n",
       "2        0   0       0    0   0           0          0      0       0  \n",
       "3        0   0       0    0   0           0          0      0       0  \n",
       "4        0   0       0    0   0           0          0      0       0  \n",
       "...    ...  ..     ...  ...  ..         ...        ...    ...     ...  \n",
       "1176     0   0       0    0   0           0          0      0       0  \n",
       "1177     0   0       0    0   0           0          0      0       0  \n",
       "1178     0   0       0    0   0           0          0      0       0  \n",
       "1179     0   0       0    0   0           0          0      0       0  \n",
       "1180     0   0       0    0   0           0          0      0       0  \n",
       "\n",
       "[1181 rows x 3433 columns]"
      ]
     },
     "execution_count": 163,
     "metadata": {},
     "output_type": "execute_result"
    }
   ],
   "source": [
    "dtm = pd.DataFrame(sparse_dtm.toarray(), columns=countvec.get_feature_names(), index=tweets.index)\n",
    "dtm"
   ]
  },
  {
   "cell_type": "code",
   "execution_count": 294,
   "metadata": {},
   "outputs": [
    {
     "data": {
      "text/plain": [
       "<matplotlib.axes._subplots.AxesSubplot at 0x7fb1ed445390>"
      ]
     },
     "execution_count": 294,
     "metadata": {},
     "output_type": "execute_result"
    },
    {
     "data": {
      "image/png": "[encoded data removed]",
      "text/plain": [
       "<Figure size 432x288 with 1 Axes>"
      ]
     },
     "metadata": {
      "needs_background": "light"
     },
     "output_type": "display_data"
    }
   ],
   "source": [
    "frequencies = dtm.sum().sort_values(ascending=False)\n",
    "sns.countplot(frequencies)"
   ]
  },
  {
   "cell_type": "code",
   "execution_count": 185,
   "metadata": {},
   "outputs": [
    {
     "name": "stdout",
     "output_type": "stream",
     "text": [
      "iphon              287\n",
      "itun               121\n",
      "new                113\n",
      "5s                  91\n",
      "ipad                91\n",
      "phone               86\n",
      "get                 75\n",
      "ipod                73\n",
      "make                60\n",
      "ipodplayerpromo     60\n",
      "5c                  59\n",
      "freak               56\n",
      "im                  54\n",
      "app                 54\n",
      "like                53\n",
      "dtype: int64\n"
     ]
    }
   ],
   "source": [
    "# Step 7: Account for sparsity\n",
    "# We currently have way too many words, which will make it hard to train\n",
    "# our models and may even lead to overfitting.\n",
    "# Use findFreqTerms to get a feeling for which words appear the most\n",
    "\n",
    "# Words that appear at least 50 times:\n",
    "print(frequencies[frequencies > 50])"
   ]
  },
  {
   "cell_type": "code",
   "execution_count": null,
   "metadata": {},
   "outputs": [],
   "source": [
    "#  [1] \"iphon\"           \"new\"             \"app\"             \"get\"             \"make\"           \n",
    "#  [6] \"freak\"           \"just\"            \"dont\"            \"will\"            \"itun\"           \n",
    "# [11] \"phone\"           \"like\"            \"ipad\"            \"ipod\"            \"ipodplayerpromo\""
   ]
  },
  {
   "cell_type": "code",
   "execution_count": 200,
   "metadata": {},
   "outputs": [],
   "source": [
    "cumfr = [sum(frequencies[:i+1]) for i in range(len(frequencies))]"
   ]
  },
  {
   "cell_type": "code",
   "execution_count": null,
   "metadata": {},
   "outputs": [],
   "source": [
    "sns.countplot(cumfr)"
   ]
  },
  {
   "cell_type": "code",
   "execution_count": 201,
   "metadata": {},
   "outputs": [],
   "source": [
    "percentile = [100*i/cumfr[-1] for i in cumfr]"
   ]
  },
  {
   "cell_type": "code",
   "execution_count": 202,
   "metadata": {},
   "outputs": [
    {
     "data": {
      "text/plain": [
       "<matplotlib.axes._subplots.AxesSubplot at 0x7fb1e3116d30>"
      ]
     },
     "execution_count": 202,
     "metadata": {},
     "output_type": "execute_result"
    },
    {
     "data": {
      "image/png": "[encoded data removed]",
      "text/plain": [
       "<Figure size 432x288 with 1 Axes>"
      ]
     },
     "metadata": {
      "needs_background": "light"
     },
     "output_type": "display_data"
    }
   ],
   "source": [
    "sns.countplot(percentile)"
   ]
  },
  {
   "cell_type": "code",
   "execution_count": 204,
   "metadata": {},
   "outputs": [
    {
     "data": {
      "text/plain": [
       "iphon    287\n",
       "itun     121\n",
       "new      113\n",
       "5s        91\n",
       "ipad      91\n",
       "        ... \n",
       "best      12\n",
       "wish      12\n",
       "steve     12\n",
       "siri      12\n",
       "didnt     12\n",
       "Length: 127, dtype: int64"
      ]
     },
     "execution_count": 204,
     "metadata": {},
     "output_type": "execute_result"
    }
   ],
   "source": [
    "# Our solution to the possibility of overfitting is to only keep terms\n",
    "# that appear in x% or more of the tweets. \n",
    "\n",
    "# For example, 1% of the tweets or more (= 12 or more)\n",
    "countvec2 = CountVectorizer(min_df=12)\n",
    "sparse_dtm2 = countvec2.fit_transform(text_clean)\n",
    "dtm2 = pd.DataFrame(sparse_dtm2.toarray(), columns=countvec2.get_feature_names(), index=tweets.index)\n",
    "dtm2.sum().sort_values(ascending=False)"
   ]
  },
  {
   "cell_type": "code",
   "execution_count": 206,
   "metadata": {},
   "outputs": [
    {
     "data": {
      "text/plain": [
       "iphon     287\n",
       "itun      121\n",
       "new       113\n",
       "5s         91\n",
       "ipad       91\n",
       "         ... \n",
       "talk        6\n",
       "condom      6\n",
       "lock        6\n",
       "lost        6\n",
       "20          6\n",
       "Length: 331, dtype: int64"
      ]
     },
     "execution_count": 206,
     "metadata": {},
     "output_type": "execute_result"
    }
   ],
   "source": [
    "# 0.5% of the tweets or more (= 6 or more)\n",
    "countvec3 = CountVectorizer(min_df=6)\n",
    "sparse_dtm3 = countvec3.fit_transform(text_clean)\n",
    "dtm3 = pd.DataFrame(sparse_dtm3.toarray(), columns=countvec3.get_feature_names(), index=tweets.index)\n",
    "# How many did we keep?\n",
    "dtm3.sum().sort_values(ascending=False)"
   ]
  },
  {
   "cell_type": "code",
   "execution_count": 229,
   "metadata": {},
   "outputs": [
    {
     "data": {
      "text/html": [
       "<div>\n",
       "<style scoped>\n",
       "    .dataframe tbody tr th:only-of-type {\n",
       "        vertical-align: middle;\n",
       "    }\n",
       "\n",
       "    .dataframe tbody tr th {\n",
       "        vertical-align: top;\n",
       "    }\n",
       "\n",
       "    .dataframe thead th {\n",
       "        text-align: right;\n",
       "    }\n",
       "</style>\n",
       "<table border=\"1\" class=\"dataframe\">\n",
       "  <thead>\n",
       "    <tr style=\"text-align: right;\">\n",
       "      <th></th>\n",
       "      <th>5c</th>\n",
       "      <th>5s</th>\n",
       "      <th>android</th>\n",
       "      <th>announc</th>\n",
       "      <th>anyon</th>\n",
       "      <th>app</th>\n",
       "      <th>back</th>\n",
       "      <th>batteri</th>\n",
       "      <th>best</th>\n",
       "      <th>better</th>\n",
       "      <th>...</th>\n",
       "      <th>wish</th>\n",
       "      <th>wont</th>\n",
       "      <th>work</th>\n",
       "      <th>would</th>\n",
       "      <th>wtf</th>\n",
       "      <th>yall</th>\n",
       "      <th>year</th>\n",
       "      <th>yet</th>\n",
       "      <th>your</th>\n",
       "      <th>Negative</th>\n",
       "    </tr>\n",
       "  </thead>\n",
       "  <tbody>\n",
       "    <tr>\n",
       "      <th>0</th>\n",
       "      <td>0</td>\n",
       "      <td>0</td>\n",
       "      <td>0</td>\n",
       "      <td>0</td>\n",
       "      <td>0</td>\n",
       "      <td>0</td>\n",
       "      <td>0</td>\n",
       "      <td>0</td>\n",
       "      <td>0</td>\n",
       "      <td>0</td>\n",
       "      <td>...</td>\n",
       "      <td>0</td>\n",
       "      <td>0</td>\n",
       "      <td>0</td>\n",
       "      <td>0</td>\n",
       "      <td>0</td>\n",
       "      <td>0</td>\n",
       "      <td>0</td>\n",
       "      <td>0</td>\n",
       "      <td>0</td>\n",
       "      <td>0</td>\n",
       "    </tr>\n",
       "    <tr>\n",
       "      <th>1</th>\n",
       "      <td>0</td>\n",
       "      <td>0</td>\n",
       "      <td>0</td>\n",
       "      <td>0</td>\n",
       "      <td>0</td>\n",
       "      <td>0</td>\n",
       "      <td>0</td>\n",
       "      <td>1</td>\n",
       "      <td>0</td>\n",
       "      <td>0</td>\n",
       "      <td>...</td>\n",
       "      <td>0</td>\n",
       "      <td>0</td>\n",
       "      <td>0</td>\n",
       "      <td>0</td>\n",
       "      <td>0</td>\n",
       "      <td>0</td>\n",
       "      <td>0</td>\n",
       "      <td>0</td>\n",
       "      <td>0</td>\n",
       "      <td>0</td>\n",
       "    </tr>\n",
       "    <tr>\n",
       "      <th>2</th>\n",
       "      <td>0</td>\n",
       "      <td>0</td>\n",
       "      <td>1</td>\n",
       "      <td>0</td>\n",
       "      <td>0</td>\n",
       "      <td>0</td>\n",
       "      <td>0</td>\n",
       "      <td>0</td>\n",
       "      <td>0</td>\n",
       "      <td>0</td>\n",
       "      <td>...</td>\n",
       "      <td>0</td>\n",
       "      <td>0</td>\n",
       "      <td>0</td>\n",
       "      <td>0</td>\n",
       "      <td>0</td>\n",
       "      <td>0</td>\n",
       "      <td>0</td>\n",
       "      <td>0</td>\n",
       "      <td>0</td>\n",
       "      <td>0</td>\n",
       "    </tr>\n",
       "    <tr>\n",
       "      <th>3</th>\n",
       "      <td>0</td>\n",
       "      <td>1</td>\n",
       "      <td>0</td>\n",
       "      <td>0</td>\n",
       "      <td>0</td>\n",
       "      <td>0</td>\n",
       "      <td>0</td>\n",
       "      <td>2</td>\n",
       "      <td>0</td>\n",
       "      <td>1</td>\n",
       "      <td>...</td>\n",
       "      <td>0</td>\n",
       "      <td>0</td>\n",
       "      <td>0</td>\n",
       "      <td>0</td>\n",
       "      <td>0</td>\n",
       "      <td>0</td>\n",
       "      <td>0</td>\n",
       "      <td>0</td>\n",
       "      <td>0</td>\n",
       "      <td>1</td>\n",
       "    </tr>\n",
       "    <tr>\n",
       "      <th>4</th>\n",
       "      <td>0</td>\n",
       "      <td>0</td>\n",
       "      <td>0</td>\n",
       "      <td>0</td>\n",
       "      <td>0</td>\n",
       "      <td>1</td>\n",
       "      <td>0</td>\n",
       "      <td>0</td>\n",
       "      <td>0</td>\n",
       "      <td>0</td>\n",
       "      <td>...</td>\n",
       "      <td>0</td>\n",
       "      <td>0</td>\n",
       "      <td>0</td>\n",
       "      <td>0</td>\n",
       "      <td>0</td>\n",
       "      <td>0</td>\n",
       "      <td>0</td>\n",
       "      <td>0</td>\n",
       "      <td>0</td>\n",
       "      <td>1</td>\n",
       "    </tr>\n",
       "    <tr>\n",
       "      <th>...</th>\n",
       "      <td>...</td>\n",
       "      <td>...</td>\n",
       "      <td>...</td>\n",
       "      <td>...</td>\n",
       "      <td>...</td>\n",
       "      <td>...</td>\n",
       "      <td>...</td>\n",
       "      <td>...</td>\n",
       "      <td>...</td>\n",
       "      <td>...</td>\n",
       "      <td>...</td>\n",
       "      <td>...</td>\n",
       "      <td>...</td>\n",
       "      <td>...</td>\n",
       "      <td>...</td>\n",
       "      <td>...</td>\n",
       "      <td>...</td>\n",
       "      <td>...</td>\n",
       "      <td>...</td>\n",
       "      <td>...</td>\n",
       "      <td>...</td>\n",
       "    </tr>\n",
       "    <tr>\n",
       "      <th>1176</th>\n",
       "      <td>0</td>\n",
       "      <td>0</td>\n",
       "      <td>1</td>\n",
       "      <td>0</td>\n",
       "      <td>0</td>\n",
       "      <td>0</td>\n",
       "      <td>0</td>\n",
       "      <td>0</td>\n",
       "      <td>0</td>\n",
       "      <td>0</td>\n",
       "      <td>...</td>\n",
       "      <td>0</td>\n",
       "      <td>0</td>\n",
       "      <td>0</td>\n",
       "      <td>0</td>\n",
       "      <td>0</td>\n",
       "      <td>1</td>\n",
       "      <td>0</td>\n",
       "      <td>0</td>\n",
       "      <td>0</td>\n",
       "      <td>0</td>\n",
       "    </tr>\n",
       "    <tr>\n",
       "      <th>1177</th>\n",
       "      <td>1</td>\n",
       "      <td>0</td>\n",
       "      <td>0</td>\n",
       "      <td>0</td>\n",
       "      <td>0</td>\n",
       "      <td>0</td>\n",
       "      <td>0</td>\n",
       "      <td>0</td>\n",
       "      <td>0</td>\n",
       "      <td>0</td>\n",
       "      <td>...</td>\n",
       "      <td>0</td>\n",
       "      <td>0</td>\n",
       "      <td>0</td>\n",
       "      <td>0</td>\n",
       "      <td>0</td>\n",
       "      <td>1</td>\n",
       "      <td>0</td>\n",
       "      <td>0</td>\n",
       "      <td>0</td>\n",
       "      <td>1</td>\n",
       "    </tr>\n",
       "    <tr>\n",
       "      <th>1178</th>\n",
       "      <td>0</td>\n",
       "      <td>0</td>\n",
       "      <td>0</td>\n",
       "      <td>0</td>\n",
       "      <td>0</td>\n",
       "      <td>0</td>\n",
       "      <td>0</td>\n",
       "      <td>0</td>\n",
       "      <td>0</td>\n",
       "      <td>0</td>\n",
       "      <td>...</td>\n",
       "      <td>0</td>\n",
       "      <td>0</td>\n",
       "      <td>0</td>\n",
       "      <td>0</td>\n",
       "      <td>0</td>\n",
       "      <td>0</td>\n",
       "      <td>0</td>\n",
       "      <td>0</td>\n",
       "      <td>0</td>\n",
       "      <td>0</td>\n",
       "    </tr>\n",
       "    <tr>\n",
       "      <th>1179</th>\n",
       "      <td>0</td>\n",
       "      <td>0</td>\n",
       "      <td>0</td>\n",
       "      <td>0</td>\n",
       "      <td>0</td>\n",
       "      <td>0</td>\n",
       "      <td>0</td>\n",
       "      <td>0</td>\n",
       "      <td>0</td>\n",
       "      <td>0</td>\n",
       "      <td>...</td>\n",
       "      <td>0</td>\n",
       "      <td>0</td>\n",
       "      <td>0</td>\n",
       "      <td>0</td>\n",
       "      <td>0</td>\n",
       "      <td>0</td>\n",
       "      <td>0</td>\n",
       "      <td>0</td>\n",
       "      <td>0</td>\n",
       "      <td>0</td>\n",
       "    </tr>\n",
       "    <tr>\n",
       "      <th>1180</th>\n",
       "      <td>0</td>\n",
       "      <td>0</td>\n",
       "      <td>0</td>\n",
       "      <td>0</td>\n",
       "      <td>0</td>\n",
       "      <td>0</td>\n",
       "      <td>0</td>\n",
       "      <td>0</td>\n",
       "      <td>0</td>\n",
       "      <td>0</td>\n",
       "      <td>...</td>\n",
       "      <td>0</td>\n",
       "      <td>0</td>\n",
       "      <td>0</td>\n",
       "      <td>0</td>\n",
       "      <td>0</td>\n",
       "      <td>0</td>\n",
       "      <td>0</td>\n",
       "      <td>0</td>\n",
       "      <td>0</td>\n",
       "      <td>0</td>\n",
       "    </tr>\n",
       "  </tbody>\n",
       "</table>\n",
       "<p>1181 rows × 128 columns</p>\n",
       "</div>"
      ],
      "text/plain": [
       "      5c  5s  android  announc  anyon  app  back  batteri  best  better  ...  \\\n",
       "0      0   0        0        0      0    0     0        0     0       0  ...   \n",
       "1      0   0        0        0      0    0     0        1     0       0  ...   \n",
       "2      0   0        1        0      0    0     0        0     0       0  ...   \n",
       "3      0   1        0        0      0    0     0        2     0       1  ...   \n",
       "4      0   0        0        0      0    1     0        0     0       0  ...   \n",
       "...   ..  ..      ...      ...    ...  ...   ...      ...   ...     ...  ...   \n",
       "1176   0   0        1        0      0    0     0        0     0       0  ...   \n",
       "1177   1   0        0        0      0    0     0        0     0       0  ...   \n",
       "1178   0   0        0        0      0    0     0        0     0       0  ...   \n",
       "1179   0   0        0        0      0    0     0        0     0       0  ...   \n",
       "1180   0   0        0        0      0    0     0        0     0       0  ...   \n",
       "\n",
       "      wish  wont  work  would  wtf  yall  year  yet  your  Negative  \n",
       "0        0     0     0      0    0     0     0    0     0         0  \n",
       "1        0     0     0      0    0     0     0    0     0         0  \n",
       "2        0     0     0      0    0     0     0    0     0         0  \n",
       "3        0     0     0      0    0     0     0    0     0         1  \n",
       "4        0     0     0      0    0     0     0    0     0         1  \n",
       "...    ...   ...   ...    ...  ...   ...   ...  ...   ...       ...  \n",
       "1176     0     0     0      0    0     1     0    0     0         0  \n",
       "1177     0     0     0      0    0     1     0    0     0         1  \n",
       "1178     0     0     0      0    0     0     0    0     0         0  \n",
       "1179     0     0     0      0    0     0     0    0     0         0  \n",
       "1180     0     0     0      0    0     0     0    0     0         0  \n",
       "\n",
       "[1181 rows x 128 columns]"
      ]
     },
     "execution_count": 229,
     "metadata": {},
     "output_type": "execute_result"
    }
   ],
   "source": [
    "# Let's keep it at the 1%\n",
    "dtm = dtm2.join(tweets['Negative'], how='outer')\n",
    "dtm"
   ]
  },
  {
   "cell_type": "code",
   "execution_count": null,
   "metadata": {},
   "outputs": [],
   "source": [
    "# We have some variable names that start with a number, \n",
    "# which can cause R some problems. Let's fix this before going\n",
    "# any further\n",
    "colnames(TweetsTM) = make.names(colnames(TweetsTM))\n",
    "# This isn't our original dataframe, so we need to bring that column\n",
    "# with the dependent variable into this new one\n",
    "TweetsTM$Negative = Tweets$Negative"
   ]
  },
  {
   "cell_type": "markdown",
   "metadata": {},
   "source": [
    "## -------------------------------------------------------------------------------------------------------"
   ]
  },
  {
   "cell_type": "markdown",
   "metadata": {},
   "source": [
    "## Supervised Learning"
   ]
  },
  {
   "cell_type": "code",
   "execution_count": 300,
   "metadata": {},
   "outputs": [
    {
     "data": {
      "text/plain": [
       "((826, 127), (355, 127))"
      ]
     },
     "execution_count": 300,
     "metadata": {},
     "output_type": "execute_result"
    }
   ],
   "source": [
    "from sklearn.model_selection import train_test_split\n",
    "\n",
    "y = dtm['Negative'].astype('int32')\n",
    "X = dtm.drop(['Negative'], axis=1)\n",
    "\n",
    "X_train, X_test, y_train, y_test = train_test_split(X, y, test_size=0.3, stratify=y, random_state=88)\n",
    "X_train.shape, X_test.shape"
   ]
  },
  {
   "cell_type": "code",
   "execution_count": 301,
   "metadata": {},
   "outputs": [
    {
     "name": "stdout",
     "output_type": "stream",
     "text": [
      "0    699\n",
      "1    127\n",
      "Name: Negative, dtype: int64\n",
      "0    300\n",
      "1     55\n",
      "Name: Negative, dtype: int64\n"
     ]
    }
   ],
   "source": [
    "# Baseline accuracy\n",
    "print(y_train.value_counts())\n",
    "print(y_test.value_counts())"
   ]
  },
  {
   "cell_type": "code",
   "execution_count": 303,
   "metadata": {},
   "outputs": [
    {
     "name": "stdout",
     "output_type": "stream",
     "text": [
      "ACC 0.8450704225352113\n"
     ]
    }
   ],
   "source": [
    "print('ACC', 300/(300 + 55))"
   ]
  },
  {
   "cell_type": "markdown",
   "metadata": {},
   "source": [
    "### Random Forest Classifier"
   ]
  },
  {
   "cell_type": "code",
   "execution_count": 306,
   "metadata": {},
   "outputs": [
    {
     "data": {
      "text/plain": [
       "RandomForestClassifier(n_estimators=500, random_state=88)"
      ]
     },
     "execution_count": 306,
     "metadata": {},
     "output_type": "execute_result"
    }
   ],
   "source": [
    "from sklearn.ensemble import RandomForestClassifier\n",
    "\n",
    "rf = RandomForestClassifier(n_estimators=500, random_state=88)\n",
    "rf.fit(X_train, y_train)"
   ]
  },
  {
   "cell_type": "code",
   "execution_count": 307,
   "metadata": {},
   "outputs": [
    {
     "name": "stdout",
     "output_type": "stream",
     "text": [
      "Confusion Matrix: \n",
      " [[282  18]\n",
      " [ 34  21]]\n",
      "\n",
      "Accuracy: 0.8535211267605634\n"
     ]
    }
   ],
   "source": [
    "from sklearn.metrics import confusion_matrix\n",
    "from sklearn.metrics import accuracy_score\n",
    "\n",
    "y_pred = rf.predict(X_test)\n",
    "cm = confusion_matrix(y_test, y_pred)\n",
    "print (\"Confusion Matrix: \\n\", cm)\n",
    "print (\"\\nAccuracy:\", accuracy_score(y_test, y_pred))"
   ]
  },
  {
   "cell_type": "markdown",
   "metadata": {},
   "source": [
    "### Decision Tree Classifier with CV"
   ]
  },
  {
   "cell_type": "code",
   "execution_count": 308,
   "metadata": {},
   "outputs": [
    {
     "data": {
      "text/plain": [
       "GridSearchCV(cv=10, estimator=DecisionTreeClassifier(random_state=88),\n",
       "             param_grid={'ccp_alpha': array([0.   , 0.001, 0.002, 0.003, 0.004, 0.005, 0.006, 0.007, 0.008,\n",
       "       0.009, 0.01 , 0.011, 0.012, 0.013, 0.014, 0.015, 0.016, 0.017,\n",
       "       0.018, 0.019, 0.02 , 0.021, 0.022, 0.023, 0.024, 0.025, 0.026,\n",
       "       0.027, 0.028, 0.029, 0.03 , 0.031, 0.032, 0.033, 0.034, 0.035,\n",
       "       0.036, 0.037, 0.038, 0.039, 0.04 , 0.041, 0.042, 0.043, 0.044,\n",
       "       0.045, 0.046, 0.047, 0.048, 0.049, 0.05 , 0.051, 0.052, 0.053,\n",
       "       0.054, 0.055, 0.056, 0.057, 0.058, 0.059, 0.06 , 0.061, 0.062,\n",
       "       0.063, 0.064, 0.065, 0.066, 0.067, 0.068, 0.069, 0.07 , 0.071,\n",
       "       0.072, 0.073, 0.074, 0.075, 0.076, 0.077, 0.078, 0.079, 0.08 ,\n",
       "       0.081, 0.082, 0.083, 0.084, 0.085, 0.086, 0.087, 0.088, 0.089,\n",
       "       0.09 , 0.091, 0.092, 0.093, 0.094, 0.095, 0.096, 0.097, 0.098,\n",
       "       0.099, 0.1  ])})"
      ]
     },
     "execution_count": 308,
     "metadata": {},
     "output_type": "execute_result"
    }
   ],
   "source": [
    "from sklearn.model_selection import GridSearchCV\n",
    "from sklearn.tree import DecisionTreeClassifier\n",
    "\n",
    "grid_values = {'ccp_alpha': np.linspace(0, 0.1, 101)}\n",
    "\n",
    "dtc = DecisionTreeClassifier(random_state=88)\n",
    "dtc_cv = GridSearchCV(dtc, param_grid=grid_values, cv=10)\n",
    "dtc_cv.fit(X_train, y_train)"
   ]
  },
  {
   "cell_type": "code",
   "execution_count": 309,
   "metadata": {
    "scrolled": false
   },
   "outputs": [
    {
     "data": {
      "image/png": "[encoded data removed]",
      "text/plain": [
       "<Figure size 576x432 with 1 Axes>"
      ]
     },
     "metadata": {
      "needs_background": "light"
     },
     "output_type": "display_data"
    },
    {
     "name": "stdout",
     "output_type": "stream",
     "text": [
      "Best ccp_alpha {'ccp_alpha': 0.009000000000000001}\n"
     ]
    }
   ],
   "source": [
    "import matplotlib.pyplot as plt\n",
    "\n",
    "ccp_alpha = dtc_cv.cv_results_['param_ccp_alpha'].data\n",
    "ACC_scores = dtc_cv.cv_results_['mean_test_score']\n",
    "\n",
    "plt.figure(figsize=(8, 6))\n",
    "plt.xlabel('ccp_alpha', fontsize=16)\n",
    "plt.ylabel('CV Accuracy', fontsize=16)\n",
    "plt.scatter(ccp_alpha, ACC_scores, s=3)\n",
    "plt.plot(ccp_alpha, ACC_scores, linewidth=3)\n",
    "plt.grid(True, which='both')\n",
    "# plt.xlim([0, 0.00055])\n",
    "# plt.ylim([0.2, 0.5])\n",
    "\n",
    "plt.tight_layout()\n",
    "plt.show()\n",
    "\n",
    "print('Best ccp_alpha', dtc_cv.best_params_)"
   ]
  },
  {
   "cell_type": "code",
   "execution_count": 310,
   "metadata": {},
   "outputs": [
    {
     "name": "stdout",
     "output_type": "stream",
     "text": [
      "Node count = 5\n"
     ]
    },
    {
     "data": {
      "image/png": "[encoded data removed]",
      "text/plain": [
       "<Figure size 432x432 with 1 Axes>"
      ]
     },
     "metadata": {
      "needs_background": "light"
     },
     "output_type": "display_data"
    }
   ],
   "source": [
    "from sklearn.tree import plot_tree\n",
    "\n",
    "print('Node count =', dtc_cv.best_estimator_.tree_.node_count)\n",
    "plt.figure(figsize=(6,6))\n",
    "plot_tree(dtc_cv.best_estimator_, \n",
    "          feature_names=X_train.columns, \n",
    "          class_names=['0','1'], \n",
    "          filled=True,\n",
    "          impurity=False,\n",
    "          fontsize=12) \n",
    "plt.show()"
   ]
  },
  {
   "cell_type": "code",
   "execution_count": 311,
   "metadata": {},
   "outputs": [
    {
     "name": "stdout",
     "output_type": "stream",
     "text": [
      "Confusion Matrix: \n",
      " [[295   5]\n",
      " [ 38  17]]\n",
      "\n",
      "Accuracy: 0.8788732394366198\n"
     ]
    }
   ],
   "source": [
    "y_pred = dtc_cv.predict(X_test)\n",
    "cm = confusion_matrix(y_test, y_pred)\n",
    "print (\"Confusion Matrix: \\n\", cm)\n",
    "print (\"\\nAccuracy:\", accuracy_score(y_test, y_pred))"
   ]
  },
  {
   "cell_type": "code",
   "execution_count": null,
   "metadata": {},
   "outputs": [],
   "source": [
    "# Cross-validated CART model\n",
    "set.seed(3421)\n",
    "train.cart = train(Negative ~ .,\n",
    "                   data = TweetsTrain,\n",
    "                   method = \"rpart\",\n",
    "                   tuneGrid = data.frame(cp=seq(0, 0.4, 0.002)),\n",
    "                   trControl = trainControl(method=\"cv\", number=10))\n",
    "train.cart\n",
    "train.cart$results\n",
    "\n",
    "ggplot(train.cart$results, aes(x = cp, y = Accuracy)) + \n",
    "  geom_point(size = 2) + \n",
    "  geom_line() + \n",
    "  ylab(\"CV Accuracy\") + \n",
    "  theme_bw() + \n",
    "  theme(axis.title=element_text(size=18), axis.text=element_text(size=18))\n",
    "\n",
    "mod.cart = train.cart$finalModel\n",
    "prp(mod.cart)\n",
    "\n",
    "predict.cart = predict(mod.cart, newdata = TweetsTest, type = \"class\") # why no model.matrix? \n",
    "table(TweetsTest$Negative, predict.cart)\n",
    "tableAccuracy(TweetsTest$Negative, predict.cart)"
   ]
  },
  {
   "cell_type": "code",
   "execution_count": null,
   "metadata": {},
   "outputs": [],
   "source": [
    "# Cross validated RF\n",
    "# WARNING: this took me approx. 1 hour to run\n",
    "set.seed(311)\n",
    "train.rf = train(Negative ~ .,\n",
    "                 data = TweetsTrain,\n",
    "                 method = \"rf\",\n",
    "                 tuneGrid = data.frame(mtry = 1:120),\n",
    "                 trControl = trainControl(method = \"cv\", number = 5, verboseIter = TRUE))\n",
    "train.rf\n",
    "train.rf$results\n",
    "\n",
    "ggplot(train.rf$results, aes(x = mtry, y = Accuracy)) + geom_point(size = 2) + geom_line() + \n",
    "  ylab(\"CV Accuracy\") + theme_bw() + \n",
    "  theme(axis.title=element_text(size=18), axis.text=element_text(size=18))\n",
    "\n",
    "\n",
    "mod.rf = train.rf$finalModel\n",
    "predict.rf = predict(mod.rf, newdata = TweetsTest)\n",
    "table(TweetsTest$Negative, predict.rf)\n",
    "tableAccuracy(TweetsTest$Negative, predict.rf)\n",
    "\n",
    "# Variable importance using dplyr and the pipe\n",
    "# Step 1: turn mod.rf$importance into a data frame\n",
    "# Step 2: create a new variable (column) called Words equal to the rownames of mod.rf$importance\n",
    "# Step 3: arrange in descendending order according to variable importance measure\n",
    "as.data.frame(mod.rf$importance) %>%\n",
    "  mutate(Words = rownames(mod.rf$importance)) %>%\n",
    "  arrange(desc(MeanDecreaseGini))\n",
    "\n",
    "\n",
    "# Logistic Regression\n",
    "\n",
    "TweetLog = glm(Negative ~ ., data = TweetsTrain, family = \"binomial\")\n",
    "# You may see a warning message - suspicious, but we will just ignore this\n",
    "summary(TweetLog)\n",
    "\n",
    "# Predictions on test set\n",
    "PredictLog = predict(TweetLog, newdata = TweetsTest, type = \"response\")\n",
    "table(TweetsTest$Negative, PredictLog > 0.5)\n",
    "tableAccuracy(TweetsTest$Negative, PredictLog > 0.5)\n",
    "# Not as good as CART or RF\n",
    "\n",
    "# But what about training set?\n",
    "PredictLogTrain = predict(TweetLog, type = \"response\")\n",
    "table(TweetsTrain$Negative, PredictLogTrain > 0.5)\n",
    "tableAccuracy(TweetsTrain$Negative, PredictLogTrain > 0.5)\n",
    "\n",
    "# What about CART on training set?\n",
    "PredictCARTTrain = predict(mod.cart, type = \"class\")\n",
    "table(TweetsTrain$Negative, PredictCARTTrain)\n",
    "tableAccuracy(TweetsTrain$Negative, PredictCARTTrain)\n",
    "# Quite similar to test set performance\n",
    "\n",
    "\n",
    "# Let's do stepwise regression\n",
    "# WARNING: this took ~20 mins\n",
    "TweetStepLog = step(TweetLog, direction = \"backward\")\n",
    "summary(TweetStepLog)\n",
    "length(TweetStepLog$coefficients)\n",
    "# may want to manually prune beyond this point...\n",
    "\n",
    "PredictStepLog = predict(TweetStepLog, newdata = TweetsTest, type = \"response\")\n",
    "table(TweetsTest$Negative, PredictStepLog > 0.5)\n",
    "tableAccuracy(TweetsTest$Negative, PredictStepLog > 0.5)\n",
    "\n",
    "\n",
    "# Boosting\n",
    "tGrid = expand.grid(n.trees = (1:100)*50, interaction.depth = c(1,2,4,6,8,10,12,14,16),\n",
    "                    shrinkage = 0.01, n.minobsinnode = 10)\n",
    "\n",
    "set.seed(232)\n",
    "# WARNING: this took me ~1 hour\n",
    "train.boost <- train(Negative ~ .,\n",
    "                     data = TweetsTrain,\n",
    "                     method = \"gbm\",\n",
    "                     tuneGrid = tGrid,\n",
    "                     trControl = trainControl(method=\"cv\", number=5, verboseIter = TRUE),\n",
    "                     metric = \"Accuracy\",\n",
    "                     distribution = \"bernoulli\")\n",
    "train.boost\n",
    "train.boost$results\n",
    "\n",
    "ggplot(train.boost$results, aes(x = n.trees, y = Accuracy, colour = as.factor(interaction.depth))) + geom_line() + \n",
    "  ylab(\"CV Accuracy\") + theme_bw() + theme(axis.title=element_text(size=18), axis.text=element_text(size=18)) + \n",
    "  scale_color_discrete(name = \"interaction.depth\")\n",
    "\n",
    "mod.boost = train.boost$finalModel\n",
    "\n",
    "TweetsTest.mm = as.data.frame(model.matrix(Negative ~ . +0, data = TweetsTest))\n",
    "predict.boost = predict(mod.boost, newdata = TweetsTest.mm, n.trees = 4100, type = \"response\")\n",
    "table(TweetsTest$Negative, predict.boost < 0.5) # for some reason the probabilities are flipped in gbm\n",
    "tableAccuracy(TweetsTest$Negative, predict.boost < 0.5)\n",
    "\n",
    "\n",
    "# Linear Discriminant Analysis\n",
    "# Normally distributed features?\n",
    "library(MASS)\n",
    "lda.mod = lda(Negative ~ ., data = TweetsTrain)\n",
    "\n",
    "predict.lda = predict(lda.mod, newdata = TweetsTest)$class\n",
    "table(TweetsTest$Negative, predict.lda)\n",
    "tableAccuracy(TweetsTest$Negative, predict.lda)\n"
   ]
  }
 ],
 "metadata": {
  "kernelspec": {
   "display_name": "Python 3",
   "language": "python",
   "name": "python3"
  },
  "language_info": {
   "codemirror_mode": {
    "name": "ipython",
    "version": 3
   },
   "file_extension": ".py",
   "mimetype": "text/x-python",
   "name": "python",
   "nbconvert_exporter": "python",
   "pygments_lexer": "ipython3",
   "version": "3.6.9"
  }
 },
 "nbformat": 4,
 "nbformat_minor": 4
}
